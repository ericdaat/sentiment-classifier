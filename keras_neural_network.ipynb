{
 "cells": [
  {
   "cell_type": "markdown",
   "metadata": {},
   "source": [
    "# Sentiment Classifier with Keras"
   ]
  },
  {
   "cell_type": "markdown",
   "metadata": {},
   "source": [
    "## Reading Dataset and making matrices"
   ]
  },
  {
   "cell_type": "code",
   "execution_count": 129,
   "metadata": {},
   "outputs": [
    {
     "name": "stdout",
     "output_type": "stream",
     "text": [
      "(25000, 1000) (25000, 1)\n",
      "(25000, 1000) (25000, 1)\n"
     ]
    }
   ],
   "source": [
    "import glob\n",
    "import os\n",
    "import numpy as np\n",
    "import re\n",
    "\n",
    "\n",
    "class DocumentReader(object):\n",
    "    def __init__(self, path):\n",
    "        self.path_ = path\n",
    "        \n",
    "    def __len__(self):\n",
    "        return len([_ for _ in glob.glob(os.path.join(self.path_,\n",
    "                                                      '*.txt'))])\n",
    "        \n",
    "    def __iter__(self):\n",
    "        for f in glob.glob(os.path.join(self.path_,\n",
    "                                        '*.txt')):\n",
    "            yield open(f, 'r').read()\n",
    "\n",
    "def parse_text(text):\n",
    "    # preprocessing\n",
    "    text = text.lower().strip()  # lowercase \n",
    "    text = re.sub('[0-9]*', 'num', text)  # replace numbers\n",
    "    \n",
    "    return text\n",
    "\n",
    "\n",
    "def documents_to_matrix(document_reader,\n",
    "                        voc_size=50000,\n",
    "                        seq_max_len=1000):\n",
    "    sequences = []\n",
    "    for text in document_reader:\n",
    "        text = parse_text(text)\n",
    "        text = one_hot(text, voc_size)\n",
    "        sequences.append(text)\n",
    "    \n",
    "    # padding sequences\n",
    "    X = pad_sequences(np.asarray(sequences),\n",
    "                      maxlen=seq_max_len,\n",
    "                      padding='post')\n",
    "    \n",
    "    return X\n",
    "\n",
    "\n",
    "def make_X_and_y(pos_reader, neg_reader):\n",
    "    X = np.vstack([documents_to_matrix(pos_reader),\n",
    "                   documents_to_matrix(neg_reader)])\n",
    "\n",
    "    y = np.vstack([np.ones(len(train_pos_reader)).reshape(-1, 1),\n",
    "                   np.zeros(len(train_neg_reader)).reshape(-1, 1)])\n",
    "    \n",
    "    rand_indices = np.random.permutation(X.shape[0])\n",
    "    \n",
    "    X = X[rand_indices]\n",
    "    y = y[rand_indices]\n",
    "    \n",
    "    return X, y\n",
    "\n",
    "\n",
    "train_pos_reader = DocumentReader('aclImdb/train/pos/')\n",
    "train_neg_reader = DocumentReader('aclImdb/train/neg/')\n",
    "test_pos_reader = DocumentReader('aclImdb/test/pos/')\n",
    "test_neg_reader = DocumentReader('aclImdb/test/neg/')\n",
    "\n",
    "X_train, y_train = make_X_and_y(train_pos_reader,\n",
    "                                train_neg_reader)\n",
    "\n",
    "X_test, y_test = make_X_and_y(test_pos_reader,\n",
    "                              test_neg_reader)\n",
    "\n",
    "print X_train.shape, y_train.shape\n",
    "print X_test.shape, y_test.shape"
   ]
  },
  {
   "cell_type": "markdown",
   "metadata": {},
   "source": [
    "## Neural Network Models"
   ]
  },
  {
   "cell_type": "code",
   "execution_count": 131,
   "metadata": {},
   "outputs": [],
   "source": [
    "from keras.models import Sequential\n",
    "from keras.layers import Dense, Embedding, Dropout, Flatten\n",
    "from keras.utils import to_categorical\n",
    "from keras.callbacks import History\n",
    "from keras.preprocessing.text import one_hot\n",
    "from keras.preprocessing.sequence import pad_sequences"
   ]
  },
  {
   "cell_type": "markdown",
   "metadata": {},
   "source": [
    "### Multi Layer Perceptron with Embedding Layer"
   ]
  },
  {
   "cell_type": "code",
   "execution_count": 132,
   "metadata": {},
   "outputs": [
    {
     "name": "stdout",
     "output_type": "stream",
     "text": [
      "Train on 25000 samples, validate on 25000 samples\n",
      "Epoch 1/1\n",
      "25000/25000 [==============================] - 151s 6ms/step - loss: 0.4504 - acc: 0.7642 - val_loss: 0.3345 - val_acc: 0.8524\n"
     ]
    },
    {
     "data": {
      "text/plain": [
       "<keras.callbacks.History at 0x7f6c28c0df50>"
      ]
     },
     "execution_count": 132,
     "metadata": {},
     "output_type": "execute_result"
    }
   ],
   "source": [
    "model = Sequential()\n",
    "model.add(Embedding(input_dim=50000,\n",
    "                    input_length=1000,\n",
    "                    output_dim=64))\n",
    "model.add(Flatten())\n",
    "model.add(Dense(128, activation='relu'))\n",
    "model.add(Dropout(0.2))\n",
    "model.add(Dense(128, activation='relu'))\n",
    "model.add(Dropout(0.2))\n",
    "model.add(Dense(128, activation='relu'))\n",
    "model.add(Dropout(0.2))\n",
    "model.add(Dense(1, activation='sigmoid'))\n",
    "\n",
    "model.compile(loss='binary_crossentropy',\n",
    "              optimizer='adam',\n",
    "              metrics=['accuracy'])\n",
    "\n",
    "history = History()\n",
    "\n",
    "model.fit(x=X_train,\n",
    "          y=y_train,\n",
    "          validation_data=(X_test,\n",
    "                           y_test),\n",
    "          epochs=1,\n",
    "          callbacks=[history])"
   ]
  }
 ],
 "metadata": {
  "kernelspec": {
   "display_name": "Python 2",
   "language": "python",
   "name": "python2"
  },
  "language_info": {
   "codemirror_mode": {
    "name": "ipython",
    "version": 2
   },
   "file_extension": ".py",
   "mimetype": "text/x-python",
   "name": "python",
   "nbconvert_exporter": "python",
   "pygments_lexer": "ipython2",
   "version": "2.7.12"
  }
 },
 "nbformat": 4,
 "nbformat_minor": 2
}
