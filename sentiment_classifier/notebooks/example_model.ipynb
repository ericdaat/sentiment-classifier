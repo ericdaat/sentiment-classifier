{
 "cells": [
  {
   "cell_type": "markdown",
   "metadata": {},
   "source": [
    "# IMDB Sentiment Classifier"
   ]
  },
  {
   "cell_type": "code",
   "execution_count": 1,
   "metadata": {},
   "outputs": [],
   "source": [
    "import sys\n",
    "\n",
    "sys.path.append(\"/Users/eric/Code/sentiment-classifier\")"
   ]
  },
  {
   "cell_type": "code",
   "execution_count": 40,
   "metadata": {},
   "outputs": [],
   "source": [
    "import logging\n",
    "import tensorflow as tf\n",
    "\n",
    "from sentiment_classifier.nlp.reader import IMDBReader\n",
    "from sentiment_classifier.nlp.preprocessing import clean_text\n",
    "from sentiment_classifier.nlp.models import Model\n",
    "from sentiment_classifier.nlp.tokenizer import KerasTokenizer\n",
    "from sentiment_classifier.nlp.utils import load_word_vectors\n",
    "\n",
    "logging.basicConfig(level=logging.INFO)"
   ]
  },
  {
   "cell_type": "markdown",
   "metadata": {},
   "source": [
    "## Preparing Data"
   ]
  },
  {
   "cell_type": "markdown",
   "metadata": {},
   "source": [
    "### Preprocessing"
   ]
  },
  {
   "cell_type": "code",
   "execution_count": 3,
   "metadata": {},
   "outputs": [
    {
     "name": "stdout",
     "output_type": "stream",
     "text": [
      "Hi there ,  I loved this movie !\n"
     ]
    }
   ],
   "source": [
    "# Text cleaning function\n",
    "input_sequence = \"Hi there, I loved this movie! <br>\"\n",
    "cleaned_sequence = clean_text(input_sequence)\n",
    "\n",
    "print(cleaned_sequence)"
   ]
  },
  {
   "cell_type": "markdown",
   "metadata": {},
   "source": [
    "### Loading the dataset"
   ]
  },
  {
   "cell_type": "code",
   "execution_count": 18,
   "metadata": {},
   "outputs": [],
   "source": [
    "# Dataset reader\n",
    "imdb = IMDBReader(\"../../data/aclImdb/\")\n",
    "\n",
    "imdb.load_dataset(\n",
    "    preprocessing_function=clean_text,\n",
    "    limit=5000\n",
    ")"
   ]
  },
  {
   "cell_type": "code",
   "execution_count": 19,
   "metadata": {},
   "outputs": [
    {
     "name": "stdout",
     "output_type": "stream",
     "text": [
      "(10000, 2) (10000, 2)\n"
     ]
    }
   ],
   "source": [
    "print(imdb.train_data.shape, imdb.test_data.shape)"
   ]
  },
  {
   "cell_type": "markdown",
   "metadata": {},
   "source": [
    "### Tokenizing the dataset"
   ]
  },
  {
   "cell_type": "code",
   "execution_count": 6,
   "metadata": {},
   "outputs": [],
   "source": [
    "# Getting a Tokenizer\n",
    "tokenizer = KerasTokenizer(\n",
    "    pad_max_len=20,\n",
    "    lower=True\n",
    ")"
   ]
  },
  {
   "cell_type": "code",
   "execution_count": 7,
   "metadata": {},
   "outputs": [
    {
     "name": "stdout",
     "output_type": "stream",
     "text": [
      "[[0 0 0 0 0 0 0 0 0 0 0 0 1 2 3 4 5 6 7 8]]\n",
      "20\n",
      "{'hi': 1, 'there': 2, ',': 3, 'i': 4, 'loved': 5, 'this': 6, 'movie': 7, '!': 8}\n"
     ]
    }
   ],
   "source": [
    "# Toy example\n",
    "tokenizer.fit([cleaned_sequence])\n",
    "\n",
    "tokenized_sequences = tokenizer.transform([cleaned_sequence])\n",
    "\n",
    "print(tokenized_sequences)\n",
    "print(len(tokenized_sequences[0]))\n",
    "print(tokenizer.tokenizer.word_index)"
   ]
  },
  {
   "cell_type": "markdown",
   "metadata": {},
   "source": [
    "## Building a model"
   ]
  },
  {
   "cell_type": "code",
   "execution_count": 44,
   "metadata": {},
   "outputs": [],
   "source": [
    "class ExampleModel(Model):\n",
    "    def __init__(self):\n",
    "        super(ExampleModel, self).__init__()\n",
    "        \n",
    "        self.tokenizer = KerasTokenizer(\n",
    "            pad_max_len=512,\n",
    "            lower=True\n",
    "        )\n",
    "\n",
    "    def build_model(self, input_shape):\n",
    "        word_vectors = load_word_vectors(\n",
    "            filepath=\"../../data/wiki-news-300d-1M.vec\",\n",
    "            word_index=self.tokenizer.tokenizer.word_index,\n",
    "            vector_size=300\n",
    "        )\n",
    "        \n",
    "        model = tf.keras.Sequential([\n",
    "            tf.keras.layers.Embedding(\n",
    "                word_vectors.shape[0],\n",
    "                word_vectors.shape[1],\n",
    "                weights=[word_vectors],\n",
    "                trainable=False\n",
    "            ),\n",
    "            tf.keras.layers.GlobalAveragePooling1D(),\n",
    "            tf.keras.layers.Dense(128, activation=tf.nn.relu),\n",
    "            tf.keras.layers.Dense(64, activation=tf.nn.relu),\n",
    "            tf.keras.layers.Dense(16, activation=tf.nn.relu),\n",
    "            tf.keras.layers.Dense(1, activation=tf.nn.sigmoid)\n",
    "        ])\n",
    "        \n",
    "        return model\n",
    "\n",
    "    def train(self, reader, filepath):\n",
    "        x_train, x_test, y_train, y_test = self._make_training_data(reader)\n",
    "\n",
    "        self.model = self.build_model(input_shape=x_train.shape[1])\n",
    "\n",
    "        self.model.compile(loss=\"binary_crossentropy\",\n",
    "                           optimizer=\"adam\",\n",
    "                           metrics=[\"accuracy\"])\n",
    "        \n",
    "        self.model.summary()\n",
    "        \n",
    "        print(\"\\nTraining\")\n",
    "        \n",
    "        self.model.fit(x=x_train,\n",
    "                       y=y_train,\n",
    "                       validation_split=0.1,\n",
    "                       epochs=5)\n",
    "        \n",
    "        print(\"\\nEvaluate on test data\")\n",
    "        \n",
    "        self.model.evaluate(x_test, y_test)\n",
    "\n",
    "        self.save(filepath)"
   ]
  },
  {
   "cell_type": "code",
   "execution_count": 45,
   "metadata": {},
   "outputs": [],
   "source": [
    "model = ExampleModel()"
   ]
  },
  {
   "cell_type": "code",
   "execution_count": 46,
   "metadata": {},
   "outputs": [
    {
     "name": "stdout",
     "output_type": "stream",
     "text": [
      "_________________________________________________________________\n",
      "Layer (type)                 Output Shape              Param #   \n",
      "=================================================================\n",
      "embedding_10 (Embedding)     (None, None, 300)         18293700  \n",
      "_________________________________________________________________\n",
      "global_average_pooling1d_10  (None, 300)               0         \n",
      "_________________________________________________________________\n",
      "dense_28 (Dense)             (None, 128)               38528     \n",
      "_________________________________________________________________\n",
      "dense_29 (Dense)             (None, 64)                8256      \n",
      "_________________________________________________________________\n",
      "dense_30 (Dense)             (None, 16)                1040      \n",
      "_________________________________________________________________\n",
      "dense_31 (Dense)             (None, 1)                 17        \n",
      "=================================================================\n",
      "Total params: 18,341,541\n",
      "Trainable params: 47,841\n",
      "Non-trainable params: 18,293,700\n",
      "_________________________________________________________________\n",
      "\n",
      "Training\n",
      "Train on 9000 samples, validate on 1000 samples\n",
      "Epoch 1/5\n",
      "9000/9000 [==============================] - 2s 217us/sample - loss: 0.5934 - acc: 0.6779 - val_loss: 0.4606 - val_acc: 0.8020\n",
      "Epoch 2/5\n",
      "9000/9000 [==============================] - 2s 183us/sample - loss: 0.4144 - acc: 0.8300 - val_loss: 0.3781 - val_acc: 0.8490\n",
      "Epoch 3/5\n",
      "9000/9000 [==============================] - 1s 161us/sample - loss: 0.3785 - acc: 0.8427 - val_loss: 0.3849 - val_acc: 0.8380\n",
      "Epoch 4/5\n",
      "9000/9000 [==============================] - 1s 156us/sample - loss: 0.3617 - acc: 0.8522 - val_loss: 0.3580 - val_acc: 0.8500\n",
      "Epoch 5/5\n",
      "9000/9000 [==============================] - 1s 156us/sample - loss: 0.3610 - acc: 0.8492 - val_loss: 0.3351 - val_acc: 0.8730\n",
      "\n",
      "Evaluate on test data\n",
      "10000/10000 [==============================] - 1s 129us/sample - loss: 0.3620 - acc: 0.8434\n"
     ]
    }
   ],
   "source": [
    "model.train(reader=imdb, filepath=\"/tmp/\")"
   ]
  },
  {
   "cell_type": "code",
   "execution_count": null,
   "metadata": {},
   "outputs": [],
   "source": []
  }
 ],
 "metadata": {
  "kernelspec": {
   "display_name": "data",
   "language": "python",
   "name": "data"
  },
  "language_info": {
   "codemirror_mode": {
    "name": "ipython",
    "version": 3
   },
   "file_extension": ".py",
   "mimetype": "text/x-python",
   "name": "python",
   "nbconvert_exporter": "python",
   "pygments_lexer": "ipython3",
   "version": "3.7.3"
  }
 },
 "nbformat": 4,
 "nbformat_minor": 2
}
