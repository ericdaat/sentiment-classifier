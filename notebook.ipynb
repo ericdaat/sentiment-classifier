{
 "cells": [
  {
   "cell_type": "markdown",
   "metadata": {},
   "source": [
    "# Sentiment analysis on IMDB large movie review dataset\n",
    "\n",
    "Get the dataset from [here](http://ai.stanford.edu/~amaas/data/sentiment/)"
   ]
  },
  {
   "cell_type": "code",
   "execution_count": 2,
   "metadata": {},
   "outputs": [
    {
     "name": "stderr",
     "output_type": "stream",
     "text": [
      "Using TensorFlow backend.\n"
     ]
    }
   ],
   "source": [
    "from glob import glob\n",
    "import pandas as pd\n",
    "import io\n",
    "import numpy as np\n",
    "import re\n",
    "from IPython.display import SVG\n",
    "\n",
    "from keras import models, layers\n",
    "from keras import backend as K\n",
    "from keras.preprocessing.text import Tokenizer\n",
    "from keras.preprocessing.sequence import pad_sequences\n",
    "from keras.utils import plot_model\n",
    "from keras.utils.vis_utils import model_to_dot\n",
    "from keras.models import load_model\n",
    "import pickle\n",
    "\n",
    "import os\n",
    "os.environ[\"CUDA_DEVICE_ORDER\"] = \"PCI_BUS_ID\"   # see issue #152\n",
    "os.environ[\"CUDA_VISIBLE_DEVICES\"] = \"\""
   ]
  },
  {
   "cell_type": "code",
   "execution_count": 2,
   "metadata": {},
   "outputs": [],
   "source": [
    "def parse_text(text):\n",
    "    text = text.strip()\n",
    "    # remove html\n",
    "    text = re.sub(string=text, pattern=r\"<[^>]*>\", repl=\"\")\n",
    "    # add spaces between special characters\n",
    "    text = re.sub(string=text,\n",
    "                  pattern=r\"([$&+,:;=?@#|\\\"<>.^*()%!-])\",\n",
    "                  repl=r\" \\1 \")\n",
    "    return text\n",
    "\n",
    "def read_and_append_files(folder, label):\n",
    "    texts = []\n",
    "    for file in glob('data/aclImdb/{0}/*.txt'.format(folder)):\n",
    "        with open(file, 'r') as f:\n",
    "            text = f.read()\n",
    "            text = parse_text(text)\n",
    "            texts.append((text, label))\n",
    "            \n",
    "    return texts\n",
    "\n",
    "def make_df(pos, neg):\n",
    "    df = pd.concat([pd.DataFrame(pos),\n",
    "                    pd.DataFrame(neg)])\\\n",
    "           .sample(frac=1)\\\n",
    "           .reset_index(drop=True)\n",
    "    df.columns = ['review', 'label']\n",
    "    \n",
    "    return df"
   ]
  },
  {
   "cell_type": "code",
   "execution_count": 3,
   "metadata": {},
   "outputs": [],
   "source": [
    "train_pos = read_and_append_files('train/pos', 1)\n",
    "train_neg = read_and_append_files('train/neg', 0)\n",
    "\n",
    "test_pos = read_and_append_files('test/pos', 1)\n",
    "test_neg = read_and_append_files('test/neg', 0)"
   ]
  },
  {
   "cell_type": "code",
   "execution_count": 4,
   "metadata": {},
   "outputs": [],
   "source": [
    "train_df = make_df(train_pos, train_neg)\n",
    "test_df = make_df(test_pos, test_neg)"
   ]
  },
  {
   "cell_type": "code",
   "execution_count": 5,
   "metadata": {},
   "outputs": [
    {
     "data": {
      "text/html": [
       "<div>\n",
       "<style scoped>\n",
       "    .dataframe tbody tr th:only-of-type {\n",
       "        vertical-align: middle;\n",
       "    }\n",
       "\n",
       "    .dataframe tbody tr th {\n",
       "        vertical-align: top;\n",
       "    }\n",
       "\n",
       "    .dataframe thead th {\n",
       "        text-align: right;\n",
       "    }\n",
       "</style>\n",
       "<table border=\"1\" class=\"dataframe\">\n",
       "  <thead>\n",
       "    <tr style=\"text-align: right;\">\n",
       "      <th></th>\n",
       "      <th>review</th>\n",
       "      <th>label</th>\n",
       "    </tr>\n",
       "  </thead>\n",
       "  <tbody>\n",
       "    <tr>\n",
       "      <th>0</th>\n",
       "      <td>Let me be clear .  I've used IMDb for years . ...</td>\n",
       "      <td>0</td>\n",
       "    </tr>\n",
       "    <tr>\n",
       "      <th>1</th>\n",
       "      <td>Though not a fan of Sam Rockwell ,  I was surp...</td>\n",
       "      <td>0</td>\n",
       "    </tr>\n",
       "    <tr>\n",
       "      <th>2</th>\n",
       "      <td>OK ,  I have been a huge fan of the Black for ...</td>\n",
       "      <td>0</td>\n",
       "    </tr>\n",
       "    <tr>\n",
       "      <th>3</th>\n",
       "      <td>What else can you say about this movie , excep...</td>\n",
       "      <td>0</td>\n",
       "    </tr>\n",
       "    <tr>\n",
       "      <th>4</th>\n",
       "      <td>Yes ,  even as a fan of shows like survivor an...</td>\n",
       "      <td>0</td>\n",
       "    </tr>\n",
       "  </tbody>\n",
       "</table>\n",
       "</div>"
      ],
      "text/plain": [
       "                                              review  label\n",
       "0  Let me be clear .  I've used IMDb for years . ...      0\n",
       "1  Though not a fan of Sam Rockwell ,  I was surp...      0\n",
       "2  OK ,  I have been a huge fan of the Black for ...      0\n",
       "3  What else can you say about this movie , excep...      0\n",
       "4  Yes ,  even as a fan of shows like survivor an...      0"
      ]
     },
     "execution_count": 5,
     "metadata": {},
     "output_type": "execute_result"
    }
   ],
   "source": [
    "train_df.head()"
   ]
  },
  {
   "cell_type": "code",
   "execution_count": 6,
   "metadata": {},
   "outputs": [
    {
     "data": {
      "text/html": [
       "<div>\n",
       "<style scoped>\n",
       "    .dataframe tbody tr th:only-of-type {\n",
       "        vertical-align: middle;\n",
       "    }\n",
       "\n",
       "    .dataframe tbody tr th {\n",
       "        vertical-align: top;\n",
       "    }\n",
       "\n",
       "    .dataframe thead th {\n",
       "        text-align: right;\n",
       "    }\n",
       "</style>\n",
       "<table border=\"1\" class=\"dataframe\">\n",
       "  <thead>\n",
       "    <tr style=\"text-align: right;\">\n",
       "      <th></th>\n",
       "      <th>review</th>\n",
       "      <th>label</th>\n",
       "    </tr>\n",
       "  </thead>\n",
       "  <tbody>\n",
       "    <tr>\n",
       "      <th>0</th>\n",
       "      <td>The Merchant of Venice is a fantastic movie . ...</td>\n",
       "      <td>1</td>\n",
       "    </tr>\n",
       "    <tr>\n",
       "      <th>1</th>\n",
       "      <td>Film noir at its best .  Set in the immediate ...</td>\n",
       "      <td>1</td>\n",
       "    </tr>\n",
       "    <tr>\n",
       "      <th>2</th>\n",
       "      <td>Ah ,  another movie with motorcycles ,  hell's...</td>\n",
       "      <td>0</td>\n",
       "    </tr>\n",
       "    <tr>\n",
       "      <th>3</th>\n",
       "      <td>I have watched this movie quite bemused .  I a...</td>\n",
       "      <td>0</td>\n",
       "    </tr>\n",
       "    <tr>\n",
       "      <th>4</th>\n",
       "      <td>I once had a conversation with my parents who ...</td>\n",
       "      <td>0</td>\n",
       "    </tr>\n",
       "  </tbody>\n",
       "</table>\n",
       "</div>"
      ],
      "text/plain": [
       "                                              review  label\n",
       "0  The Merchant of Venice is a fantastic movie . ...      1\n",
       "1  Film noir at its best .  Set in the immediate ...      1\n",
       "2  Ah ,  another movie with motorcycles ,  hell's...      0\n",
       "3  I have watched this movie quite bemused .  I a...      0\n",
       "4  I once had a conversation with my parents who ...      0"
      ]
     },
     "execution_count": 6,
     "metadata": {},
     "output_type": "execute_result"
    }
   ],
   "source": [
    "test_df.head()"
   ]
  },
  {
   "cell_type": "markdown",
   "metadata": {},
   "source": [
    "## Embeddings\n",
    "\n",
    "I use [Fast Text pre trained embeddings](https://fasttext.cc/docs/en/english-vectors.html)."
   ]
  },
  {
   "cell_type": "code",
   "execution_count": 7,
   "metadata": {},
   "outputs": [],
   "source": [
    "t = Tokenizer(lower=False, filters='\\t\\n')\n",
    "t.fit_on_texts(train_df['review'])"
   ]
  },
  {
   "cell_type": "code",
   "execution_count": 47,
   "metadata": {},
   "outputs": [],
   "source": [
    "def load_vectors(fname, word_index):\n",
    "    embedding_matrix = np.zeros((len(word_index) + 1, 300))\n",
    "    \n",
    "    fin = io.open(fname, 'r', encoding='utf-8', newline='\\n', errors='ignore')\n",
    "    n, d = map(int, fin.readline().split())\n",
    "\n",
    "    for line in fin:\n",
    "        tokens = line.rstrip().split(' ')\n",
    "        if tokens[0] in word_index:\n",
    "            w = word_index[tokens[0]]\n",
    "            embedding_matrix[w] = np.fromiter(map(float, tokens[1:]), 'float')\n",
    "    \n",
    "    return embedding_matrix"
   ]
  },
  {
   "cell_type": "code",
   "execution_count": 48,
   "metadata": {},
   "outputs": [
    {
     "name": "stdout",
     "output_type": "stream",
     "text": [
      "CPU times: user 49.6 s, sys: 4.71 s, total: 54.3 s\n",
      "Wall time: 1min 19s\n"
     ]
    }
   ],
   "source": [
    "%time vectors = load_vectors('data/wiki-news-300d-1M.vec', t.word_index)"
   ]
  },
  {
   "cell_type": "code",
   "execution_count": 49,
   "metadata": {},
   "outputs": [
    {
     "data": {
      "text/plain": [
       "(113252, 300)"
      ]
     },
     "execution_count": 49,
     "metadata": {},
     "output_type": "execute_result"
    }
   ],
   "source": [
    "vectors.shape"
   ]
  },
  {
   "cell_type": "markdown",
   "metadata": {},
   "source": [
    "## Machine Learning with Keras"
   ]
  },
  {
   "cell_type": "code",
   "execution_count": 8,
   "metadata": {},
   "outputs": [],
   "source": [
    "x_train = t.texts_to_matrix(train_df['review'])\n",
    "y_train = train_df['label']\n",
    "\n",
    "x_test = t.texts_to_matrix(test_df['review'])\n",
    "y_test = test_df['label']"
   ]
  },
  {
   "cell_type": "code",
   "execution_count": 9,
   "metadata": {},
   "outputs": [
    {
     "data": {
      "text/plain": [
       "((25000, 113252), (25000,), (25000, 113252), (25000,))"
      ]
     },
     "execution_count": 9,
     "metadata": {},
     "output_type": "execute_result"
    }
   ],
   "source": [
    "x_train.shape, y_train.shape, x_test.shape, y_test.shape"
   ]
  },
  {
   "cell_type": "markdown",
   "metadata": {},
   "source": [
    "### Logistic regression"
   ]
  },
  {
   "cell_type": "code",
   "execution_count": 10,
   "metadata": {},
   "outputs": [],
   "source": [
    "i = layers.Input(shape=(x_train.shape[1],))\n",
    "h = layers.Dense(units=1, activation='sigmoid')(i)\n",
    "model = models.Model(inputs=[i], outputs=[h])\n",
    "\n",
    "model.compile(loss='binary_crossentropy',\n",
    "              optimizer='sgd',\n",
    "              metrics=['binary_accuracy'])\n",
    "\n",
    "# SVG(model_to_dot(model, show_shapes=True).create(prog='dot', format='svg'))"
   ]
  },
  {
   "cell_type": "code",
   "execution_count": 21,
   "metadata": {},
   "outputs": [
    {
     "name": "stdout",
     "output_type": "stream",
     "text": [
      "Train on 25000 samples, validate on 25000 samples\n",
      "Epoch 1/1\n",
      "25000/25000 [==============================] - 102s 4ms/step - loss: 0.4656 - binary_accuracy: 0.8327 - val_loss: 0.4472 - val_binary_accuracy: 0.8328\n"
     ]
    },
    {
     "data": {
      "text/plain": [
       "<keras.callbacks.History at 0x12690fcc0>"
      ]
     },
     "execution_count": 21,
     "metadata": {},
     "output_type": "execute_result"
    }
   ],
   "source": [
    "model.fit(x=x_train,\n",
    "          y=y_train,\n",
    "          validation_data=(x_test, y_test),\n",
    "          epochs=1)"
   ]
  },
  {
   "cell_type": "markdown",
   "metadata": {},
   "source": [
    "### Averaging Embeddings"
   ]
  },
  {
   "cell_type": "code",
   "execution_count": 44,
   "metadata": {},
   "outputs": [],
   "source": [
    "x_train = pad_sequences(t.texts_to_sequences(train_df['review']), maxlen=1000)\n",
    "y_train = train_df['label']\n",
    "\n",
    "x_test = pad_sequences(t.texts_to_sequences(test_df['review']), maxlen=1000)\n",
    "y_test = test_df['label']"
   ]
  },
  {
   "cell_type": "code",
   "execution_count": 45,
   "metadata": {},
   "outputs": [
    {
     "data": {
      "text/plain": [
       "((25000, 1000), (25000,), (25000, 1000), (25000,))"
      ]
     },
     "execution_count": 45,
     "metadata": {},
     "output_type": "execute_result"
    }
   ],
   "source": [
    "x_train.shape, y_train.shape, x_test.shape, y_test.shape"
   ]
  },
  {
   "cell_type": "code",
   "execution_count": null,
   "metadata": {},
   "outputs": [],
   "source": [
    "i = layers.Input(shape=(x_train.shape[1],))\n",
    "\n",
    "embedding_layer = layers.Embedding(input_dim=vectors.shape[0],\n",
    "                                   output_dim=vectors.shape[1],\n",
    "                                   weights=[vectors],\n",
    "                                   trainable=False)\n",
    "\n",
    "h = embedding_layer(i)\n",
    "h = layers.Lambda(lambda r: K.mean(r, axis=1))(h)\n",
    "h = layers.Dense(128, activation='relu')(h)\n",
    "h = layers.Dense(1, activation='sigmoid')(h)\n",
    "\n",
    "model = models.Model(inputs=[i], outputs=[h])\n",
    "\n",
    "model.compile(loss='binary_crossentropy',\n",
    "              optimizer='adam',\n",
    "              metrics=['binary_accuracy'])\n",
    "\n",
    "SVG(model_to_dot(model, show_shapes=True).create(prog='dot', format='svg'))"
   ]
  },
  {
   "cell_type": "code",
   "execution_count": null,
   "metadata": {},
   "outputs": [],
   "source": [
    "model.fit(x=x_train,\n",
    "          y=y_train,\n",
    "          validation_data=(x_test, y_test),\n",
    "          epochs=2)"
   ]
  },
  {
   "cell_type": "markdown",
   "metadata": {},
   "source": [
    "### Embeddings and GRU"
   ]
  },
  {
   "cell_type": "code",
   "execution_count": null,
   "metadata": {},
   "outputs": [],
   "source": [
    "i = layers.Input(shape=(x_train.shape[1],))\n",
    "\n",
    "embedding_layer = layers.Embedding(input_dim=vectors.shape[0],\n",
    "                                   output_dim=vectors.shape[1],\n",
    "                                   weights=[vectors],\n",
    "                                   trainable=False)\n",
    "\n",
    "h = embedding_layer(i)\n",
    "h = layers.GRU(128)(h)\n",
    "h = layers.Dense(1, activation='sigmoid')(h)\n",
    "\n",
    "model = models.Model(inputs=[i], outputs=[h])\n",
    "\n",
    "model.compile(loss='binary_crossentropy',\n",
    "              optimizer='adam',\n",
    "              metrics=['binary_accuracy'])\n",
    "\n",
    "SVG(model_to_dot(model, show_shapes=True).create(prog='dot', format='svg'))"
   ]
  },
  {
   "cell_type": "code",
   "execution_count": null,
   "metadata": {},
   "outputs": [],
   "source": [
    "model.fit(x=x_train,\n",
    "          y=y_train,\n",
    "          validation_data=(x_test, y_test),\n",
    "          epochs=2)"
   ]
  },
  {
   "cell_type": "markdown",
   "metadata": {},
   "source": [
    "### Embeddings and CNN"
   ]
  },
  {
   "cell_type": "code",
   "execution_count": 50,
   "metadata": {},
   "outputs": [
    {
     "name": "stdout",
     "output_type": "stream",
     "text": [
      "WARNING:tensorflow:From /Users/eric/Code/virtualenvs/data3/lib/python3.6/site-packages/tensorflow/python/util/deprecation.py:497: calling conv1d (from tensorflow.python.ops.nn_ops) with data_format=NHWC is deprecated and will be removed in a future version.\n",
      "Instructions for updating:\n",
      "`NHWC` for data_format is deprecated, use `NWC` instead\n"
     ]
    },
    {
     "data": {
      "image/svg+xml": [
       "<svg height=\"701pt\" viewBox=\"0.00 0.00 755.93 701.00\" width=\"756pt\" xmlns=\"http://www.w3.org/2000/svg\" xmlns:xlink=\"http://www.w3.org/1999/xlink\">\n",
       "<g class=\"graph\" id=\"graph0\" transform=\"scale(1 1) rotate(0) translate(4 697)\">\n",
       "<title>G</title>\n",
       "<polygon fill=\"#ffffff\" points=\"-4,4 -4,-697 751.9277,-697 751.9277,4 -4,4\" stroke=\"transparent\"/>\n",
       "<!-- 4936044616 -->\n",
       "<g class=\"node\" id=\"node1\">\n",
       "<title>4936044616</title>\n",
       "<polygon fill=\"none\" points=\"236.124,-648.5 236.124,-692.5 510.8037,-692.5 510.8037,-648.5 236.124,-648.5\" stroke=\"#000000\"/>\n",
       "<text fill=\"#000000\" font-family=\"Times,serif\" font-size=\"14.00\" text-anchor=\"middle\" x=\"300.3052\" y=\"-666.3\">input_2: InputLayer</text>\n",
       "<polyline fill=\"none\" points=\"364.4863,-648.5 364.4863,-692.5 \" stroke=\"#000000\"/>\n",
       "<text fill=\"#000000\" font-family=\"Times,serif\" font-size=\"14.00\" text-anchor=\"middle\" x=\"392.3208\" y=\"-677.3\">input:</text>\n",
       "<polyline fill=\"none\" points=\"364.4863,-670.5 420.1553,-670.5 \" stroke=\"#000000\"/>\n",
       "<text fill=\"#000000\" font-family=\"Times,serif\" font-size=\"14.00\" text-anchor=\"middle\" x=\"392.3208\" y=\"-655.3\">output:</text>\n",
       "<polyline fill=\"none\" points=\"420.1553,-648.5 420.1553,-692.5 \" stroke=\"#000000\"/>\n",
       "<text fill=\"#000000\" font-family=\"Times,serif\" font-size=\"14.00\" text-anchor=\"middle\" x=\"465.4795\" y=\"-677.3\">(None, 1000)</text>\n",
       "<polyline fill=\"none\" points=\"420.1553,-670.5 510.8037,-670.5 \" stroke=\"#000000\"/>\n",
       "<text fill=\"#000000\" font-family=\"Times,serif\" font-size=\"14.00\" text-anchor=\"middle\" x=\"465.4795\" y=\"-655.3\">(None, 1000)</text>\n",
       "</g>\n",
       "<!-- 4936047304 -->\n",
       "<g class=\"node\" id=\"node2\">\n",
       "<title>4936047304</title>\n",
       "<polygon fill=\"none\" points=\"204.2344,-567.5 204.2344,-611.5 542.6934,-611.5 542.6934,-567.5 204.2344,-567.5\" stroke=\"#000000\"/>\n",
       "<text fill=\"#000000\" font-family=\"Times,serif\" font-size=\"14.00\" text-anchor=\"middle\" x=\"286.3052\" y=\"-585.3\">embedding_1: Embedding</text>\n",
       "<polyline fill=\"none\" points=\"368.376,-567.5 368.376,-611.5 \" stroke=\"#000000\"/>\n",
       "<text fill=\"#000000\" font-family=\"Times,serif\" font-size=\"14.00\" text-anchor=\"middle\" x=\"396.2104\" y=\"-596.3\">input:</text>\n",
       "<polyline fill=\"none\" points=\"368.376,-589.5 424.0449,-589.5 \" stroke=\"#000000\"/>\n",
       "<text fill=\"#000000\" font-family=\"Times,serif\" font-size=\"14.00\" text-anchor=\"middle\" x=\"396.2104\" y=\"-574.3\">output:</text>\n",
       "<polyline fill=\"none\" points=\"424.0449,-567.5 424.0449,-611.5 \" stroke=\"#000000\"/>\n",
       "<text fill=\"#000000\" font-family=\"Times,serif\" font-size=\"14.00\" text-anchor=\"middle\" x=\"483.3691\" y=\"-596.3\">(None, 1000)</text>\n",
       "<polyline fill=\"none\" points=\"424.0449,-589.5 542.6934,-589.5 \" stroke=\"#000000\"/>\n",
       "<text fill=\"#000000\" font-family=\"Times,serif\" font-size=\"14.00\" text-anchor=\"middle\" x=\"483.3691\" y=\"-574.3\">(None, 1000, 300)</text>\n",
       "</g>\n",
       "<!-- 4936044616&#45;&gt;4936047304 -->\n",
       "<g class=\"edge\" id=\"edge1\">\n",
       "<title>4936044616-&gt;4936047304</title>\n",
       "<path d=\"M373.4639,-648.3664C373.4639,-640.1516 373.4639,-630.6579 373.4639,-621.7252\" fill=\"none\" stroke=\"#000000\"/>\n",
       "<polygon fill=\"#000000\" points=\"376.964,-621.6068 373.4639,-611.6068 369.964,-621.6069 376.964,-621.6068\" stroke=\"#000000\"/>\n",
       "</g>\n",
       "<!-- 4936047360 -->\n",
       "<g class=\"node\" id=\"node3\">\n",
       "<title>4936047360</title>\n",
       "<polygon fill=\"none\" points=\"64.2793,-486.5 64.2793,-530.5 364.6484,-530.5 364.6484,-486.5 64.2793,-486.5\" stroke=\"#000000\"/>\n",
       "<text fill=\"#000000\" font-family=\"Times,serif\" font-size=\"14.00\" text-anchor=\"middle\" x=\"127.3052\" y=\"-504.3\">conv1d_1: Conv1D</text>\n",
       "<polyline fill=\"none\" points=\"190.3311,-486.5 190.3311,-530.5 \" stroke=\"#000000\"/>\n",
       "<text fill=\"#000000\" font-family=\"Times,serif\" font-size=\"14.00\" text-anchor=\"middle\" x=\"218.1655\" y=\"-515.3\">input:</text>\n",
       "<polyline fill=\"none\" points=\"190.3311,-508.5 246,-508.5 \" stroke=\"#000000\"/>\n",
       "<text fill=\"#000000\" font-family=\"Times,serif\" font-size=\"14.00\" text-anchor=\"middle\" x=\"218.1655\" y=\"-493.3\">output:</text>\n",
       "<polyline fill=\"none\" points=\"246,-486.5 246,-530.5 \" stroke=\"#000000\"/>\n",
       "<text fill=\"#000000\" font-family=\"Times,serif\" font-size=\"14.00\" text-anchor=\"middle\" x=\"305.3242\" y=\"-515.3\">(None, 1000, 300)</text>\n",
       "<polyline fill=\"none\" points=\"246,-508.5 364.6484,-508.5 \" stroke=\"#000000\"/>\n",
       "<text fill=\"#000000\" font-family=\"Times,serif\" font-size=\"14.00\" text-anchor=\"middle\" x=\"305.3242\" y=\"-493.3\">(None, 996, 3)</text>\n",
       "</g>\n",
       "<!-- 4936047304&#45;&gt;4936047360 -->\n",
       "<g class=\"edge\" id=\"edge2\">\n",
       "<title>4936047304-&gt;4936047360</title>\n",
       "<path d=\"M330.0164,-567.3664C310.561,-557.4551 287.4508,-545.682 267.0295,-535.2787\" fill=\"none\" stroke=\"#000000\"/>\n",
       "<polygon fill=\"#000000\" points=\"268.3579,-532.0275 257.8588,-530.6068 265.1804,-538.2648 268.3579,-532.0275\" stroke=\"#000000\"/>\n",
       "</g>\n",
       "<!-- 4941333504 -->\n",
       "<g class=\"node\" id=\"node4\">\n",
       "<title>4941333504</title>\n",
       "<polygon fill=\"none\" points=\"398.2793,-486.5 398.2793,-530.5 698.6484,-530.5 698.6484,-486.5 398.2793,-486.5\" stroke=\"#000000\"/>\n",
       "<text fill=\"#000000\" font-family=\"Times,serif\" font-size=\"14.00\" text-anchor=\"middle\" x=\"461.3052\" y=\"-504.3\">conv1d_2: Conv1D</text>\n",
       "<polyline fill=\"none\" points=\"524.3311,-486.5 524.3311,-530.5 \" stroke=\"#000000\"/>\n",
       "<text fill=\"#000000\" font-family=\"Times,serif\" font-size=\"14.00\" text-anchor=\"middle\" x=\"552.1655\" y=\"-515.3\">input:</text>\n",
       "<polyline fill=\"none\" points=\"524.3311,-508.5 580,-508.5 \" stroke=\"#000000\"/>\n",
       "<text fill=\"#000000\" font-family=\"Times,serif\" font-size=\"14.00\" text-anchor=\"middle\" x=\"552.1655\" y=\"-493.3\">output:</text>\n",
       "<polyline fill=\"none\" points=\"580,-486.5 580,-530.5 \" stroke=\"#000000\"/>\n",
       "<text fill=\"#000000\" font-family=\"Times,serif\" font-size=\"14.00\" text-anchor=\"middle\" x=\"639.3242\" y=\"-515.3\">(None, 1000, 300)</text>\n",
       "<polyline fill=\"none\" points=\"580,-508.5 698.6484,-508.5 \" stroke=\"#000000\"/>\n",
       "<text fill=\"#000000\" font-family=\"Times,serif\" font-size=\"14.00\" text-anchor=\"middle\" x=\"639.3242\" y=\"-493.3\">(None, 997, 3)</text>\n",
       "</g>\n",
       "<!-- 4936047304&#45;&gt;4941333504 -->\n",
       "<g class=\"edge\" id=\"edge3\">\n",
       "<title>4936047304-&gt;4941333504</title>\n",
       "<path d=\"M421.2834,-567.3664C442.986,-557.3212 468.8205,-545.3635 491.5181,-534.8577\" fill=\"none\" stroke=\"#000000\"/>\n",
       "<polygon fill=\"#000000\" points=\"493.0973,-537.9836 500.7022,-530.6068 490.1569,-531.6311 493.0973,-537.9836\" stroke=\"#000000\"/>\n",
       "</g>\n",
       "<!-- 4941285024 -->\n",
       "<g class=\"node\" id=\"node5\">\n",
       "<title>4941285024</title>\n",
       "<polygon fill=\"none\" points=\"0,-405.5 0,-449.5 364.9277,-449.5 364.9277,-405.5 0,-405.5\" stroke=\"#000000\"/>\n",
       "<text fill=\"#000000\" font-family=\"Times,serif\" font-size=\"14.00\" text-anchor=\"middle\" x=\"105.8052\" y=\"-423.3\">max_pooling1d_1: MaxPooling1D</text>\n",
       "<polyline fill=\"none\" points=\"211.6104,-405.5 211.6104,-449.5 \" stroke=\"#000000\"/>\n",
       "<text fill=\"#000000\" font-family=\"Times,serif\" font-size=\"14.00\" text-anchor=\"middle\" x=\"239.4448\" y=\"-434.3\">input:</text>\n",
       "<polyline fill=\"none\" points=\"211.6104,-427.5 267.2793,-427.5 \" stroke=\"#000000\"/>\n",
       "<text fill=\"#000000\" font-family=\"Times,serif\" font-size=\"14.00\" text-anchor=\"middle\" x=\"239.4448\" y=\"-412.3\">output:</text>\n",
       "<polyline fill=\"none\" points=\"267.2793,-405.5 267.2793,-449.5 \" stroke=\"#000000\"/>\n",
       "<text fill=\"#000000\" font-family=\"Times,serif\" font-size=\"14.00\" text-anchor=\"middle\" x=\"316.1035\" y=\"-434.3\">(None, 996, 3)</text>\n",
       "<polyline fill=\"none\" points=\"267.2793,-427.5 364.9277,-427.5 \" stroke=\"#000000\"/>\n",
       "<text fill=\"#000000\" font-family=\"Times,serif\" font-size=\"14.00\" text-anchor=\"middle\" x=\"316.1035\" y=\"-412.3\">(None, 498, 3)</text>\n",
       "</g>\n",
       "<!-- 4936047360&#45;&gt;4941285024 -->\n",
       "<g class=\"edge\" id=\"edge4\">\n",
       "<title>4936047360-&gt;4941285024</title>\n",
       "<path d=\"M205.7197,-486.3664C202.4038,-477.9731 198.5605,-468.2445 194.965,-459.1434\" fill=\"none\" stroke=\"#000000\"/>\n",
       "<polygon fill=\"#000000\" points=\"198.127,-457.6214 191.1974,-449.6068 191.6166,-460.1934 198.127,-457.6214\" stroke=\"#000000\"/>\n",
       "</g>\n",
       "<!-- 4941446840 -->\n",
       "<g class=\"node\" id=\"node6\">\n",
       "<title>4941446840</title>\n",
       "<polygon fill=\"none\" points=\"383,-405.5 383,-449.5 747.9277,-449.5 747.9277,-405.5 383,-405.5\" stroke=\"#000000\"/>\n",
       "<text fill=\"#000000\" font-family=\"Times,serif\" font-size=\"14.00\" text-anchor=\"middle\" x=\"488.8052\" y=\"-423.3\">max_pooling1d_2: MaxPooling1D</text>\n",
       "<polyline fill=\"none\" points=\"594.6104,-405.5 594.6104,-449.5 \" stroke=\"#000000\"/>\n",
       "<text fill=\"#000000\" font-family=\"Times,serif\" font-size=\"14.00\" text-anchor=\"middle\" x=\"622.4448\" y=\"-434.3\">input:</text>\n",
       "<polyline fill=\"none\" points=\"594.6104,-427.5 650.2793,-427.5 \" stroke=\"#000000\"/>\n",
       "<text fill=\"#000000\" font-family=\"Times,serif\" font-size=\"14.00\" text-anchor=\"middle\" x=\"622.4448\" y=\"-412.3\">output:</text>\n",
       "<polyline fill=\"none\" points=\"650.2793,-405.5 650.2793,-449.5 \" stroke=\"#000000\"/>\n",
       "<text fill=\"#000000\" font-family=\"Times,serif\" font-size=\"14.00\" text-anchor=\"middle\" x=\"699.1035\" y=\"-434.3\">(None, 997, 3)</text>\n",
       "<polyline fill=\"none\" points=\"650.2793,-427.5 747.9277,-427.5 \" stroke=\"#000000\"/>\n",
       "<text fill=\"#000000\" font-family=\"Times,serif\" font-size=\"14.00\" text-anchor=\"middle\" x=\"699.1035\" y=\"-412.3\">(None, 498, 3)</text>\n",
       "</g>\n",
       "<!-- 4941333504&#45;&gt;4941446840 -->\n",
       "<g class=\"edge\" id=\"edge5\">\n",
       "<title>4941333504-&gt;4941446840</title>\n",
       "<path d=\"M553.1092,-486.3664C554.852,-478.0624 556.8691,-468.4514 558.7617,-459.4341\" fill=\"none\" stroke=\"#000000\"/>\n",
       "<polygon fill=\"#000000\" points=\"562.1954,-460.1126 560.8242,-449.6068 555.3447,-458.6747 562.1954,-460.1126\" stroke=\"#000000\"/>\n",
       "</g>\n",
       "<!-- 4941286424 -->\n",
       "<g class=\"node\" id=\"node7\">\n",
       "<title>4941286424</title>\n",
       "<polygon fill=\"none\" points=\"100.1724,-324.5 100.1724,-368.5 364.7554,-368.5 364.7554,-324.5 100.1724,-324.5\" stroke=\"#000000\"/>\n",
       "<text fill=\"#000000\" font-family=\"Times,serif\" font-size=\"14.00\" text-anchor=\"middle\" x=\"155.8052\" y=\"-342.3\">flatten_1: Flatten</text>\n",
       "<polyline fill=\"none\" points=\"211.438,-324.5 211.438,-368.5 \" stroke=\"#000000\"/>\n",
       "<text fill=\"#000000\" font-family=\"Times,serif\" font-size=\"14.00\" text-anchor=\"middle\" x=\"239.2725\" y=\"-353.3\">input:</text>\n",
       "<polyline fill=\"none\" points=\"211.438,-346.5 267.1069,-346.5 \" stroke=\"#000000\"/>\n",
       "<text fill=\"#000000\" font-family=\"Times,serif\" font-size=\"14.00\" text-anchor=\"middle\" x=\"239.2725\" y=\"-331.3\">output:</text>\n",
       "<polyline fill=\"none\" points=\"267.1069,-324.5 267.1069,-368.5 \" stroke=\"#000000\"/>\n",
       "<text fill=\"#000000\" font-family=\"Times,serif\" font-size=\"14.00\" text-anchor=\"middle\" x=\"315.9312\" y=\"-353.3\">(None, 498, 3)</text>\n",
       "<polyline fill=\"none\" points=\"267.1069,-346.5 364.7554,-346.5 \" stroke=\"#000000\"/>\n",
       "<text fill=\"#000000\" font-family=\"Times,serif\" font-size=\"14.00\" text-anchor=\"middle\" x=\"315.9312\" y=\"-331.3\">(None, 1494)</text>\n",
       "</g>\n",
       "<!-- 4941285024&#45;&gt;4941286424 -->\n",
       "<g class=\"edge\" id=\"edge6\">\n",
       "<title>4941285024-&gt;4941286424</title>\n",
       "<path d=\"M196.1266,-405.3664C201.473,-396.7052 207.6971,-386.6222 213.4676,-377.274\" fill=\"none\" stroke=\"#000000\"/>\n",
       "<polygon fill=\"#000000\" points=\"216.5432,-378.9547 218.8177,-368.6068 210.5866,-375.2778 216.5432,-378.9547\" stroke=\"#000000\"/>\n",
       "</g>\n",
       "<!-- 4935998656 -->\n",
       "<g class=\"node\" id=\"node8\">\n",
       "<title>4935998656</title>\n",
       "<polygon fill=\"none\" points=\"408.1724,-324.5 408.1724,-368.5 672.7554,-368.5 672.7554,-324.5 408.1724,-324.5\" stroke=\"#000000\"/>\n",
       "<text fill=\"#000000\" font-family=\"Times,serif\" font-size=\"14.00\" text-anchor=\"middle\" x=\"463.8052\" y=\"-342.3\">flatten_2: Flatten</text>\n",
       "<polyline fill=\"none\" points=\"519.438,-324.5 519.438,-368.5 \" stroke=\"#000000\"/>\n",
       "<text fill=\"#000000\" font-family=\"Times,serif\" font-size=\"14.00\" text-anchor=\"middle\" x=\"547.2725\" y=\"-353.3\">input:</text>\n",
       "<polyline fill=\"none\" points=\"519.438,-346.5 575.1069,-346.5 \" stroke=\"#000000\"/>\n",
       "<text fill=\"#000000\" font-family=\"Times,serif\" font-size=\"14.00\" text-anchor=\"middle\" x=\"547.2725\" y=\"-331.3\">output:</text>\n",
       "<polyline fill=\"none\" points=\"575.1069,-324.5 575.1069,-368.5 \" stroke=\"#000000\"/>\n",
       "<text fill=\"#000000\" font-family=\"Times,serif\" font-size=\"14.00\" text-anchor=\"middle\" x=\"623.9312\" y=\"-353.3\">(None, 498, 3)</text>\n",
       "<polyline fill=\"none\" points=\"575.1069,-346.5 672.7554,-346.5 \" stroke=\"#000000\"/>\n",
       "<text fill=\"#000000\" font-family=\"Times,serif\" font-size=\"14.00\" text-anchor=\"middle\" x=\"623.9312\" y=\"-331.3\">(None, 1494)</text>\n",
       "</g>\n",
       "<!-- 4941446840&#45;&gt;4935998656 -->\n",
       "<g class=\"edge\" id=\"edge7\">\n",
       "<title>4941446840-&gt;4935998656</title>\n",
       "<path d=\"M558.6325,-405.3664C556.0695,-397.0624 553.1032,-387.4514 550.3201,-378.4341\" fill=\"none\" stroke=\"#000000\"/>\n",
       "<polygon fill=\"#000000\" points=\"553.5805,-377.1299 547.287,-368.6068 546.8918,-379.1943 553.5805,-377.1299\" stroke=\"#000000\"/>\n",
       "</g>\n",
       "<!-- 4936032328 -->\n",
       "<g class=\"node\" id=\"node9\">\n",
       "<title>4936032328</title>\n",
       "<polygon fill=\"none\" points=\"168.4995,-243.5 168.4995,-287.5 578.4282,-287.5 578.4282,-243.5 168.4995,-243.5\" stroke=\"#000000\"/>\n",
       "<text fill=\"#000000\" font-family=\"Times,serif\" font-size=\"14.00\" text-anchor=\"middle\" x=\"254.8188\" y=\"-261.3\">concatenate_1: Concatenate</text>\n",
       "<polyline fill=\"none\" points=\"341.1382,-243.5 341.1382,-287.5 \" stroke=\"#000000\"/>\n",
       "<text fill=\"#000000\" font-family=\"Times,serif\" font-size=\"14.00\" text-anchor=\"middle\" x=\"368.9727\" y=\"-272.3\">input:</text>\n",
       "<polyline fill=\"none\" points=\"341.1382,-265.5 396.8071,-265.5 \" stroke=\"#000000\"/>\n",
       "<text fill=\"#000000\" font-family=\"Times,serif\" font-size=\"14.00\" text-anchor=\"middle\" x=\"368.9727\" y=\"-250.3\">output:</text>\n",
       "<polyline fill=\"none\" points=\"396.8071,-243.5 396.8071,-287.5 \" stroke=\"#000000\"/>\n",
       "<text fill=\"#000000\" font-family=\"Times,serif\" font-size=\"14.00\" text-anchor=\"middle\" x=\"487.6177\" y=\"-272.3\">[(None, 1494), (None, 1494)]</text>\n",
       "<polyline fill=\"none\" points=\"396.8071,-265.5 578.4282,-265.5 \" stroke=\"#000000\"/>\n",
       "<text fill=\"#000000\" font-family=\"Times,serif\" font-size=\"14.00\" text-anchor=\"middle\" x=\"487.1313\" y=\"-250.3\">(None, 2988)</text>\n",
       "</g>\n",
       "<!-- 4941286424&#45;&gt;4936032328 -->\n",
       "<g class=\"edge\" id=\"edge8\">\n",
       "<title>4941286424-&gt;4936032328</title>\n",
       "<path d=\"M270.9927,-324.3664C287.9348,-314.6337 308.0021,-303.1057 325.8679,-292.8424\" fill=\"none\" stroke=\"#000000\"/>\n",
       "<polygon fill=\"#000000\" points=\"328.054,-295.623 334.9816,-287.6068 324.5671,-289.5533 328.054,-295.623\" stroke=\"#000000\"/>\n",
       "</g>\n",
       "<!-- 4935998656&#45;&gt;4936032328 -->\n",
       "<g class=\"edge\" id=\"edge9\">\n",
       "<title>4935998656-&gt;4936032328</title>\n",
       "<path d=\"M494.8304,-324.3664C474.2119,-314.3658 449.6855,-302.4698 428.0953,-291.9979\" fill=\"none\" stroke=\"#000000\"/>\n",
       "<polygon fill=\"#000000\" points=\"429.5671,-288.8218 419.0422,-287.6068 426.5122,-295.1201 429.5671,-288.8218\" stroke=\"#000000\"/>\n",
       "</g>\n",
       "<!-- 4936045960 -->\n",
       "<g class=\"node\" id=\"node10\">\n",
       "<title>4936045960</title>\n",
       "<polygon fill=\"none\" points=\"248.1792,-162.5 248.1792,-206.5 498.7485,-206.5 498.7485,-162.5 248.1792,-162.5\" stroke=\"#000000\"/>\n",
       "<text fill=\"#000000\" font-family=\"Times,serif\" font-size=\"14.00\" text-anchor=\"middle\" x=\"300.3052\" y=\"-180.3\">dense_2: Dense</text>\n",
       "<polyline fill=\"none\" points=\"352.4312,-162.5 352.4312,-206.5 \" stroke=\"#000000\"/>\n",
       "<text fill=\"#000000\" font-family=\"Times,serif\" font-size=\"14.00\" text-anchor=\"middle\" x=\"380.2656\" y=\"-191.3\">input:</text>\n",
       "<polyline fill=\"none\" points=\"352.4312,-184.5 408.1001,-184.5 \" stroke=\"#000000\"/>\n",
       "<text fill=\"#000000\" font-family=\"Times,serif\" font-size=\"14.00\" text-anchor=\"middle\" x=\"380.2656\" y=\"-169.3\">output:</text>\n",
       "<polyline fill=\"none\" points=\"408.1001,-162.5 408.1001,-206.5 \" stroke=\"#000000\"/>\n",
       "<text fill=\"#000000\" font-family=\"Times,serif\" font-size=\"14.00\" text-anchor=\"middle\" x=\"453.4243\" y=\"-191.3\">(None, 2988)</text>\n",
       "<polyline fill=\"none\" points=\"408.1001,-184.5 498.7485,-184.5 \" stroke=\"#000000\"/>\n",
       "<text fill=\"#000000\" font-family=\"Times,serif\" font-size=\"14.00\" text-anchor=\"middle\" x=\"453.4243\" y=\"-169.3\">(None, 128)</text>\n",
       "</g>\n",
       "<!-- 4936032328&#45;&gt;4936045960 -->\n",
       "<g class=\"edge\" id=\"edge10\">\n",
       "<title>4936032328-&gt;4936045960</title>\n",
       "<path d=\"M373.4639,-243.3664C373.4639,-235.1516 373.4639,-225.6579 373.4639,-216.7252\" fill=\"none\" stroke=\"#000000\"/>\n",
       "<polygon fill=\"#000000\" points=\"376.964,-216.6068 373.4639,-206.6068 369.964,-216.6069 376.964,-216.6068\" stroke=\"#000000\"/>\n",
       "</g>\n",
       "<!-- 4933953464 -->\n",
       "<g class=\"node\" id=\"node11\">\n",
       "<title>4933953464</title>\n",
       "<polygon fill=\"none\" points=\"240.0034,-81.5 240.0034,-125.5 506.9243,-125.5 506.9243,-81.5 240.0034,-81.5\" stroke=\"#000000\"/>\n",
       "<text fill=\"#000000\" font-family=\"Times,serif\" font-size=\"14.00\" text-anchor=\"middle\" x=\"303.8052\" y=\"-99.3\">dropout_1: Dropout</text>\n",
       "<polyline fill=\"none\" points=\"367.6069,-81.5 367.6069,-125.5 \" stroke=\"#000000\"/>\n",
       "<text fill=\"#000000\" font-family=\"Times,serif\" font-size=\"14.00\" text-anchor=\"middle\" x=\"395.4414\" y=\"-110.3\">input:</text>\n",
       "<polyline fill=\"none\" points=\"367.6069,-103.5 423.2759,-103.5 \" stroke=\"#000000\"/>\n",
       "<text fill=\"#000000\" font-family=\"Times,serif\" font-size=\"14.00\" text-anchor=\"middle\" x=\"395.4414\" y=\"-88.3\">output:</text>\n",
       "<polyline fill=\"none\" points=\"423.2759,-81.5 423.2759,-125.5 \" stroke=\"#000000\"/>\n",
       "<text fill=\"#000000\" font-family=\"Times,serif\" font-size=\"14.00\" text-anchor=\"middle\" x=\"465.1001\" y=\"-110.3\">(None, 128)</text>\n",
       "<polyline fill=\"none\" points=\"423.2759,-103.5 506.9243,-103.5 \" stroke=\"#000000\"/>\n",
       "<text fill=\"#000000\" font-family=\"Times,serif\" font-size=\"14.00\" text-anchor=\"middle\" x=\"465.1001\" y=\"-88.3\">(None, 128)</text>\n",
       "</g>\n",
       "<!-- 4936045960&#45;&gt;4933953464 -->\n",
       "<g class=\"edge\" id=\"edge11\">\n",
       "<title>4936045960-&gt;4933953464</title>\n",
       "<path d=\"M373.4639,-162.3664C373.4639,-154.1516 373.4639,-144.6579 373.4639,-135.7252\" fill=\"none\" stroke=\"#000000\"/>\n",
       "<polygon fill=\"#000000\" points=\"376.964,-135.6068 373.4639,-125.6068 369.964,-135.6069 376.964,-135.6068\" stroke=\"#000000\"/>\n",
       "</g>\n",
       "<!-- 4941984880 -->\n",
       "<g class=\"node\" id=\"node12\">\n",
       "<title>4941984880</title>\n",
       "<polygon fill=\"none\" points=\"251.6792,-.5 251.6792,-44.5 495.2485,-44.5 495.2485,-.5 251.6792,-.5\" stroke=\"#000000\"/>\n",
       "<text fill=\"#000000\" font-family=\"Times,serif\" font-size=\"14.00\" text-anchor=\"middle\" x=\"303.8052\" y=\"-18.3\">dense_3: Dense</text>\n",
       "<polyline fill=\"none\" points=\"355.9312,-.5 355.9312,-44.5 \" stroke=\"#000000\"/>\n",
       "<text fill=\"#000000\" font-family=\"Times,serif\" font-size=\"14.00\" text-anchor=\"middle\" x=\"383.7656\" y=\"-29.3\">input:</text>\n",
       "<polyline fill=\"none\" points=\"355.9312,-22.5 411.6001,-22.5 \" stroke=\"#000000\"/>\n",
       "<text fill=\"#000000\" font-family=\"Times,serif\" font-size=\"14.00\" text-anchor=\"middle\" x=\"383.7656\" y=\"-7.3\">output:</text>\n",
       "<polyline fill=\"none\" points=\"411.6001,-.5 411.6001,-44.5 \" stroke=\"#000000\"/>\n",
       "<text fill=\"#000000\" font-family=\"Times,serif\" font-size=\"14.00\" text-anchor=\"middle\" x=\"453.4243\" y=\"-29.3\">(None, 128)</text>\n",
       "<polyline fill=\"none\" points=\"411.6001,-22.5 495.2485,-22.5 \" stroke=\"#000000\"/>\n",
       "<text fill=\"#000000\" font-family=\"Times,serif\" font-size=\"14.00\" text-anchor=\"middle\" x=\"453.4243\" y=\"-7.3\">(None, 1)</text>\n",
       "</g>\n",
       "<!-- 4933953464&#45;&gt;4941984880 -->\n",
       "<g class=\"edge\" id=\"edge12\">\n",
       "<title>4933953464-&gt;4941984880</title>\n",
       "<path d=\"M373.4639,-81.3664C373.4639,-73.1516 373.4639,-63.6579 373.4639,-54.7252\" fill=\"none\" stroke=\"#000000\"/>\n",
       "<polygon fill=\"#000000\" points=\"376.964,-54.6068 373.4639,-44.6068 369.964,-54.6069 376.964,-54.6068\" stroke=\"#000000\"/>\n",
       "</g>\n",
       "</g>\n",
       "</svg>"
      ],
      "text/plain": [
       "<IPython.core.display.SVG object>"
      ]
     },
     "execution_count": 50,
     "metadata": {},
     "output_type": "execute_result"
    }
   ],
   "source": [
    "embedding_layer = layers.Embedding(input_dim=vectors.shape[0],\n",
    "                                   output_dim=vectors.shape[1],\n",
    "                                   weights=[vectors],\n",
    "                                   trainable=False)\n",
    "\n",
    "i = layers.Input(shape=(x_train.shape[1],))\n",
    "text_embedding = embedding_layer(i)\n",
    "convs = []\n",
    "\n",
    "for layer_params in [(3, 5), (3, 4)]:\n",
    "    conv = layers.Conv1D(filters=layer_params[0],\n",
    "                         kernel_size=layer_params[1],\n",
    "                         activation='relu')(text_embedding)\n",
    "    conv = layers.MaxPooling1D(pool_size=2)(conv)\n",
    "    conv = layers.Flatten()(conv)\n",
    "    convs.append(conv)\n",
    "\n",
    "concat = layers.concatenate(convs)\n",
    "hidden = layers.Dense(128, activation='relu')(concat)\n",
    "hidden = layers.Dropout(0.3)(hidden)\n",
    "output = layers.Dense(1, activation='sigmoid')(hidden)\n",
    "\n",
    "model = models.Model(inputs=[i], outputs=[output])\n",
    "\n",
    "model.compile(loss='binary_crossentropy',\n",
    "              optimizer='adam',\n",
    "              metrics=['binary_accuracy'])\n",
    "\n",
    "SVG(model_to_dot(model, show_shapes=True).create(prog='dot', format='svg'))"
   ]
  },
  {
   "cell_type": "code",
   "execution_count": 52,
   "metadata": {},
   "outputs": [
    {
     "name": "stdout",
     "output_type": "stream",
     "text": [
      "Train on 25000 samples, validate on 25000 samples\n",
      "Epoch 1/2\n",
      "25000/25000 [==============================] - 616s 25ms/step - loss: 0.4065 - binary_accuracy: 0.8036 - val_loss: 0.3003 - val_binary_accuracy: 0.8756\n",
      "Epoch 2/2\n",
      "25000/25000 [==============================] - 727s 29ms/step - loss: 0.2808 - binary_accuracy: 0.8864 - val_loss: 0.3058 - val_binary_accuracy: 0.8702\n"
     ]
    },
    {
     "data": {
      "text/plain": [
       "<keras.callbacks.History at 0x127c6e940>"
      ]
     },
     "execution_count": 52,
     "metadata": {},
     "output_type": "execute_result"
    }
   ],
   "source": [
    "model.fit(x=x_train,\n",
    "          y=y_train,\n",
    "          validation_data=(x_test, y_test),\n",
    "          epochs=2)"
   ]
  },
  {
   "cell_type": "code",
   "execution_count": 64,
   "metadata": {},
   "outputs": [
    {
     "data": {
      "text/plain": [
       "array([[0.7830022]], dtype=float32)"
      ]
     },
     "execution_count": 64,
     "metadata": {},
     "output_type": "execute_result"
    }
   ],
   "source": [
    "model.predict(pad_sequences(t.texts_to_sequences([\"love is great !\"]), 1000))"
   ]
  },
  {
   "cell_type": "markdown",
   "metadata": {},
   "source": [
    "## Load exisiting"
   ]
  },
  {
   "cell_type": "code",
   "execution_count": 3,
   "metadata": {},
   "outputs": [
    {
     "name": "stdout",
     "output_type": "stream",
     "text": [
      "WARNING:tensorflow:From /Users/eric/Code/virtualenvs/data3/lib/python3.6/site-packages/tensorflow/python/util/deprecation.py:497: calling conv1d (from tensorflow.python.ops.nn_ops) with data_format=NHWC is deprecated and will be removed in a future version.\n",
      "Instructions for updating:\n",
      "`NHWC` for data_format is deprecated, use `NWC` instead\n"
     ]
    }
   ],
   "source": [
    "model = load_model(\"bin/CNN_model.pkl\")"
   ]
  },
  {
   "cell_type": "code",
   "execution_count": 4,
   "metadata": {},
   "outputs": [],
   "source": [
    "with open(os.path.join(\"bin\", \"{0}_tokenizer.pkl\".format(\"CNN\")), \"rb\") as f:\n",
    "    tokenizer = pickle.load(f)"
   ]
  },
  {
   "cell_type": "code",
   "execution_count": 11,
   "metadata": {},
   "outputs": [
    {
     "data": {
      "text/plain": [
       "array([[0.43474415, 0.5652558 ]], dtype=float32)"
      ]
     },
     "execution_count": 11,
     "metadata": {},
     "output_type": "execute_result"
    }
   ],
   "source": [
    "model.predict(pad_sequences(tokenizer.texts_to_sequences([\"love\"]), maxlen=1000))"
   ]
  },
  {
   "cell_type": "code",
   "execution_count": null,
   "metadata": {},
   "outputs": [],
   "source": []
  }
 ],
 "metadata": {
  "kernelspec": {
   "display_name": "data3",
   "language": "python",
   "name": "data3"
  },
  "language_info": {
   "codemirror_mode": {
    "name": "ipython",
    "version": 3
   },
   "file_extension": ".py",
   "mimetype": "text/x-python",
   "name": "python",
   "nbconvert_exporter": "python",
   "pygments_lexer": "ipython3",
   "version": "3.6.4"
  }
 },
 "nbformat": 4,
 "nbformat_minor": 2
}
