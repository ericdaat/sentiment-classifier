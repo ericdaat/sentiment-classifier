{
 "cells": [
  {
   "cell_type": "markdown",
   "metadata": {},
   "source": [
    "# Sentiment analysis on IMDB large movie review dataset\n",
    "\n",
    "Get the dataset from [here](http://ai.stanford.edu/~amaas/data/sentiment/)"
   ]
  },
  {
   "cell_type": "code",
   "execution_count": 1,
   "metadata": {},
   "outputs": [
    {
     "name": "stderr",
     "output_type": "stream",
     "text": [
      "Using TensorFlow backend.\n"
     ]
    }
   ],
   "source": [
    "from glob import glob\n",
    "import pandas as pd\n",
    "import io\n",
    "import numpy as np\n",
    "from IPython.display import SVG\n",
    "\n",
    "from keras import models, layers\n",
    "from keras import backend as K\n",
    "from keras.preprocessing.text import Tokenizer\n",
    "from keras.preprocessing.sequence import pad_sequences\n",
    "from keras.utils import plot_model\n",
    "from keras.utils.vis_utils import model_to_dot\n",
    "\n",
    "import os\n",
    "os.environ[\"CUDA_DEVICE_ORDER\"] = \"PCI_BUS_ID\"   # see issue #152\n",
    "os.environ[\"CUDA_VISIBLE_DEVICES\"] = \"\""
   ]
  },
  {
   "cell_type": "markdown",
   "metadata": {},
   "source": [
    "## Prepare dataset"
   ]
  },
  {
   "cell_type": "code",
   "execution_count": 2,
   "metadata": {},
   "outputs": [],
   "source": [
    "def parse_text(text):\n",
    "    return text.lower().strip()\n",
    "\n",
    "def read_and_append_files(folder, label):\n",
    "    texts = []\n",
    "    for file in glob('./aclImdb/{0}/*.txt'.format(folder)):\n",
    "        with open(file, 'r') as f:\n",
    "            text = f.read()\n",
    "            text = parse_text(text)\n",
    "            texts.append((text, label))\n",
    "            \n",
    "    return texts\n",
    "\n",
    "def make_df(pos, neg):\n",
    "    df = pd.concat([pd.DataFrame(pos),\n",
    "                    pd.DataFrame(neg)])\\\n",
    "           .sample(frac=1)\\\n",
    "           .reset_index(drop=True)\n",
    "    df.columns = ['review', 'label']\n",
    "    \n",
    "    return df"
   ]
  },
  {
   "cell_type": "code",
   "execution_count": 3,
   "metadata": {},
   "outputs": [],
   "source": [
    "train_pos = read_and_append_files('train/pos', 1)\n",
    "train_neg = read_and_append_files('train/neg', 0)\n",
    "\n",
    "test_pos = read_and_append_files('test/pos', 1)\n",
    "test_neg = read_and_append_files('test/neg', 0)"
   ]
  },
  {
   "cell_type": "code",
   "execution_count": 4,
   "metadata": {},
   "outputs": [],
   "source": [
    "train_df = make_df(train_pos, train_neg)\n",
    "test_df = make_df(test_pos, test_neg)"
   ]
  },
  {
   "cell_type": "code",
   "execution_count": 5,
   "metadata": {},
   "outputs": [
    {
     "data": {
      "text/html": [
       "<div>\n",
       "<style scoped>\n",
       "    .dataframe tbody tr th:only-of-type {\n",
       "        vertical-align: middle;\n",
       "    }\n",
       "\n",
       "    .dataframe tbody tr th {\n",
       "        vertical-align: top;\n",
       "    }\n",
       "\n",
       "    .dataframe thead th {\n",
       "        text-align: right;\n",
       "    }\n",
       "</style>\n",
       "<table border=\"1\" class=\"dataframe\">\n",
       "  <thead>\n",
       "    <tr style=\"text-align: right;\">\n",
       "      <th></th>\n",
       "      <th>review</th>\n",
       "      <th>label</th>\n",
       "    </tr>\n",
       "  </thead>\n",
       "  <tbody>\n",
       "    <tr>\n",
       "      <th>0</th>\n",
       "      <td>dynasty revisited in hawaii... full of clichés...</td>\n",
       "      <td>0</td>\n",
       "    </tr>\n",
       "    <tr>\n",
       "      <th>1</th>\n",
       "      <td>it's a road movie, with a killer on-board. bri...</td>\n",
       "      <td>1</td>\n",
       "    </tr>\n",
       "    <tr>\n",
       "      <th>2</th>\n",
       "      <td>my father was the warden of the prison (he is ...</td>\n",
       "      <td>1</td>\n",
       "    </tr>\n",
       "    <tr>\n",
       "      <th>3</th>\n",
       "      <td>yes, it's flawed - especially if you're into h...</td>\n",
       "      <td>1</td>\n",
       "    </tr>\n",
       "    <tr>\n",
       "      <th>4</th>\n",
       "      <td>if i'm going to watch a porn movie, i prefer i...</td>\n",
       "      <td>1</td>\n",
       "    </tr>\n",
       "  </tbody>\n",
       "</table>\n",
       "</div>"
      ],
      "text/plain": [
       "                                              review  label\n",
       "0  dynasty revisited in hawaii... full of clichés...      0\n",
       "1  it's a road movie, with a killer on-board. bri...      1\n",
       "2  my father was the warden of the prison (he is ...      1\n",
       "3  yes, it's flawed - especially if you're into h...      1\n",
       "4  if i'm going to watch a porn movie, i prefer i...      1"
      ]
     },
     "execution_count": 5,
     "metadata": {},
     "output_type": "execute_result"
    }
   ],
   "source": [
    "train_df.head()"
   ]
  },
  {
   "cell_type": "code",
   "execution_count": 6,
   "metadata": {},
   "outputs": [
    {
     "data": {
      "text/html": [
       "<div>\n",
       "<style scoped>\n",
       "    .dataframe tbody tr th:only-of-type {\n",
       "        vertical-align: middle;\n",
       "    }\n",
       "\n",
       "    .dataframe tbody tr th {\n",
       "        vertical-align: top;\n",
       "    }\n",
       "\n",
       "    .dataframe thead th {\n",
       "        text-align: right;\n",
       "    }\n",
       "</style>\n",
       "<table border=\"1\" class=\"dataframe\">\n",
       "  <thead>\n",
       "    <tr style=\"text-align: right;\">\n",
       "      <th></th>\n",
       "      <th>review</th>\n",
       "      <th>label</th>\n",
       "    </tr>\n",
       "  </thead>\n",
       "  <tbody>\n",
       "    <tr>\n",
       "      <th>0</th>\n",
       "      <td>sadly, every single person i ask about this se...</td>\n",
       "      <td>1</td>\n",
       "    </tr>\n",
       "    <tr>\n",
       "      <th>1</th>\n",
       "      <td>this film is about a woman falling in love wit...</td>\n",
       "      <td>0</td>\n",
       "    </tr>\n",
       "    <tr>\n",
       "      <th>2</th>\n",
       "      <td>it is important and only fair to remember that...</td>\n",
       "      <td>1</td>\n",
       "    </tr>\n",
       "    <tr>\n",
       "      <th>3</th>\n",
       "      <td>savage guns (video title) is a dirt cheap, bot...</td>\n",
       "      <td>0</td>\n",
       "    </tr>\n",
       "    <tr>\n",
       "      <th>4</th>\n",
       "      <td>my god, ryan gosling has made a lot of deep ch...</td>\n",
       "      <td>1</td>\n",
       "    </tr>\n",
       "  </tbody>\n",
       "</table>\n",
       "</div>"
      ],
      "text/plain": [
       "                                              review  label\n",
       "0  sadly, every single person i ask about this se...      1\n",
       "1  this film is about a woman falling in love wit...      0\n",
       "2  it is important and only fair to remember that...      1\n",
       "3  savage guns (video title) is a dirt cheap, bot...      0\n",
       "4  my god, ryan gosling has made a lot of deep ch...      1"
      ]
     },
     "execution_count": 6,
     "metadata": {},
     "output_type": "execute_result"
    }
   ],
   "source": [
    "test_df.head()"
   ]
  },
  {
   "cell_type": "markdown",
   "metadata": {},
   "source": [
    "## Embeddings\n",
    "\n",
    "I use [Fast Text pre trained embeddings](https://fasttext.cc/docs/en/english-vectors.html)."
   ]
  },
  {
   "cell_type": "code",
   "execution_count": 7,
   "metadata": {},
   "outputs": [],
   "source": [
    "t = Tokenizer()\n",
    "t.fit_on_texts(train_df['review'])"
   ]
  },
  {
   "cell_type": "code",
   "execution_count": 8,
   "metadata": {},
   "outputs": [],
   "source": [
    "def load_vectors(fname, word_index):\n",
    "    embedding_matrix = np.zeros((len(word_index) + 1, 300))\n",
    "    \n",
    "    fin = io.open(fname, 'r', encoding='utf-8', newline='\\n', errors='ignore')\n",
    "    n, d = map(int, fin.readline().split())\n",
    "\n",
    "    for line in fin:\n",
    "        tokens = line.rstrip().split(' ')\n",
    "        if tokens[0] in word_index:\n",
    "            w = word_index[tokens[0]]\n",
    "            embedding_matrix[w] = np.fromiter(map(float, tokens[1:]), 'float')\n",
    "    \n",
    "    return embedding_matrix"
   ]
  },
  {
   "cell_type": "code",
   "execution_count": 10,
   "metadata": {},
   "outputs": [
    {
     "name": "stdout",
     "output_type": "stream",
     "text": [
      "CPU times: user 1min 50s, sys: 8.85 s, total: 1min 59s\n",
      "Wall time: 2min 18s\n"
     ]
    }
   ],
   "source": [
    "%time vectors = load_vectors('/Users/eric/Code/wiki.en.vec', t.word_index)"
   ]
  },
  {
   "cell_type": "code",
   "execution_count": 11,
   "metadata": {},
   "outputs": [
    {
     "data": {
      "text/plain": [
       "(88566, 300)"
      ]
     },
     "execution_count": 11,
     "metadata": {},
     "output_type": "execute_result"
    }
   ],
   "source": [
    "vectors.shape"
   ]
  },
  {
   "cell_type": "markdown",
   "metadata": {},
   "source": [
    "## Machine Learning with Keras"
   ]
  },
  {
   "cell_type": "code",
   "execution_count": 10,
   "metadata": {},
   "outputs": [],
   "source": [
    "x_train = t.texts_to_matrix(train_df['review'])\n",
    "y_train = train_df['label']\n",
    "\n",
    "x_test = t.texts_to_matrix(test_df['review'])\n",
    "y_test = test_df['label']"
   ]
  },
  {
   "cell_type": "code",
   "execution_count": 11,
   "metadata": {},
   "outputs": [
    {
     "data": {
      "text/plain": [
       "((25000, 88566), (25000,), (25000, 88566), (25000,))"
      ]
     },
     "execution_count": 11,
     "metadata": {},
     "output_type": "execute_result"
    }
   ],
   "source": [
    "x_train.shape, y_train.shape, x_test.shape, y_test.shape"
   ]
  },
  {
   "cell_type": "markdown",
   "metadata": {},
   "source": [
    "### Logistic regression"
   ]
  },
  {
   "cell_type": "code",
   "execution_count": 12,
   "metadata": {},
   "outputs": [],
   "source": [
    "i = layers.Input(shape=(x_train.shape[1],))\n",
    "h = layers.Dense(units=1, activation='sigmoid')(i)\n",
    "model = models.Model(inputs=[i], outputs=[h])\n",
    "\n",
    "model.compile(loss='binary_crossentropy',\n",
    "              optimizer='sgd',\n",
    "              metrics=['binary_accuracy'])\n",
    "\n",
    "# SVG(model_to_dot(model, show_shapes=True).create(prog='dot', format='svg'))"
   ]
  },
  {
   "cell_type": "code",
   "execution_count": 13,
   "metadata": {},
   "outputs": [
    {
     "name": "stdout",
     "output_type": "stream",
     "text": [
      "Train on 25000 samples, validate on 25000 samples\n",
      "Epoch 1/5\n",
      "25000/25000 [==============================] - 36s 1ms/step - loss: 0.5731 - binary_accuracy: 0.7910 - val_loss: 0.5044 - val_binary_accuracy: 0.8171\n",
      "Epoch 2/5\n",
      "25000/25000 [==============================] - 76s 3ms/step - loss: 0.4611 - binary_accuracy: 0.8375 - val_loss: 0.4449 - val_binary_accuracy: 0.8340\n",
      "Epoch 3/5\n",
      "25000/25000 [==============================] - 52s 2ms/step - loss: 0.4135 - binary_accuracy: 0.8515 - val_loss: 0.4101 - val_binary_accuracy: 0.8464\n",
      "Epoch 4/5\n",
      "25000/25000 [==============================] - 42s 2ms/step - loss: 0.3850 - binary_accuracy: 0.8603 - val_loss: 0.3906 - val_binary_accuracy: 0.8511\n",
      "Epoch 5/5\n",
      "25000/25000 [==============================] - 65s 3ms/step - loss: 0.3653 - binary_accuracy: 0.8666 - val_loss: 0.3753 - val_binary_accuracy: 0.8560\n"
     ]
    },
    {
     "data": {
      "text/plain": [
       "<keras.callbacks.History at 0x7f951967d908>"
      ]
     },
     "execution_count": 13,
     "metadata": {},
     "output_type": "execute_result"
    }
   ],
   "source": [
    "model.fit(x=x_train,\n",
    "          y=y_train,\n",
    "          validation_data=(x_test, y_test),\n",
    "          epochs=5)"
   ]
  },
  {
   "cell_type": "markdown",
   "metadata": {},
   "source": [
    "### Averaging Embeddings"
   ]
  },
  {
   "cell_type": "code",
   "execution_count": 12,
   "metadata": {},
   "outputs": [],
   "source": [
    "x_train = pad_sequences(t.texts_to_sequences(train_df['review']), maxlen=500)\n",
    "y_train = train_df['label']\n",
    "\n",
    "x_test = pad_sequences(t.texts_to_sequences(test_df['review']), maxlen=500)\n",
    "y_test = test_df['label']"
   ]
  },
  {
   "cell_type": "code",
   "execution_count": 13,
   "metadata": {},
   "outputs": [
    {
     "data": {
      "text/plain": [
       "((25000, 500), (25000,), (25000, 500), (25000,))"
      ]
     },
     "execution_count": 13,
     "metadata": {},
     "output_type": "execute_result"
    }
   ],
   "source": [
    "x_train.shape, y_train.shape, x_test.shape, y_test.shape"
   ]
  },
  {
   "cell_type": "code",
   "execution_count": 32,
   "metadata": {},
   "outputs": [
    {
     "data": {
      "image/svg+xml": [
       "<svg height=\"377pt\" viewBox=\"0.00 0.00 346.46 377.00\" width=\"346pt\" xmlns=\"http://www.w3.org/2000/svg\" xmlns:xlink=\"http://www.w3.org/1999/xlink\">\n",
       "<g class=\"graph\" id=\"graph0\" transform=\"scale(1 1) rotate(0) translate(4 373)\">\n",
       "<title>G</title>\n",
       "<polygon fill=\"#ffffff\" points=\"-4,4 -4,-373 342.459,-373 342.459,4 -4,4\" stroke=\"transparent\"/>\n",
       "<!-- 4916389256 -->\n",
       "<g class=\"node\" id=\"node1\">\n",
       "<title>4916389256</title>\n",
       "<polygon fill=\"none\" points=\"31.8896,-324.5 31.8896,-368.5 306.5693,-368.5 306.5693,-324.5 31.8896,-324.5\" stroke=\"#000000\"/>\n",
       "<text fill=\"#000000\" font-family=\"Times,serif\" font-size=\"14.00\" text-anchor=\"middle\" x=\"99.5708\" y=\"-342.3\">input_15: InputLayer</text>\n",
       "<polyline fill=\"none\" points=\"167.252,-324.5 167.252,-368.5 \" stroke=\"#000000\"/>\n",
       "<text fill=\"#000000\" font-family=\"Times,serif\" font-size=\"14.00\" text-anchor=\"middle\" x=\"195.0864\" y=\"-353.3\">input:</text>\n",
       "<polyline fill=\"none\" points=\"167.252,-346.5 222.9209,-346.5 \" stroke=\"#000000\"/>\n",
       "<text fill=\"#000000\" font-family=\"Times,serif\" font-size=\"14.00\" text-anchor=\"middle\" x=\"195.0864\" y=\"-331.3\">output:</text>\n",
       "<polyline fill=\"none\" points=\"222.9209,-324.5 222.9209,-368.5 \" stroke=\"#000000\"/>\n",
       "<text fill=\"#000000\" font-family=\"Times,serif\" font-size=\"14.00\" text-anchor=\"middle\" x=\"264.7451\" y=\"-353.3\">(None, 500)</text>\n",
       "<polyline fill=\"none\" points=\"222.9209,-346.5 306.5693,-346.5 \" stroke=\"#000000\"/>\n",
       "<text fill=\"#000000\" font-family=\"Times,serif\" font-size=\"14.00\" text-anchor=\"middle\" x=\"264.7451\" y=\"-331.3\">(None, 500)</text>\n",
       "</g>\n",
       "<!-- 4916389200 -->\n",
       "<g class=\"node\" id=\"node2\">\n",
       "<title>4916389200</title>\n",
       "<polygon fill=\"none\" points=\"0,-243.5 0,-287.5 338.459,-287.5 338.459,-243.5 0,-243.5\" stroke=\"#000000\"/>\n",
       "<text fill=\"#000000\" font-family=\"Times,serif\" font-size=\"14.00\" text-anchor=\"middle\" x=\"85.5708\" y=\"-261.3\">embedding_15: Embedding</text>\n",
       "<polyline fill=\"none\" points=\"171.1416,-243.5 171.1416,-287.5 \" stroke=\"#000000\"/>\n",
       "<text fill=\"#000000\" font-family=\"Times,serif\" font-size=\"14.00\" text-anchor=\"middle\" x=\"198.9761\" y=\"-272.3\">input:</text>\n",
       "<polyline fill=\"none\" points=\"171.1416,-265.5 226.8105,-265.5 \" stroke=\"#000000\"/>\n",
       "<text fill=\"#000000\" font-family=\"Times,serif\" font-size=\"14.00\" text-anchor=\"middle\" x=\"198.9761\" y=\"-250.3\">output:</text>\n",
       "<polyline fill=\"none\" points=\"226.8105,-243.5 226.8105,-287.5 \" stroke=\"#000000\"/>\n",
       "<text fill=\"#000000\" font-family=\"Times,serif\" font-size=\"14.00\" text-anchor=\"middle\" x=\"282.6348\" y=\"-272.3\">(None, 500)</text>\n",
       "<polyline fill=\"none\" points=\"226.8105,-265.5 338.459,-265.5 \" stroke=\"#000000\"/>\n",
       "<text fill=\"#000000\" font-family=\"Times,serif\" font-size=\"14.00\" text-anchor=\"middle\" x=\"282.6348\" y=\"-250.3\">(None, 500, 300)</text>\n",
       "</g>\n",
       "<!-- 4916389256&#45;&gt;4916389200 -->\n",
       "<g class=\"edge\" id=\"edge1\">\n",
       "<title>4916389256-&gt;4916389200</title>\n",
       "<path d=\"M169.2295,-324.3664C169.2295,-316.1516 169.2295,-306.6579 169.2295,-297.7252\" fill=\"none\" stroke=\"#000000\"/>\n",
       "<polygon fill=\"#000000\" points=\"172.7296,-297.6068 169.2295,-287.6068 165.7296,-297.6069 172.7296,-297.6068\" stroke=\"#000000\"/>\n",
       "</g>\n",
       "<!-- 4916537776 -->\n",
       "<g class=\"node\" id=\"node3\">\n",
       "<title>4916537776</title>\n",
       "<polygon fill=\"none\" points=\"23.3379,-162.5 23.3379,-206.5 315.1211,-206.5 315.1211,-162.5 23.3379,-162.5\" stroke=\"#000000\"/>\n",
       "<text fill=\"#000000\" font-family=\"Times,serif\" font-size=\"14.00\" text-anchor=\"middle\" x=\"85.5708\" y=\"-180.3\">lambda_5: Lambda</text>\n",
       "<polyline fill=\"none\" points=\"147.8037,-162.5 147.8037,-206.5 \" stroke=\"#000000\"/>\n",
       "<text fill=\"#000000\" font-family=\"Times,serif\" font-size=\"14.00\" text-anchor=\"middle\" x=\"175.6382\" y=\"-191.3\">input:</text>\n",
       "<polyline fill=\"none\" points=\"147.8037,-184.5 203.4727,-184.5 \" stroke=\"#000000\"/>\n",
       "<text fill=\"#000000\" font-family=\"Times,serif\" font-size=\"14.00\" text-anchor=\"middle\" x=\"175.6382\" y=\"-169.3\">output:</text>\n",
       "<polyline fill=\"none\" points=\"203.4727,-162.5 203.4727,-206.5 \" stroke=\"#000000\"/>\n",
       "<text fill=\"#000000\" font-family=\"Times,serif\" font-size=\"14.00\" text-anchor=\"middle\" x=\"259.2969\" y=\"-191.3\">(None, 500, 300)</text>\n",
       "<polyline fill=\"none\" points=\"203.4727,-184.5 315.1211,-184.5 \" stroke=\"#000000\"/>\n",
       "<text fill=\"#000000\" font-family=\"Times,serif\" font-size=\"14.00\" text-anchor=\"middle\" x=\"259.2969\" y=\"-169.3\">(None, 300)</text>\n",
       "</g>\n",
       "<!-- 4916389200&#45;&gt;4916537776 -->\n",
       "<g class=\"edge\" id=\"edge2\">\n",
       "<title>4916389200-&gt;4916537776</title>\n",
       "<path d=\"M169.2295,-243.3664C169.2295,-235.1516 169.2295,-225.6579 169.2295,-216.7252\" fill=\"none\" stroke=\"#000000\"/>\n",
       "<polygon fill=\"#000000\" points=\"172.7296,-216.6068 169.2295,-206.6068 165.7296,-216.6069 172.7296,-216.6068\" stroke=\"#000000\"/>\n",
       "</g>\n",
       "<!-- 4915763240 -->\n",
       "<g class=\"node\" id=\"node4\">\n",
       "<title>4915763240</title>\n",
       "<polygon fill=\"none\" points=\"43.9448,-81.5 43.9448,-125.5 294.5142,-125.5 294.5142,-81.5 43.9448,-81.5\" stroke=\"#000000\"/>\n",
       "<text fill=\"#000000\" font-family=\"Times,serif\" font-size=\"14.00\" text-anchor=\"middle\" x=\"99.5708\" y=\"-99.3\">dense_15: Dense</text>\n",
       "<polyline fill=\"none\" points=\"155.1968,-81.5 155.1968,-125.5 \" stroke=\"#000000\"/>\n",
       "<text fill=\"#000000\" font-family=\"Times,serif\" font-size=\"14.00\" text-anchor=\"middle\" x=\"183.0313\" y=\"-110.3\">input:</text>\n",
       "<polyline fill=\"none\" points=\"155.1968,-103.5 210.8657,-103.5 \" stroke=\"#000000\"/>\n",
       "<text fill=\"#000000\" font-family=\"Times,serif\" font-size=\"14.00\" text-anchor=\"middle\" x=\"183.0313\" y=\"-88.3\">output:</text>\n",
       "<polyline fill=\"none\" points=\"210.8657,-81.5 210.8657,-125.5 \" stroke=\"#000000\"/>\n",
       "<text fill=\"#000000\" font-family=\"Times,serif\" font-size=\"14.00\" text-anchor=\"middle\" x=\"252.6899\" y=\"-110.3\">(None, 300)</text>\n",
       "<polyline fill=\"none\" points=\"210.8657,-103.5 294.5142,-103.5 \" stroke=\"#000000\"/>\n",
       "<text fill=\"#000000\" font-family=\"Times,serif\" font-size=\"14.00\" text-anchor=\"middle\" x=\"252.6899\" y=\"-88.3\">(None, 128)</text>\n",
       "</g>\n",
       "<!-- 4916537776&#45;&gt;4915763240 -->\n",
       "<g class=\"edge\" id=\"edge3\">\n",
       "<title>4916537776-&gt;4915763240</title>\n",
       "<path d=\"M169.2295,-162.3664C169.2295,-154.1516 169.2295,-144.6579 169.2295,-135.7252\" fill=\"none\" stroke=\"#000000\"/>\n",
       "<polygon fill=\"#000000\" points=\"172.7296,-135.6068 169.2295,-125.6068 165.7296,-135.6069 172.7296,-135.6068\" stroke=\"#000000\"/>\n",
       "</g>\n",
       "<!-- 4916389816 -->\n",
       "<g class=\"node\" id=\"node5\">\n",
       "<title>4916389816</title>\n",
       "<polygon fill=\"none\" points=\"43.9448,-.5 43.9448,-44.5 294.5142,-44.5 294.5142,-.5 43.9448,-.5\" stroke=\"#000000\"/>\n",
       "<text fill=\"#000000\" font-family=\"Times,serif\" font-size=\"14.00\" text-anchor=\"middle\" x=\"99.5708\" y=\"-18.3\">dense_16: Dense</text>\n",
       "<polyline fill=\"none\" points=\"155.1968,-.5 155.1968,-44.5 \" stroke=\"#000000\"/>\n",
       "<text fill=\"#000000\" font-family=\"Times,serif\" font-size=\"14.00\" text-anchor=\"middle\" x=\"183.0313\" y=\"-29.3\">input:</text>\n",
       "<polyline fill=\"none\" points=\"155.1968,-22.5 210.8657,-22.5 \" stroke=\"#000000\"/>\n",
       "<text fill=\"#000000\" font-family=\"Times,serif\" font-size=\"14.00\" text-anchor=\"middle\" x=\"183.0313\" y=\"-7.3\">output:</text>\n",
       "<polyline fill=\"none\" points=\"210.8657,-.5 210.8657,-44.5 \" stroke=\"#000000\"/>\n",
       "<text fill=\"#000000\" font-family=\"Times,serif\" font-size=\"14.00\" text-anchor=\"middle\" x=\"252.6899\" y=\"-29.3\">(None, 128)</text>\n",
       "<polyline fill=\"none\" points=\"210.8657,-22.5 294.5142,-22.5 \" stroke=\"#000000\"/>\n",
       "<text fill=\"#000000\" font-family=\"Times,serif\" font-size=\"14.00\" text-anchor=\"middle\" x=\"252.6899\" y=\"-7.3\">(None, 1)</text>\n",
       "</g>\n",
       "<!-- 4915763240&#45;&gt;4916389816 -->\n",
       "<g class=\"edge\" id=\"edge4\">\n",
       "<title>4915763240-&gt;4916389816</title>\n",
       "<path d=\"M169.2295,-81.3664C169.2295,-73.1516 169.2295,-63.6579 169.2295,-54.7252\" fill=\"none\" stroke=\"#000000\"/>\n",
       "<polygon fill=\"#000000\" points=\"172.7296,-54.6068 169.2295,-44.6068 165.7296,-54.6069 172.7296,-54.6068\" stroke=\"#000000\"/>\n",
       "</g>\n",
       "</g>\n",
       "</svg>"
      ],
      "text/plain": [
       "<IPython.core.display.SVG object>"
      ]
     },
     "execution_count": 32,
     "metadata": {},
     "output_type": "execute_result"
    }
   ],
   "source": [
    "i = layers.Input(shape=(x_train.shape[1],))\n",
    "\n",
    "embedding_layer = layers.Embedding(input_dim=vectors.shape[0],\n",
    "                                   output_dim=vectors.shape[1],\n",
    "                                   weights=[vectors],\n",
    "                                   trainable=False)\n",
    "\n",
    "h = embedding_layer(i)\n",
    "h = layers.Lambda(lambda r: K.mean(r, axis=1))(h)\n",
    "h = layers.Dense(128, activation='relu')(h)\n",
    "h = layers.Dense(1, activation='sigmoid')(h)\n",
    "\n",
    "model = models.Model(inputs=[i], outputs=[h])\n",
    "\n",
    "model.compile(loss='binary_crossentropy',\n",
    "              optimizer='adam',\n",
    "              metrics=['binary_accuracy'])\n",
    "\n",
    "SVG(model_to_dot(model, show_shapes=True).create(prog='dot', format='svg'))"
   ]
  },
  {
   "cell_type": "code",
   "execution_count": 21,
   "metadata": {},
   "outputs": [
    {
     "name": "stdout",
     "output_type": "stream",
     "text": [
      "Train on 25000 samples, validate on 25000 samples\n",
      "Epoch 1/2\n",
      "25000/25000 [==============================] - 20s 809us/step - loss: 0.5878 - binary_accuracy: 0.7067 - val_loss: 0.5193 - val_binary_accuracy: 0.7716\n",
      "Epoch 2/2\n",
      "25000/25000 [==============================] - 19s 748us/step - loss: 0.4729 - binary_accuracy: 0.7994 - val_loss: 0.4543 - val_binary_accuracy: 0.8092\n"
     ]
    },
    {
     "data": {
      "text/plain": [
       "<keras.callbacks.History at 0x11bc03470>"
      ]
     },
     "execution_count": 21,
     "metadata": {},
     "output_type": "execute_result"
    }
   ],
   "source": [
    "model.fit(x=x_train,\n",
    "          y=y_train,\n",
    "          validation_data=(x_test, y_test),\n",
    "          epochs=2)"
   ]
  },
  {
   "cell_type": "markdown",
   "metadata": {},
   "source": [
    "### Embeddings and GRU"
   ]
  },
  {
   "cell_type": "code",
   "execution_count": 31,
   "metadata": {},
   "outputs": [
    {
     "data": {
      "image/svg+xml": [
       "<svg height=\"296pt\" viewBox=\"0.00 0.00 346.46 296.00\" width=\"346pt\" xmlns=\"http://www.w3.org/2000/svg\" xmlns:xlink=\"http://www.w3.org/1999/xlink\">\n",
       "<g class=\"graph\" id=\"graph0\" transform=\"scale(1 1) rotate(0) translate(4 292)\">\n",
       "<title>G</title>\n",
       "<polygon fill=\"#ffffff\" points=\"-4,4 -4,-292 342.459,-292 342.459,4 -4,4\" stroke=\"transparent\"/>\n",
       "<!-- 4950434032 -->\n",
       "<g class=\"node\" id=\"node1\">\n",
       "<title>4950434032</title>\n",
       "<polygon fill=\"none\" points=\"31.8896,-243.5 31.8896,-287.5 306.5693,-287.5 306.5693,-243.5 31.8896,-243.5\" stroke=\"#000000\"/>\n",
       "<text fill=\"#000000\" font-family=\"Times,serif\" font-size=\"14.00\" text-anchor=\"middle\" x=\"99.5708\" y=\"-261.3\">input_14: InputLayer</text>\n",
       "<polyline fill=\"none\" points=\"167.252,-243.5 167.252,-287.5 \" stroke=\"#000000\"/>\n",
       "<text fill=\"#000000\" font-family=\"Times,serif\" font-size=\"14.00\" text-anchor=\"middle\" x=\"195.0864\" y=\"-272.3\">input:</text>\n",
       "<polyline fill=\"none\" points=\"167.252,-265.5 222.9209,-265.5 \" stroke=\"#000000\"/>\n",
       "<text fill=\"#000000\" font-family=\"Times,serif\" font-size=\"14.00\" text-anchor=\"middle\" x=\"195.0864\" y=\"-250.3\">output:</text>\n",
       "<polyline fill=\"none\" points=\"222.9209,-243.5 222.9209,-287.5 \" stroke=\"#000000\"/>\n",
       "<text fill=\"#000000\" font-family=\"Times,serif\" font-size=\"14.00\" text-anchor=\"middle\" x=\"264.7451\" y=\"-272.3\">(None, 500)</text>\n",
       "<polyline fill=\"none\" points=\"222.9209,-265.5 306.5693,-265.5 \" stroke=\"#000000\"/>\n",
       "<text fill=\"#000000\" font-family=\"Times,serif\" font-size=\"14.00\" text-anchor=\"middle\" x=\"264.7451\" y=\"-250.3\">(None, 500)</text>\n",
       "</g>\n",
       "<!-- 4950433976 -->\n",
       "<g class=\"node\" id=\"node2\">\n",
       "<title>4950433976</title>\n",
       "<polygon fill=\"none\" points=\"0,-162.5 0,-206.5 338.459,-206.5 338.459,-162.5 0,-162.5\" stroke=\"#000000\"/>\n",
       "<text fill=\"#000000\" font-family=\"Times,serif\" font-size=\"14.00\" text-anchor=\"middle\" x=\"85.5708\" y=\"-180.3\">embedding_14: Embedding</text>\n",
       "<polyline fill=\"none\" points=\"171.1416,-162.5 171.1416,-206.5 \" stroke=\"#000000\"/>\n",
       "<text fill=\"#000000\" font-family=\"Times,serif\" font-size=\"14.00\" text-anchor=\"middle\" x=\"198.9761\" y=\"-191.3\">input:</text>\n",
       "<polyline fill=\"none\" points=\"171.1416,-184.5 226.8105,-184.5 \" stroke=\"#000000\"/>\n",
       "<text fill=\"#000000\" font-family=\"Times,serif\" font-size=\"14.00\" text-anchor=\"middle\" x=\"198.9761\" y=\"-169.3\">output:</text>\n",
       "<polyline fill=\"none\" points=\"226.8105,-162.5 226.8105,-206.5 \" stroke=\"#000000\"/>\n",
       "<text fill=\"#000000\" font-family=\"Times,serif\" font-size=\"14.00\" text-anchor=\"middle\" x=\"282.6348\" y=\"-191.3\">(None, 500)</text>\n",
       "<polyline fill=\"none\" points=\"226.8105,-184.5 338.459,-184.5 \" stroke=\"#000000\"/>\n",
       "<text fill=\"#000000\" font-family=\"Times,serif\" font-size=\"14.00\" text-anchor=\"middle\" x=\"282.6348\" y=\"-169.3\">(None, 500, 300)</text>\n",
       "</g>\n",
       "<!-- 4950434032&#45;&gt;4950433976 -->\n",
       "<g class=\"edge\" id=\"edge1\">\n",
       "<title>4950434032-&gt;4950433976</title>\n",
       "<path d=\"M169.2295,-243.3664C169.2295,-235.1516 169.2295,-225.6579 169.2295,-216.7252\" fill=\"none\" stroke=\"#000000\"/>\n",
       "<polygon fill=\"#000000\" points=\"172.7296,-216.6068 169.2295,-206.6068 165.7296,-216.6069 172.7296,-216.6068\" stroke=\"#000000\"/>\n",
       "</g>\n",
       "<!-- 4950434816 -->\n",
       "<g class=\"node\" id=\"node3\">\n",
       "<title>4950434816</title>\n",
       "<polygon fill=\"none\" points=\"42.7656,-81.5 42.7656,-125.5 295.6934,-125.5 295.6934,-81.5 42.7656,-81.5\" stroke=\"#000000\"/>\n",
       "<text fill=\"#000000\" font-family=\"Times,serif\" font-size=\"14.00\" text-anchor=\"middle\" x=\"85.5708\" y=\"-99.3\">gru_2: GRU</text>\n",
       "<polyline fill=\"none\" points=\"128.376,-81.5 128.376,-125.5 \" stroke=\"#000000\"/>\n",
       "<text fill=\"#000000\" font-family=\"Times,serif\" font-size=\"14.00\" text-anchor=\"middle\" x=\"156.2104\" y=\"-110.3\">input:</text>\n",
       "<polyline fill=\"none\" points=\"128.376,-103.5 184.0449,-103.5 \" stroke=\"#000000\"/>\n",
       "<text fill=\"#000000\" font-family=\"Times,serif\" font-size=\"14.00\" text-anchor=\"middle\" x=\"156.2104\" y=\"-88.3\">output:</text>\n",
       "<polyline fill=\"none\" points=\"184.0449,-81.5 184.0449,-125.5 \" stroke=\"#000000\"/>\n",
       "<text fill=\"#000000\" font-family=\"Times,serif\" font-size=\"14.00\" text-anchor=\"middle\" x=\"239.8691\" y=\"-110.3\">(None, 500, 300)</text>\n",
       "<polyline fill=\"none\" points=\"184.0449,-103.5 295.6934,-103.5 \" stroke=\"#000000\"/>\n",
       "<text fill=\"#000000\" font-family=\"Times,serif\" font-size=\"14.00\" text-anchor=\"middle\" x=\"239.8691\" y=\"-88.3\">(None, 128)</text>\n",
       "</g>\n",
       "<!-- 4950433976&#45;&gt;4950434816 -->\n",
       "<g class=\"edge\" id=\"edge2\">\n",
       "<title>4950433976-&gt;4950434816</title>\n",
       "<path d=\"M169.2295,-162.3664C169.2295,-154.1516 169.2295,-144.6579 169.2295,-135.7252\" fill=\"none\" stroke=\"#000000\"/>\n",
       "<polygon fill=\"#000000\" points=\"172.7296,-135.6068 169.2295,-125.6068 165.7296,-135.6069 172.7296,-135.6068\" stroke=\"#000000\"/>\n",
       "</g>\n",
       "<!-- 4950434144 -->\n",
       "<g class=\"node\" id=\"node4\">\n",
       "<title>4950434144</title>\n",
       "<polygon fill=\"none\" points=\"43.9448,-.5 43.9448,-44.5 294.5142,-44.5 294.5142,-.5 43.9448,-.5\" stroke=\"#000000\"/>\n",
       "<text fill=\"#000000\" font-family=\"Times,serif\" font-size=\"14.00\" text-anchor=\"middle\" x=\"99.5708\" y=\"-18.3\">dense_14: Dense</text>\n",
       "<polyline fill=\"none\" points=\"155.1968,-.5 155.1968,-44.5 \" stroke=\"#000000\"/>\n",
       "<text fill=\"#000000\" font-family=\"Times,serif\" font-size=\"14.00\" text-anchor=\"middle\" x=\"183.0313\" y=\"-29.3\">input:</text>\n",
       "<polyline fill=\"none\" points=\"155.1968,-22.5 210.8657,-22.5 \" stroke=\"#000000\"/>\n",
       "<text fill=\"#000000\" font-family=\"Times,serif\" font-size=\"14.00\" text-anchor=\"middle\" x=\"183.0313\" y=\"-7.3\">output:</text>\n",
       "<polyline fill=\"none\" points=\"210.8657,-.5 210.8657,-44.5 \" stroke=\"#000000\"/>\n",
       "<text fill=\"#000000\" font-family=\"Times,serif\" font-size=\"14.00\" text-anchor=\"middle\" x=\"252.6899\" y=\"-29.3\">(None, 128)</text>\n",
       "<polyline fill=\"none\" points=\"210.8657,-22.5 294.5142,-22.5 \" stroke=\"#000000\"/>\n",
       "<text fill=\"#000000\" font-family=\"Times,serif\" font-size=\"14.00\" text-anchor=\"middle\" x=\"252.6899\" y=\"-7.3\">(None, 1)</text>\n",
       "</g>\n",
       "<!-- 4950434816&#45;&gt;4950434144 -->\n",
       "<g class=\"edge\" id=\"edge3\">\n",
       "<title>4950434816-&gt;4950434144</title>\n",
       "<path d=\"M169.2295,-81.3664C169.2295,-73.1516 169.2295,-63.6579 169.2295,-54.7252\" fill=\"none\" stroke=\"#000000\"/>\n",
       "<polygon fill=\"#000000\" points=\"172.7296,-54.6068 169.2295,-44.6068 165.7296,-54.6069 172.7296,-54.6068\" stroke=\"#000000\"/>\n",
       "</g>\n",
       "</g>\n",
       "</svg>"
      ],
      "text/plain": [
       "<IPython.core.display.SVG object>"
      ]
     },
     "execution_count": 31,
     "metadata": {},
     "output_type": "execute_result"
    }
   ],
   "source": [
    "i = layers.Input(shape=(x_train.shape[1],))\n",
    "\n",
    "embedding_layer = layers.Embedding(input_dim=vectors.shape[0],\n",
    "                                   output_dim=vectors.shape[1],\n",
    "                                   weights=[vectors],\n",
    "                                   trainable=False)\n",
    "\n",
    "h = embedding_layer(i)\n",
    "h = layers.GRU(128)(h)\n",
    "h = layers.Dense(1, activation='sigmoid')(h)\n",
    "\n",
    "model = models.Model(inputs=[i], outputs=[h])\n",
    "\n",
    "model.compile(loss='binary_crossentropy',\n",
    "              optimizer='adam',\n",
    "              metrics=['binary_accuracy'])\n",
    "\n",
    "SVG(model_to_dot(model, show_shapes=True).create(prog='dot', format='svg'))"
   ]
  },
  {
   "cell_type": "code",
   "execution_count": 23,
   "metadata": {},
   "outputs": [
    {
     "name": "stdout",
     "output_type": "stream",
     "text": [
      "Train on 25000 samples, validate on 25000 samples\n",
      "Epoch 1/2\n",
      "25000/25000 [==============================] - 946s 38ms/step - loss: 0.4530 - binary_accuracy: 0.7735 - val_loss: 0.3029 - val_binary_accuracy: 0.8716\n",
      "Epoch 2/2\n",
      "25000/25000 [==============================] - 840s 34ms/step - loss: 0.2804 - binary_accuracy: 0.8851 - val_loss: 0.2725 - val_binary_accuracy: 0.8860\n"
     ]
    },
    {
     "data": {
      "text/plain": [
       "<keras.callbacks.History at 0x12605d898>"
      ]
     },
     "execution_count": 23,
     "metadata": {},
     "output_type": "execute_result"
    }
   ],
   "source": [
    "model.fit(x=x_train,\n",
    "          y=y_train,\n",
    "          validation_data=(x_test, y_test),\n",
    "          epochs=2)"
   ]
  },
  {
   "cell_type": "markdown",
   "metadata": {},
   "source": [
    "### Embeddings and CNN"
   ]
  },
  {
   "cell_type": "code",
   "execution_count": 40,
   "metadata": {},
   "outputs": [
    {
     "data": {
      "image/svg+xml": [
       "<svg height=\"863pt\" viewBox=\"0.00 0.00 1180.93 863.00\" width=\"1181pt\" xmlns=\"http://www.w3.org/2000/svg\" xmlns:xlink=\"http://www.w3.org/1999/xlink\">\n",
       "<g class=\"graph\" id=\"graph0\" transform=\"scale(1 1) rotate(0) translate(4 859)\">\n",
       "<title>G</title>\n",
       "<polygon fill=\"#ffffff\" points=\"-4,4 -4,-859 1176.9277,-859 1176.9277,4 -4,4\" stroke=\"transparent\"/>\n",
       "<!-- 4915761504 -->\n",
       "<g class=\"node\" id=\"node1\">\n",
       "<title>4915761504</title>\n",
       "<polygon fill=\"none\" points=\"449.124,-810.5 449.124,-854.5 723.8037,-854.5 723.8037,-810.5 449.124,-810.5\" stroke=\"#000000\"/>\n",
       "<text fill=\"#000000\" font-family=\"Times,serif\" font-size=\"14.00\" text-anchor=\"middle\" x=\"516.8052\" y=\"-828.3\">input_20: InputLayer</text>\n",
       "<polyline fill=\"none\" points=\"584.4863,-810.5 584.4863,-854.5 \" stroke=\"#000000\"/>\n",
       "<text fill=\"#000000\" font-family=\"Times,serif\" font-size=\"14.00\" text-anchor=\"middle\" x=\"612.3208\" y=\"-839.3\">input:</text>\n",
       "<polyline fill=\"none\" points=\"584.4863,-832.5 640.1553,-832.5 \" stroke=\"#000000\"/>\n",
       "<text fill=\"#000000\" font-family=\"Times,serif\" font-size=\"14.00\" text-anchor=\"middle\" x=\"612.3208\" y=\"-817.3\">output:</text>\n",
       "<polyline fill=\"none\" points=\"640.1553,-810.5 640.1553,-854.5 \" stroke=\"#000000\"/>\n",
       "<text fill=\"#000000\" font-family=\"Times,serif\" font-size=\"14.00\" text-anchor=\"middle\" x=\"681.9795\" y=\"-839.3\">(None, 500)</text>\n",
       "<polyline fill=\"none\" points=\"640.1553,-832.5 723.8037,-832.5 \" stroke=\"#000000\"/>\n",
       "<text fill=\"#000000\" font-family=\"Times,serif\" font-size=\"14.00\" text-anchor=\"middle\" x=\"681.9795\" y=\"-817.3\">(None, 500)</text>\n",
       "</g>\n",
       "<!-- 4916070664 -->\n",
       "<g class=\"node\" id=\"node2\">\n",
       "<title>4916070664</title>\n",
       "<polygon fill=\"none\" points=\"417.2344,-729.5 417.2344,-773.5 755.6934,-773.5 755.6934,-729.5 417.2344,-729.5\" stroke=\"#000000\"/>\n",
       "<text fill=\"#000000\" font-family=\"Times,serif\" font-size=\"14.00\" text-anchor=\"middle\" x=\"502.8052\" y=\"-747.3\">embedding_20: Embedding</text>\n",
       "<polyline fill=\"none\" points=\"588.376,-729.5 588.376,-773.5 \" stroke=\"#000000\"/>\n",
       "<text fill=\"#000000\" font-family=\"Times,serif\" font-size=\"14.00\" text-anchor=\"middle\" x=\"616.2104\" y=\"-758.3\">input:</text>\n",
       "<polyline fill=\"none\" points=\"588.376,-751.5 644.0449,-751.5 \" stroke=\"#000000\"/>\n",
       "<text fill=\"#000000\" font-family=\"Times,serif\" font-size=\"14.00\" text-anchor=\"middle\" x=\"616.2104\" y=\"-736.3\">output:</text>\n",
       "<polyline fill=\"none\" points=\"644.0449,-729.5 644.0449,-773.5 \" stroke=\"#000000\"/>\n",
       "<text fill=\"#000000\" font-family=\"Times,serif\" font-size=\"14.00\" text-anchor=\"middle\" x=\"699.8691\" y=\"-758.3\">(None, 500)</text>\n",
       "<polyline fill=\"none\" points=\"644.0449,-751.5 755.6934,-751.5 \" stroke=\"#000000\"/>\n",
       "<text fill=\"#000000\" font-family=\"Times,serif\" font-size=\"14.00\" text-anchor=\"middle\" x=\"699.8691\" y=\"-736.3\">(None, 500, 300)</text>\n",
       "</g>\n",
       "<!-- 4915761504&#45;&gt;4916070664 -->\n",
       "<g class=\"edge\" id=\"edge1\">\n",
       "<title>4915761504-&gt;4916070664</title>\n",
       "<path d=\"M586.4639,-810.3664C586.4639,-802.1516 586.4639,-792.6579 586.4639,-783.7252\" fill=\"none\" stroke=\"#000000\"/>\n",
       "<polygon fill=\"#000000\" points=\"589.964,-783.6068 586.4639,-773.6068 582.964,-783.6069 589.964,-783.6068\" stroke=\"#000000\"/>\n",
       "</g>\n",
       "<!-- 4924546688 -->\n",
       "<g class=\"node\" id=\"node3\">\n",
       "<title>4924546688</title>\n",
       "<polygon fill=\"none\" points=\"79.2793,-648.5 79.2793,-692.5 379.6484,-692.5 379.6484,-648.5 79.2793,-648.5\" stroke=\"#000000\"/>\n",
       "<text fill=\"#000000\" font-family=\"Times,serif\" font-size=\"14.00\" text-anchor=\"middle\" x=\"145.8052\" y=\"-666.3\">conv1d_24: Conv1D</text>\n",
       "<polyline fill=\"none\" points=\"212.3311,-648.5 212.3311,-692.5 \" stroke=\"#000000\"/>\n",
       "<text fill=\"#000000\" font-family=\"Times,serif\" font-size=\"14.00\" text-anchor=\"middle\" x=\"240.1655\" y=\"-677.3\">input:</text>\n",
       "<polyline fill=\"none\" points=\"212.3311,-670.5 268,-670.5 \" stroke=\"#000000\"/>\n",
       "<text fill=\"#000000\" font-family=\"Times,serif\" font-size=\"14.00\" text-anchor=\"middle\" x=\"240.1655\" y=\"-655.3\">output:</text>\n",
       "<polyline fill=\"none\" points=\"268,-648.5 268,-692.5 \" stroke=\"#000000\"/>\n",
       "<text fill=\"#000000\" font-family=\"Times,serif\" font-size=\"14.00\" text-anchor=\"middle\" x=\"323.8242\" y=\"-677.3\">(None, 500, 300)</text>\n",
       "<polyline fill=\"none\" points=\"268,-670.5 379.6484,-670.5 \" stroke=\"#000000\"/>\n",
       "<text fill=\"#000000\" font-family=\"Times,serif\" font-size=\"14.00\" text-anchor=\"middle\" x=\"323.8242\" y=\"-655.3\">(None, 496, 10)</text>\n",
       "</g>\n",
       "<!-- 4916070664&#45;&gt;4924546688 -->\n",
       "<g class=\"edge\" id=\"edge2\">\n",
       "<title>4916070664-&gt;4924546688</title>\n",
       "<path d=\"M489.3836,-729.4734C442.0579,-718.7356 385.0141,-705.7929 336.438,-694.7714\" fill=\"none\" stroke=\"#000000\"/>\n",
       "<polygon fill=\"#000000\" points=\"337.0514,-691.3217 326.5248,-692.5222 335.5025,-698.1482 337.0514,-691.3217\" stroke=\"#000000\"/>\n",
       "</g>\n",
       "<!-- 4949712064 -->\n",
       "<g class=\"node\" id=\"node4\">\n",
       "<title>4949712064</title>\n",
       "<polygon fill=\"none\" points=\"436.2793,-648.5 436.2793,-692.5 736.6484,-692.5 736.6484,-648.5 436.2793,-648.5\" stroke=\"#000000\"/>\n",
       "<text fill=\"#000000\" font-family=\"Times,serif\" font-size=\"14.00\" text-anchor=\"middle\" x=\"502.8052\" y=\"-666.3\">conv1d_25: Conv1D</text>\n",
       "<polyline fill=\"none\" points=\"569.3311,-648.5 569.3311,-692.5 \" stroke=\"#000000\"/>\n",
       "<text fill=\"#000000\" font-family=\"Times,serif\" font-size=\"14.00\" text-anchor=\"middle\" x=\"597.1655\" y=\"-677.3\">input:</text>\n",
       "<polyline fill=\"none\" points=\"569.3311,-670.5 625,-670.5 \" stroke=\"#000000\"/>\n",
       "<text fill=\"#000000\" font-family=\"Times,serif\" font-size=\"14.00\" text-anchor=\"middle\" x=\"597.1655\" y=\"-655.3\">output:</text>\n",
       "<polyline fill=\"none\" points=\"625,-648.5 625,-692.5 \" stroke=\"#000000\"/>\n",
       "<text fill=\"#000000\" font-family=\"Times,serif\" font-size=\"14.00\" text-anchor=\"middle\" x=\"680.8242\" y=\"-677.3\">(None, 500, 300)</text>\n",
       "<polyline fill=\"none\" points=\"625,-670.5 736.6484,-670.5 \" stroke=\"#000000\"/>\n",
       "<text fill=\"#000000\" font-family=\"Times,serif\" font-size=\"14.00\" text-anchor=\"middle\" x=\"680.8242\" y=\"-655.3\">(None, 497, 10)</text>\n",
       "</g>\n",
       "<!-- 4916070664&#45;&gt;4949712064 -->\n",
       "<g class=\"edge\" id=\"edge3\">\n",
       "<title>4916070664-&gt;4949712064</title>\n",
       "<path d=\"M586.4639,-729.3664C586.4639,-721.1516 586.4639,-711.6579 586.4639,-702.7252\" fill=\"none\" stroke=\"#000000\"/>\n",
       "<polygon fill=\"#000000\" points=\"589.964,-702.6068 586.4639,-692.6068 582.964,-702.6069 589.964,-702.6068\" stroke=\"#000000\"/>\n",
       "</g>\n",
       "<!-- 4977823192 -->\n",
       "<g class=\"node\" id=\"node5\">\n",
       "<title>4977823192</title>\n",
       "<polygon fill=\"none\" points=\"793.2793,-648.5 793.2793,-692.5 1093.6484,-692.5 1093.6484,-648.5 793.2793,-648.5\" stroke=\"#000000\"/>\n",
       "<text fill=\"#000000\" font-family=\"Times,serif\" font-size=\"14.00\" text-anchor=\"middle\" x=\"859.8052\" y=\"-666.3\">conv1d_26: Conv1D</text>\n",
       "<polyline fill=\"none\" points=\"926.3311,-648.5 926.3311,-692.5 \" stroke=\"#000000\"/>\n",
       "<text fill=\"#000000\" font-family=\"Times,serif\" font-size=\"14.00\" text-anchor=\"middle\" x=\"954.1655\" y=\"-677.3\">input:</text>\n",
       "<polyline fill=\"none\" points=\"926.3311,-670.5 982,-670.5 \" stroke=\"#000000\"/>\n",
       "<text fill=\"#000000\" font-family=\"Times,serif\" font-size=\"14.00\" text-anchor=\"middle\" x=\"954.1655\" y=\"-655.3\">output:</text>\n",
       "<polyline fill=\"none\" points=\"982,-648.5 982,-692.5 \" stroke=\"#000000\"/>\n",
       "<text fill=\"#000000\" font-family=\"Times,serif\" font-size=\"14.00\" text-anchor=\"middle\" x=\"1037.8242\" y=\"-677.3\">(None, 500, 300)</text>\n",
       "<polyline fill=\"none\" points=\"982,-670.5 1093.6484,-670.5 \" stroke=\"#000000\"/>\n",
       "<text fill=\"#000000\" font-family=\"Times,serif\" font-size=\"14.00\" text-anchor=\"middle\" x=\"1037.8242\" y=\"-655.3\">(None, 498, 30)</text>\n",
       "</g>\n",
       "<!-- 4916070664&#45;&gt;4977823192 -->\n",
       "<g class=\"edge\" id=\"edge4\">\n",
       "<title>4916070664-&gt;4977823192</title>\n",
       "<path d=\"M683.5441,-729.4734C730.8698,-718.7356 787.9136,-705.7929 836.4897,-694.7714\" fill=\"none\" stroke=\"#000000\"/>\n",
       "<polygon fill=\"#000000\" points=\"837.4253,-698.1482 846.4029,-692.5222 835.8763,-691.3217 837.4253,-698.1482\" stroke=\"#000000\"/>\n",
       "</g>\n",
       "<!-- 4927741568 -->\n",
       "<g class=\"node\" id=\"node6\">\n",
       "<title>4927741568</title>\n",
       "<polygon fill=\"none\" points=\"0,-567.5 0,-611.5 378.9277,-611.5 378.9277,-567.5 0,-567.5\" stroke=\"#000000\"/>\n",
       "<text fill=\"#000000\" font-family=\"Times,serif\" font-size=\"14.00\" text-anchor=\"middle\" x=\"109.3052\" y=\"-585.3\">max_pooling1d_22: MaxPooling1D</text>\n",
       "<polyline fill=\"none\" points=\"218.6104,-567.5 218.6104,-611.5 \" stroke=\"#000000\"/>\n",
       "<text fill=\"#000000\" font-family=\"Times,serif\" font-size=\"14.00\" text-anchor=\"middle\" x=\"246.4448\" y=\"-596.3\">input:</text>\n",
       "<polyline fill=\"none\" points=\"218.6104,-589.5 274.2793,-589.5 \" stroke=\"#000000\"/>\n",
       "<text fill=\"#000000\" font-family=\"Times,serif\" font-size=\"14.00\" text-anchor=\"middle\" x=\"246.4448\" y=\"-574.3\">output:</text>\n",
       "<polyline fill=\"none\" points=\"274.2793,-567.5 274.2793,-611.5 \" stroke=\"#000000\"/>\n",
       "<text fill=\"#000000\" font-family=\"Times,serif\" font-size=\"14.00\" text-anchor=\"middle\" x=\"326.6035\" y=\"-596.3\">(None, 496, 10)</text>\n",
       "<polyline fill=\"none\" points=\"274.2793,-589.5 378.9277,-589.5 \" stroke=\"#000000\"/>\n",
       "<text fill=\"#000000\" font-family=\"Times,serif\" font-size=\"14.00\" text-anchor=\"middle\" x=\"326.6035\" y=\"-574.3\">(None, 248, 10)</text>\n",
       "</g>\n",
       "<!-- 4924546688&#45;&gt;4927741568 -->\n",
       "<g class=\"edge\" id=\"edge5\">\n",
       "<title>4924546688-&gt;4927741568</title>\n",
       "<path d=\"M218.5337,-648.3664C214.3447,-639.8838 209.4823,-630.0374 204.9469,-620.8532\" fill=\"none\" stroke=\"#000000\"/>\n",
       "<polygon fill=\"#000000\" points=\"207.9469,-619.0234 200.3808,-611.6068 201.6705,-622.1229 207.9469,-619.0234\" stroke=\"#000000\"/>\n",
       "</g>\n",
       "<!-- 4927733376 -->\n",
       "<g class=\"node\" id=\"node7\">\n",
       "<title>4927733376</title>\n",
       "<polygon fill=\"none\" points=\"397,-567.5 397,-611.5 775.9277,-611.5 775.9277,-567.5 397,-567.5\" stroke=\"#000000\"/>\n",
       "<text fill=\"#000000\" font-family=\"Times,serif\" font-size=\"14.00\" text-anchor=\"middle\" x=\"506.3052\" y=\"-585.3\">max_pooling1d_23: MaxPooling1D</text>\n",
       "<polyline fill=\"none\" points=\"615.6104,-567.5 615.6104,-611.5 \" stroke=\"#000000\"/>\n",
       "<text fill=\"#000000\" font-family=\"Times,serif\" font-size=\"14.00\" text-anchor=\"middle\" x=\"643.4448\" y=\"-596.3\">input:</text>\n",
       "<polyline fill=\"none\" points=\"615.6104,-589.5 671.2793,-589.5 \" stroke=\"#000000\"/>\n",
       "<text fill=\"#000000\" font-family=\"Times,serif\" font-size=\"14.00\" text-anchor=\"middle\" x=\"643.4448\" y=\"-574.3\">output:</text>\n",
       "<polyline fill=\"none\" points=\"671.2793,-567.5 671.2793,-611.5 \" stroke=\"#000000\"/>\n",
       "<text fill=\"#000000\" font-family=\"Times,serif\" font-size=\"14.00\" text-anchor=\"middle\" x=\"723.6035\" y=\"-596.3\">(None, 497, 10)</text>\n",
       "<polyline fill=\"none\" points=\"671.2793,-589.5 775.9277,-589.5 \" stroke=\"#000000\"/>\n",
       "<text fill=\"#000000\" font-family=\"Times,serif\" font-size=\"14.00\" text-anchor=\"middle\" x=\"723.6035\" y=\"-574.3\">(None, 248, 10)</text>\n",
       "</g>\n",
       "<!-- 4949712064&#45;&gt;4927733376 -->\n",
       "<g class=\"edge\" id=\"edge6\">\n",
       "<title>4949712064-&gt;4927733376</title>\n",
       "<path d=\"M586.4639,-648.3664C586.4639,-640.1516 586.4639,-630.6579 586.4639,-621.7252\" fill=\"none\" stroke=\"#000000\"/>\n",
       "<polygon fill=\"#000000\" points=\"589.964,-621.6068 586.4639,-611.6068 582.964,-621.6069 589.964,-621.6068\" stroke=\"#000000\"/>\n",
       "</g>\n",
       "<!-- 4949495760 -->\n",
       "<g class=\"node\" id=\"node8\">\n",
       "<title>4949495760</title>\n",
       "<polygon fill=\"none\" points=\"794,-567.5 794,-611.5 1172.9277,-611.5 1172.9277,-567.5 794,-567.5\" stroke=\"#000000\"/>\n",
       "<text fill=\"#000000\" font-family=\"Times,serif\" font-size=\"14.00\" text-anchor=\"middle\" x=\"903.3052\" y=\"-585.3\">max_pooling1d_24: MaxPooling1D</text>\n",
       "<polyline fill=\"none\" points=\"1012.6104,-567.5 1012.6104,-611.5 \" stroke=\"#000000\"/>\n",
       "<text fill=\"#000000\" font-family=\"Times,serif\" font-size=\"14.00\" text-anchor=\"middle\" x=\"1040.4448\" y=\"-596.3\">input:</text>\n",
       "<polyline fill=\"none\" points=\"1012.6104,-589.5 1068.2793,-589.5 \" stroke=\"#000000\"/>\n",
       "<text fill=\"#000000\" font-family=\"Times,serif\" font-size=\"14.00\" text-anchor=\"middle\" x=\"1040.4448\" y=\"-574.3\">output:</text>\n",
       "<polyline fill=\"none\" points=\"1068.2793,-567.5 1068.2793,-611.5 \" stroke=\"#000000\"/>\n",
       "<text fill=\"#000000\" font-family=\"Times,serif\" font-size=\"14.00\" text-anchor=\"middle\" x=\"1120.6035\" y=\"-596.3\">(None, 498, 30)</text>\n",
       "<polyline fill=\"none\" points=\"1068.2793,-589.5 1172.9277,-589.5 \" stroke=\"#000000\"/>\n",
       "<text fill=\"#000000\" font-family=\"Times,serif\" font-size=\"14.00\" text-anchor=\"middle\" x=\"1120.6035\" y=\"-574.3\">(None, 249, 30)</text>\n",
       "</g>\n",
       "<!-- 4977823192&#45;&gt;4949495760 -->\n",
       "<g class=\"edge\" id=\"edge7\">\n",
       "<title>4977823192-&gt;4949495760</title>\n",
       "<path d=\"M954.394,-648.3664C958.583,-639.8838 963.4454,-630.0374 967.9808,-620.8532\" fill=\"none\" stroke=\"#000000\"/>\n",
       "<polygon fill=\"#000000\" points=\"971.2573,-622.1229 972.5469,-611.6068 964.9808,-619.0234 971.2573,-622.1229\" stroke=\"#000000\"/>\n",
       "</g>\n",
       "<!-- 4927740168 -->\n",
       "<g class=\"node\" id=\"node9\">\n",
       "<title>4927740168</title>\n",
       "<polygon fill=\"none\" points=\"100.1724,-486.5 100.1724,-530.5 378.7554,-530.5 378.7554,-486.5 100.1724,-486.5\" stroke=\"#000000\"/>\n",
       "<text fill=\"#000000\" font-family=\"Times,serif\" font-size=\"14.00\" text-anchor=\"middle\" x=\"159.3052\" y=\"-504.3\">flatten_22: Flatten</text>\n",
       "<polyline fill=\"none\" points=\"218.438,-486.5 218.438,-530.5 \" stroke=\"#000000\"/>\n",
       "<text fill=\"#000000\" font-family=\"Times,serif\" font-size=\"14.00\" text-anchor=\"middle\" x=\"246.2725\" y=\"-515.3\">input:</text>\n",
       "<polyline fill=\"none\" points=\"218.438,-508.5 274.1069,-508.5 \" stroke=\"#000000\"/>\n",
       "<text fill=\"#000000\" font-family=\"Times,serif\" font-size=\"14.00\" text-anchor=\"middle\" x=\"246.2725\" y=\"-493.3\">output:</text>\n",
       "<polyline fill=\"none\" points=\"274.1069,-486.5 274.1069,-530.5 \" stroke=\"#000000\"/>\n",
       "<text fill=\"#000000\" font-family=\"Times,serif\" font-size=\"14.00\" text-anchor=\"middle\" x=\"326.4312\" y=\"-515.3\">(None, 248, 10)</text>\n",
       "<polyline fill=\"none\" points=\"274.1069,-508.5 378.7554,-508.5 \" stroke=\"#000000\"/>\n",
       "<text fill=\"#000000\" font-family=\"Times,serif\" font-size=\"14.00\" text-anchor=\"middle\" x=\"326.4312\" y=\"-493.3\">(None, 2480)</text>\n",
       "</g>\n",
       "<!-- 4927741568&#45;&gt;4927740168 -->\n",
       "<g class=\"edge\" id=\"edge8\">\n",
       "<title>4927741568-&gt;4927740168</title>\n",
       "<path d=\"M203.1266,-567.3664C208.473,-558.7052 214.6971,-548.6222 220.4676,-539.274\" fill=\"none\" stroke=\"#000000\"/>\n",
       "<polygon fill=\"#000000\" points=\"223.5432,-540.9547 225.8177,-530.6068 217.5866,-537.2778 223.5432,-540.9547\" stroke=\"#000000\"/>\n",
       "</g>\n",
       "<!-- 4949580264 -->\n",
       "<g class=\"node\" id=\"node10\">\n",
       "<title>4949580264</title>\n",
       "<polygon fill=\"none\" points=\"447.1724,-486.5 447.1724,-530.5 725.7554,-530.5 725.7554,-486.5 447.1724,-486.5\" stroke=\"#000000\"/>\n",
       "<text fill=\"#000000\" font-family=\"Times,serif\" font-size=\"14.00\" text-anchor=\"middle\" x=\"506.3052\" y=\"-504.3\">flatten_23: Flatten</text>\n",
       "<polyline fill=\"none\" points=\"565.438,-486.5 565.438,-530.5 \" stroke=\"#000000\"/>\n",
       "<text fill=\"#000000\" font-family=\"Times,serif\" font-size=\"14.00\" text-anchor=\"middle\" x=\"593.2725\" y=\"-515.3\">input:</text>\n",
       "<polyline fill=\"none\" points=\"565.438,-508.5 621.1069,-508.5 \" stroke=\"#000000\"/>\n",
       "<text fill=\"#000000\" font-family=\"Times,serif\" font-size=\"14.00\" text-anchor=\"middle\" x=\"593.2725\" y=\"-493.3\">output:</text>\n",
       "<polyline fill=\"none\" points=\"621.1069,-486.5 621.1069,-530.5 \" stroke=\"#000000\"/>\n",
       "<text fill=\"#000000\" font-family=\"Times,serif\" font-size=\"14.00\" text-anchor=\"middle\" x=\"673.4312\" y=\"-515.3\">(None, 248, 10)</text>\n",
       "<polyline fill=\"none\" points=\"621.1069,-508.5 725.7554,-508.5 \" stroke=\"#000000\"/>\n",
       "<text fill=\"#000000\" font-family=\"Times,serif\" font-size=\"14.00\" text-anchor=\"middle\" x=\"673.4312\" y=\"-493.3\">(None, 2480)</text>\n",
       "</g>\n",
       "<!-- 4927733376&#45;&gt;4949580264 -->\n",
       "<g class=\"edge\" id=\"edge9\">\n",
       "<title>4927733376-&gt;4949580264</title>\n",
       "<path d=\"M586.4639,-567.3664C586.4639,-559.1516 586.4639,-549.6579 586.4639,-540.7252\" fill=\"none\" stroke=\"#000000\"/>\n",
       "<polygon fill=\"#000000\" points=\"589.964,-540.6068 586.4639,-530.6068 582.964,-540.6069 589.964,-540.6068\" stroke=\"#000000\"/>\n",
       "</g>\n",
       "<!-- 4918612040 -->\n",
       "<g class=\"node\" id=\"node11\">\n",
       "<title>4918612040</title>\n",
       "<polygon fill=\"none\" points=\"794.1724,-486.5 794.1724,-530.5 1072.7554,-530.5 1072.7554,-486.5 794.1724,-486.5\" stroke=\"#000000\"/>\n",
       "<text fill=\"#000000\" font-family=\"Times,serif\" font-size=\"14.00\" text-anchor=\"middle\" x=\"853.3052\" y=\"-504.3\">flatten_24: Flatten</text>\n",
       "<polyline fill=\"none\" points=\"912.438,-486.5 912.438,-530.5 \" stroke=\"#000000\"/>\n",
       "<text fill=\"#000000\" font-family=\"Times,serif\" font-size=\"14.00\" text-anchor=\"middle\" x=\"940.2725\" y=\"-515.3\">input:</text>\n",
       "<polyline fill=\"none\" points=\"912.438,-508.5 968.1069,-508.5 \" stroke=\"#000000\"/>\n",
       "<text fill=\"#000000\" font-family=\"Times,serif\" font-size=\"14.00\" text-anchor=\"middle\" x=\"940.2725\" y=\"-493.3\">output:</text>\n",
       "<polyline fill=\"none\" points=\"968.1069,-486.5 968.1069,-530.5 \" stroke=\"#000000\"/>\n",
       "<text fill=\"#000000\" font-family=\"Times,serif\" font-size=\"14.00\" text-anchor=\"middle\" x=\"1020.4312\" y=\"-515.3\">(None, 249, 30)</text>\n",
       "<polyline fill=\"none\" points=\"968.1069,-508.5 1072.7554,-508.5 \" stroke=\"#000000\"/>\n",
       "<text fill=\"#000000\" font-family=\"Times,serif\" font-size=\"14.00\" text-anchor=\"middle\" x=\"1020.4312\" y=\"-493.3\">(None, 7470)</text>\n",
       "</g>\n",
       "<!-- 4949495760&#45;&gt;4918612040 -->\n",
       "<g class=\"edge\" id=\"edge10\">\n",
       "<title>4949495760-&gt;4918612040</title>\n",
       "<path d=\"M969.8011,-567.3664C964.4547,-558.7052 958.2307,-548.6222 952.4602,-539.274\" fill=\"none\" stroke=\"#000000\"/>\n",
       "<polygon fill=\"#000000\" points=\"955.3411,-537.2778 947.1101,-530.6068 949.3845,-540.9547 955.3411,-537.2778\" stroke=\"#000000\"/>\n",
       "</g>\n",
       "<!-- 4927685912 -->\n",
       "<g class=\"node\" id=\"node12\">\n",
       "<title>4927685912</title>\n",
       "<polygon fill=\"none\" points=\"340.6753,-405.5 340.6753,-449.5 832.2524,-449.5 832.2524,-405.5 340.6753,-405.5\" stroke=\"#000000\"/>\n",
       "<text fill=\"#000000\" font-family=\"Times,serif\" font-size=\"14.00\" text-anchor=\"middle\" x=\"426.9946\" y=\"-423.3\">concatenate_8: Concatenate</text>\n",
       "<polyline fill=\"none\" points=\"513.314,-405.5 513.314,-449.5 \" stroke=\"#000000\"/>\n",
       "<text fill=\"#000000\" font-family=\"Times,serif\" font-size=\"14.00\" text-anchor=\"middle\" x=\"541.1484\" y=\"-434.3\">input:</text>\n",
       "<polyline fill=\"none\" points=\"513.314,-427.5 568.9829,-427.5 \" stroke=\"#000000\"/>\n",
       "<text fill=\"#000000\" font-family=\"Times,serif\" font-size=\"14.00\" text-anchor=\"middle\" x=\"541.1484\" y=\"-412.3\">output:</text>\n",
       "<polyline fill=\"none\" points=\"568.9829,-405.5 568.9829,-449.5 \" stroke=\"#000000\"/>\n",
       "<text fill=\"#000000\" font-family=\"Times,serif\" font-size=\"14.00\" text-anchor=\"middle\" x=\"700.6177\" y=\"-434.3\">[(None, 2480), (None, 2480), (None, 7470)]</text>\n",
       "<polyline fill=\"none\" points=\"568.9829,-427.5 832.2524,-427.5 \" stroke=\"#000000\"/>\n",
       "<text fill=\"#000000\" font-family=\"Times,serif\" font-size=\"14.00\" text-anchor=\"middle\" x=\"700.3071\" y=\"-412.3\">(None, 12430)</text>\n",
       "</g>\n",
       "<!-- 4927740168&#45;&gt;4927685912 -->\n",
       "<g class=\"edge\" id=\"edge11\">\n",
       "<title>4927740168-&gt;4927685912</title>\n",
       "<path d=\"M333.8248,-486.4734C379.7288,-475.758 435.0393,-462.847 482.1904,-451.8405\" fill=\"none\" stroke=\"#000000\"/>\n",
       "<polygon fill=\"#000000\" points=\"483.1792,-455.2039 492.1217,-449.5222 481.5879,-448.3871 483.1792,-455.2039\" stroke=\"#000000\"/>\n",
       "</g>\n",
       "<!-- 4949580264&#45;&gt;4927685912 -->\n",
       "<g class=\"edge\" id=\"edge12\">\n",
       "<title>4949580264-&gt;4927685912</title>\n",
       "<path d=\"M586.4639,-486.3664C586.4639,-478.1516 586.4639,-468.6579 586.4639,-459.7252\" fill=\"none\" stroke=\"#000000\"/>\n",
       "<polygon fill=\"#000000\" points=\"589.964,-459.6068 586.4639,-449.6068 582.964,-459.6069 589.964,-459.6068\" stroke=\"#000000\"/>\n",
       "</g>\n",
       "<!-- 4918612040&#45;&gt;4927685912 -->\n",
       "<g class=\"edge\" id=\"edge13\">\n",
       "<title>4918612040-&gt;4927685912</title>\n",
       "<path d=\"M839.1029,-486.4734C793.1989,-475.758 737.8885,-462.847 690.7374,-451.8405\" fill=\"none\" stroke=\"#000000\"/>\n",
       "<polygon fill=\"#000000\" points=\"691.3399,-448.3871 680.806,-449.5222 689.7486,-455.2039 691.3399,-448.3871\" stroke=\"#000000\"/>\n",
       "</g>\n",
       "<!-- 4916179800 -->\n",
       "<g class=\"node\" id=\"node13\">\n",
       "<title>4916179800</title>\n",
       "<polygon fill=\"none\" points=\"442.5034,-324.5 442.5034,-368.5 730.4243,-368.5 730.4243,-324.5 442.5034,-324.5\" stroke=\"#000000\"/>\n",
       "<text fill=\"#000000\" font-family=\"Times,serif\" font-size=\"14.00\" text-anchor=\"middle\" x=\"509.8052\" y=\"-342.3\">dropout_10: Dropout</text>\n",
       "<polyline fill=\"none\" points=\"577.1069,-324.5 577.1069,-368.5 \" stroke=\"#000000\"/>\n",
       "<text fill=\"#000000\" font-family=\"Times,serif\" font-size=\"14.00\" text-anchor=\"middle\" x=\"604.9414\" y=\"-353.3\">input:</text>\n",
       "<polyline fill=\"none\" points=\"577.1069,-346.5 632.7759,-346.5 \" stroke=\"#000000\"/>\n",
       "<text fill=\"#000000\" font-family=\"Times,serif\" font-size=\"14.00\" text-anchor=\"middle\" x=\"604.9414\" y=\"-331.3\">output:</text>\n",
       "<polyline fill=\"none\" points=\"632.7759,-324.5 632.7759,-368.5 \" stroke=\"#000000\"/>\n",
       "<text fill=\"#000000\" font-family=\"Times,serif\" font-size=\"14.00\" text-anchor=\"middle\" x=\"681.6001\" y=\"-353.3\">(None, 12430)</text>\n",
       "<polyline fill=\"none\" points=\"632.7759,-346.5 730.4243,-346.5 \" stroke=\"#000000\"/>\n",
       "<text fill=\"#000000\" font-family=\"Times,serif\" font-size=\"14.00\" text-anchor=\"middle\" x=\"681.6001\" y=\"-331.3\">(None, 12430)</text>\n",
       "</g>\n",
       "<!-- 4927685912&#45;&gt;4916179800 -->\n",
       "<g class=\"edge\" id=\"edge14\">\n",
       "<title>4927685912-&gt;4916179800</title>\n",
       "<path d=\"M586.4639,-405.3664C586.4639,-397.1516 586.4639,-387.6579 586.4639,-378.7252\" fill=\"none\" stroke=\"#000000\"/>\n",
       "<polygon fill=\"#000000\" points=\"589.964,-378.6068 586.4639,-368.6068 582.964,-378.6069 589.964,-378.6068\" stroke=\"#000000\"/>\n",
       "</g>\n",
       "<!-- 4918778232 -->\n",
       "<g class=\"node\" id=\"node14\">\n",
       "<title>4918778232</title>\n",
       "<polygon fill=\"none\" points=\"454.1792,-243.5 454.1792,-287.5 718.7485,-287.5 718.7485,-243.5 454.1792,-243.5\" stroke=\"#000000\"/>\n",
       "<text fill=\"#000000\" font-family=\"Times,serif\" font-size=\"14.00\" text-anchor=\"middle\" x=\"509.8052\" y=\"-261.3\">dense_21: Dense</text>\n",
       "<polyline fill=\"none\" points=\"565.4312,-243.5 565.4312,-287.5 \" stroke=\"#000000\"/>\n",
       "<text fill=\"#000000\" font-family=\"Times,serif\" font-size=\"14.00\" text-anchor=\"middle\" x=\"593.2656\" y=\"-272.3\">input:</text>\n",
       "<polyline fill=\"none\" points=\"565.4312,-265.5 621.1001,-265.5 \" stroke=\"#000000\"/>\n",
       "<text fill=\"#000000\" font-family=\"Times,serif\" font-size=\"14.00\" text-anchor=\"middle\" x=\"593.2656\" y=\"-250.3\">output:</text>\n",
       "<polyline fill=\"none\" points=\"621.1001,-243.5 621.1001,-287.5 \" stroke=\"#000000\"/>\n",
       "<text fill=\"#000000\" font-family=\"Times,serif\" font-size=\"14.00\" text-anchor=\"middle\" x=\"669.9243\" y=\"-272.3\">(None, 12430)</text>\n",
       "<polyline fill=\"none\" points=\"621.1001,-265.5 718.7485,-265.5 \" stroke=\"#000000\"/>\n",
       "<text fill=\"#000000\" font-family=\"Times,serif\" font-size=\"14.00\" text-anchor=\"middle\" x=\"669.9243\" y=\"-250.3\">(None, 512)</text>\n",
       "</g>\n",
       "<!-- 4916179800&#45;&gt;4918778232 -->\n",
       "<g class=\"edge\" id=\"edge15\">\n",
       "<title>4916179800-&gt;4918778232</title>\n",
       "<path d=\"M586.4639,-324.3664C586.4639,-316.1516 586.4639,-306.6579 586.4639,-297.7252\" fill=\"none\" stroke=\"#000000\"/>\n",
       "<polygon fill=\"#000000\" points=\"589.964,-297.6068 586.4639,-287.6068 582.964,-297.6069 589.964,-297.6068\" stroke=\"#000000\"/>\n",
       "</g>\n",
       "<!-- 4918614504 -->\n",
       "<g class=\"node\" id=\"node15\">\n",
       "<title>4918614504</title>\n",
       "<polygon fill=\"none\" points=\"449.7598,-162.5 449.7598,-206.5 723.168,-206.5 723.168,-162.5 449.7598,-162.5\" stroke=\"#000000\"/>\n",
       "<text fill=\"#000000\" font-family=\"Times,serif\" font-size=\"14.00\" text-anchor=\"middle\" x=\"516.8052\" y=\"-180.3\">dropout_11: Dropout</text>\n",
       "<polyline fill=\"none\" points=\"583.8506,-162.5 583.8506,-206.5 \" stroke=\"#000000\"/>\n",
       "<text fill=\"#000000\" font-family=\"Times,serif\" font-size=\"14.00\" text-anchor=\"middle\" x=\"611.6851\" y=\"-191.3\">input:</text>\n",
       "<polyline fill=\"none\" points=\"583.8506,-184.5 639.5195,-184.5 \" stroke=\"#000000\"/>\n",
       "<text fill=\"#000000\" font-family=\"Times,serif\" font-size=\"14.00\" text-anchor=\"middle\" x=\"611.6851\" y=\"-169.3\">output:</text>\n",
       "<polyline fill=\"none\" points=\"639.5195,-162.5 639.5195,-206.5 \" stroke=\"#000000\"/>\n",
       "<text fill=\"#000000\" font-family=\"Times,serif\" font-size=\"14.00\" text-anchor=\"middle\" x=\"681.3438\" y=\"-191.3\">(None, 512)</text>\n",
       "<polyline fill=\"none\" points=\"639.5195,-184.5 723.168,-184.5 \" stroke=\"#000000\"/>\n",
       "<text fill=\"#000000\" font-family=\"Times,serif\" font-size=\"14.00\" text-anchor=\"middle\" x=\"681.3438\" y=\"-169.3\">(None, 512)</text>\n",
       "</g>\n",
       "<!-- 4918778232&#45;&gt;4918614504 -->\n",
       "<g class=\"edge\" id=\"edge16\">\n",
       "<title>4918778232-&gt;4918614504</title>\n",
       "<path d=\"M586.4639,-243.3664C586.4639,-235.1516 586.4639,-225.6579 586.4639,-216.7252\" fill=\"none\" stroke=\"#000000\"/>\n",
       "<polygon fill=\"#000000\" points=\"589.964,-216.6068 586.4639,-206.6068 582.964,-216.6069 589.964,-216.6068\" stroke=\"#000000\"/>\n",
       "</g>\n",
       "<!-- 4918928720 -->\n",
       "<g class=\"node\" id=\"node16\">\n",
       "<title>4918928720</title>\n",
       "<polygon fill=\"none\" points=\"461.1792,-81.5 461.1792,-125.5 711.7485,-125.5 711.7485,-81.5 461.1792,-81.5\" stroke=\"#000000\"/>\n",
       "<text fill=\"#000000\" font-family=\"Times,serif\" font-size=\"14.00\" text-anchor=\"middle\" x=\"516.8052\" y=\"-99.3\">dense_22: Dense</text>\n",
       "<polyline fill=\"none\" points=\"572.4312,-81.5 572.4312,-125.5 \" stroke=\"#000000\"/>\n",
       "<text fill=\"#000000\" font-family=\"Times,serif\" font-size=\"14.00\" text-anchor=\"middle\" x=\"600.2656\" y=\"-110.3\">input:</text>\n",
       "<polyline fill=\"none\" points=\"572.4312,-103.5 628.1001,-103.5 \" stroke=\"#000000\"/>\n",
       "<text fill=\"#000000\" font-family=\"Times,serif\" font-size=\"14.00\" text-anchor=\"middle\" x=\"600.2656\" y=\"-88.3\">output:</text>\n",
       "<polyline fill=\"none\" points=\"628.1001,-81.5 628.1001,-125.5 \" stroke=\"#000000\"/>\n",
       "<text fill=\"#000000\" font-family=\"Times,serif\" font-size=\"14.00\" text-anchor=\"middle\" x=\"669.9243\" y=\"-110.3\">(None, 512)</text>\n",
       "<polyline fill=\"none\" points=\"628.1001,-103.5 711.7485,-103.5 \" stroke=\"#000000\"/>\n",
       "<text fill=\"#000000\" font-family=\"Times,serif\" font-size=\"14.00\" text-anchor=\"middle\" x=\"669.9243\" y=\"-88.3\">(None, 128)</text>\n",
       "</g>\n",
       "<!-- 4918614504&#45;&gt;4918928720 -->\n",
       "<g class=\"edge\" id=\"edge17\">\n",
       "<title>4918614504-&gt;4918928720</title>\n",
       "<path d=\"M586.4639,-162.3664C586.4639,-154.1516 586.4639,-144.6579 586.4639,-135.7252\" fill=\"none\" stroke=\"#000000\"/>\n",
       "<polygon fill=\"#000000\" points=\"589.964,-135.6068 586.4639,-125.6068 582.964,-135.6069 589.964,-135.6068\" stroke=\"#000000\"/>\n",
       "</g>\n",
       "<!-- 4918848144 -->\n",
       "<g class=\"node\" id=\"node17\">\n",
       "<title>4918848144</title>\n",
       "<polygon fill=\"none\" points=\"461.1792,-.5 461.1792,-44.5 711.7485,-44.5 711.7485,-.5 461.1792,-.5\" stroke=\"#000000\"/>\n",
       "<text fill=\"#000000\" font-family=\"Times,serif\" font-size=\"14.00\" text-anchor=\"middle\" x=\"516.8052\" y=\"-18.3\">dense_23: Dense</text>\n",
       "<polyline fill=\"none\" points=\"572.4312,-.5 572.4312,-44.5 \" stroke=\"#000000\"/>\n",
       "<text fill=\"#000000\" font-family=\"Times,serif\" font-size=\"14.00\" text-anchor=\"middle\" x=\"600.2656\" y=\"-29.3\">input:</text>\n",
       "<polyline fill=\"none\" points=\"572.4312,-22.5 628.1001,-22.5 \" stroke=\"#000000\"/>\n",
       "<text fill=\"#000000\" font-family=\"Times,serif\" font-size=\"14.00\" text-anchor=\"middle\" x=\"600.2656\" y=\"-7.3\">output:</text>\n",
       "<polyline fill=\"none\" points=\"628.1001,-.5 628.1001,-44.5 \" stroke=\"#000000\"/>\n",
       "<text fill=\"#000000\" font-family=\"Times,serif\" font-size=\"14.00\" text-anchor=\"middle\" x=\"669.9243\" y=\"-29.3\">(None, 128)</text>\n",
       "<polyline fill=\"none\" points=\"628.1001,-22.5 711.7485,-22.5 \" stroke=\"#000000\"/>\n",
       "<text fill=\"#000000\" font-family=\"Times,serif\" font-size=\"14.00\" text-anchor=\"middle\" x=\"669.9243\" y=\"-7.3\">(None, 1)</text>\n",
       "</g>\n",
       "<!-- 4918928720&#45;&gt;4918848144 -->\n",
       "<g class=\"edge\" id=\"edge18\">\n",
       "<title>4918928720-&gt;4918848144</title>\n",
       "<path d=\"M586.4639,-81.3664C586.4639,-73.1516 586.4639,-63.6579 586.4639,-54.7252\" fill=\"none\" stroke=\"#000000\"/>\n",
       "<polygon fill=\"#000000\" points=\"589.964,-54.6068 586.4639,-44.6068 582.964,-54.6069 589.964,-54.6068\" stroke=\"#000000\"/>\n",
       "</g>\n",
       "</g>\n",
       "</svg>"
      ],
      "text/plain": [
       "<IPython.core.display.SVG object>"
      ]
     },
     "execution_count": 40,
     "metadata": {},
     "output_type": "execute_result"
    }
   ],
   "source": [
    "i = layers.Input(shape=(x_train.shape[1],))\n",
    "\n",
    "embedding_layer = layers.Embedding(input_dim=vectors.shape[0],\n",
    "                                   output_dim=vectors.shape[1],\n",
    "                                   weights=[vectors],\n",
    "                                   trainable=False)\n",
    "\n",
    "text_embedding = embedding_layer(i)\n",
    "\n",
    "convs = []\n",
    "\n",
    "for layer_params in [(10, 5), (10, 4), (30, 3)]:\n",
    "    conv = layers.Conv1D(filters=layer_params[0],\n",
    "                         kernel_size=layer_params[1],\n",
    "                         activation='relu')(text_embedding)\n",
    "    conv = layers.MaxPooling1D(pool_size=2)(conv)\n",
    "    conv = layers.Flatten()(conv)\n",
    "    convs.append(conv)\n",
    "\n",
    "concat = layers.concatenate(convs)\n",
    "dropout = layers.Dropout(0.3)(concat)\n",
    "hidden = layers.Dense(512, activation='relu')(dropout)\n",
    "dropout = layers.Dropout(0.3)(hidden)\n",
    "hidden = layers.Dense(128, activation='relu')(dropout)\n",
    "output = layers.Dense(1, activation='softmax')(hidden)\n",
    "\n",
    "model = models.Model(inputs=[i], outputs=[output])\n",
    "\n",
    "model.compile(loss='binary_crossentropy',\n",
    "              optimizer='adam',\n",
    "              metrics=['binary_accuracy'])\n",
    "\n",
    "SVG(model_to_dot(model, show_shapes=True).create(prog='dot', format='svg'))"
   ]
  },
  {
   "cell_type": "code",
   "execution_count": null,
   "metadata": {},
   "outputs": [],
   "source": [
    "# not working well yet\n",
    "\n",
    "model.fit(x=x_train,\n",
    "          y=y_train,\n",
    "          validation_data=(x_test, y_test),\n",
    "          epochs=2)"
   ]
  },
  {
   "cell_type": "code",
   "execution_count": null,
   "metadata": {},
   "outputs": [],
   "source": []
  }
 ],
 "metadata": {
  "kernelspec": {
   "display_name": "data3",
   "language": "python",
   "name": "data3"
  },
  "language_info": {
   "codemirror_mode": {
    "name": "ipython",
    "version": 3
   },
   "file_extension": ".py",
   "mimetype": "text/x-python",
   "name": "python",
   "nbconvert_exporter": "python",
   "pygments_lexer": "ipython3",
   "version": "3.6.4"
  }
 },
 "nbformat": 4,
 "nbformat_minor": 2
}
