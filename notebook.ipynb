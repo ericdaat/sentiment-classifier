{
 "cells": [
  {
   "cell_type": "markdown",
   "metadata": {},
   "source": [
    "# Sentiment analysis on IMDB large movie review dataset\n",
    "\n",
    "Get the dataset from [here](http://ai.stanford.edu/~amaas/data/sentiment/)"
   ]
  },
  {
   "cell_type": "code",
   "execution_count": 33,
   "metadata": {},
   "outputs": [],
   "source": [
    "from glob import glob\n",
    "import pandas as pd\n",
    "import io\n",
    "import numpy as np\n",
    "import re\n",
    "from IPython.display import SVG\n",
    "\n",
    "from keras import models, layers\n",
    "from keras import backend as K\n",
    "from keras.preprocessing.text import Tokenizer\n",
    "from keras.preprocessing.sequence import pad_sequences\n",
    "from keras.utils import plot_model\n",
    "from keras.utils.vis_utils import model_to_dot\n",
    "\n",
    "import os\n",
    "os.environ[\"CUDA_DEVICE_ORDER\"] = \"PCI_BUS_ID\"   # see issue #152\n",
    "os.environ[\"CUDA_VISIBLE_DEVICES\"] = \"\""
   ]
  },
  {
   "cell_type": "markdown",
   "metadata": {},
   "source": [
    "## Prepare dataset"
   ]
  },
  {
   "cell_type": "code",
   "execution_count": 53,
   "metadata": {},
   "outputs": [],
   "source": [
    "def parse_text(text):\n",
    "    text = text.strip()\n",
    "    # remove html\n",
    "    text = re.sub(string=text, pattern=r\"<[^>]*>\", repl=\"\")\n",
    "    # add spaces between special characters\n",
    "    text = re.sub(string=text,\n",
    "                  pattern=r\"([$&+,:;=?@#|\\\"<>.^*()%!-])\",\n",
    "                  repl=r\" \\1 \")\n",
    "    return text\n",
    "\n",
    "def read_and_append_files(folder, label):\n",
    "    texts = []\n",
    "    for file in glob('./aclImdb/{0}/*.txt'.format(folder)):\n",
    "        with open(file, 'r') as f:\n",
    "            text = f.read()\n",
    "            text = parse_text(text)\n",
    "            texts.append((text, label))\n",
    "            \n",
    "    return texts\n",
    "\n",
    "def make_df(pos, neg):\n",
    "    df = pd.concat([pd.DataFrame(pos),\n",
    "                    pd.DataFrame(neg)])\\\n",
    "           .sample(frac=1)\\\n",
    "           .reset_index(drop=True)\n",
    "    df.columns = ['review', 'label']\n",
    "    \n",
    "    return df"
   ]
  },
  {
   "cell_type": "code",
   "execution_count": 54,
   "metadata": {},
   "outputs": [],
   "source": [
    "train_pos = read_and_append_files('train/pos', 1)\n",
    "train_neg = read_and_append_files('train/neg', 0)\n",
    "\n",
    "test_pos = read_and_append_files('test/pos', 1)\n",
    "test_neg = read_and_append_files('test/neg', 0)"
   ]
  },
  {
   "cell_type": "code",
   "execution_count": 55,
   "metadata": {},
   "outputs": [],
   "source": [
    "train_df = make_df(train_pos, train_neg)\n",
    "test_df = make_df(test_pos, test_neg)"
   ]
  },
  {
   "cell_type": "code",
   "execution_count": 56,
   "metadata": {},
   "outputs": [
    {
     "data": {
      "text/html": [
       "<div>\n",
       "<style scoped>\n",
       "    .dataframe tbody tr th:only-of-type {\n",
       "        vertical-align: middle;\n",
       "    }\n",
       "\n",
       "    .dataframe tbody tr th {\n",
       "        vertical-align: top;\n",
       "    }\n",
       "\n",
       "    .dataframe thead th {\n",
       "        text-align: right;\n",
       "    }\n",
       "</style>\n",
       "<table border=\"1\" class=\"dataframe\">\n",
       "  <thead>\n",
       "    <tr style=\"text-align: right;\">\n",
       "      <th></th>\n",
       "      <th>review</th>\n",
       "      <th>label</th>\n",
       "    </tr>\n",
       "  </thead>\n",
       "  <tbody>\n",
       "    <tr>\n",
       "      <th>0</th>\n",
       "      <td>Even with a cast that boasts such generally re...</td>\n",
       "      <td>0</td>\n",
       "    </tr>\n",
       "    <tr>\n",
       "      <th>1</th>\n",
       "      <td>This film is so bad and gets worse in every im...</td>\n",
       "      <td>0</td>\n",
       "    </tr>\n",
       "    <tr>\n",
       "      <th>2</th>\n",
       "      <td>A comedy of epically funny proportions from th...</td>\n",
       "      <td>1</td>\n",
       "    </tr>\n",
       "    <tr>\n",
       "      <th>3</th>\n",
       "      <td>On the surface ,   \" Show Me The Money \"  shou...</td>\n",
       "      <td>0</td>\n",
       "    </tr>\n",
       "    <tr>\n",
       "      <th>4</th>\n",
       "      <td>A fabulous film .  With everything you could w...</td>\n",
       "      <td>1</td>\n",
       "    </tr>\n",
       "  </tbody>\n",
       "</table>\n",
       "</div>"
      ],
      "text/plain": [
       "                                              review  label\n",
       "0  Even with a cast that boasts such generally re...      0\n",
       "1  This film is so bad and gets worse in every im...      0\n",
       "2  A comedy of epically funny proportions from th...      1\n",
       "3  On the surface ,   \" Show Me The Money \"  shou...      0\n",
       "4  A fabulous film .  With everything you could w...      1"
      ]
     },
     "execution_count": 56,
     "metadata": {},
     "output_type": "execute_result"
    }
   ],
   "source": [
    "train_df.head()"
   ]
  },
  {
   "cell_type": "code",
   "execution_count": 57,
   "metadata": {},
   "outputs": [
    {
     "data": {
      "text/html": [
       "<div>\n",
       "<style scoped>\n",
       "    .dataframe tbody tr th:only-of-type {\n",
       "        vertical-align: middle;\n",
       "    }\n",
       "\n",
       "    .dataframe tbody tr th {\n",
       "        vertical-align: top;\n",
       "    }\n",
       "\n",
       "    .dataframe thead th {\n",
       "        text-align: right;\n",
       "    }\n",
       "</style>\n",
       "<table border=\"1\" class=\"dataframe\">\n",
       "  <thead>\n",
       "    <tr style=\"text-align: right;\">\n",
       "      <th></th>\n",
       "      <th>review</th>\n",
       "      <th>label</th>\n",
       "    </tr>\n",
       "  </thead>\n",
       "  <tbody>\n",
       "    <tr>\n",
       "      <th>0</th>\n",
       "      <td>An interesting companion piece to true documen...</td>\n",
       "      <td>1</td>\n",
       "    </tr>\n",
       "    <tr>\n",
       "      <th>1</th>\n",
       "      <td>While I can't say whether or not Larry Hama ev...</td>\n",
       "      <td>1</td>\n",
       "    </tr>\n",
       "    <tr>\n",
       "      <th>2</th>\n",
       "      <td>I went to see this film out of curiosity ,  an...</td>\n",
       "      <td>1</td>\n",
       "    </tr>\n",
       "    <tr>\n",
       "      <th>3</th>\n",
       "      <td>This movie was so dumb and slow was it ever sl...</td>\n",
       "      <td>0</td>\n",
       "    </tr>\n",
       "    <tr>\n",
       "      <th>4</th>\n",
       "      <td>All the pro comments about this movie claim th...</td>\n",
       "      <td>0</td>\n",
       "    </tr>\n",
       "  </tbody>\n",
       "</table>\n",
       "</div>"
      ],
      "text/plain": [
       "                                              review  label\n",
       "0  An interesting companion piece to true documen...      1\n",
       "1  While I can't say whether or not Larry Hama ev...      1\n",
       "2  I went to see this film out of curiosity ,  an...      1\n",
       "3  This movie was so dumb and slow was it ever sl...      0\n",
       "4  All the pro comments about this movie claim th...      0"
      ]
     },
     "execution_count": 57,
     "metadata": {},
     "output_type": "execute_result"
    }
   ],
   "source": [
    "test_df.head()"
   ]
  },
  {
   "cell_type": "code",
   "execution_count": 58,
   "metadata": {},
   "outputs": [
    {
     "data": {
      "text/plain": [
       "\"Even with a cast that boasts such generally reliable names as Val Kilmer and Lisa Kudrow ,  Wonderland fails to yield any sense of depth to this film .  It barely brushes the surface of the incidents that happened on that July night in 1981 .  Kilmer just goes through the motions as John Holmes and Kudrow and Kate Bosworth are both hopefully miscast in the other two lead roles ;  as Holmes's wife and underage girlfriend ,  respectively .  The rest of the cast has such small roles that it's impossible to get any dimensions from them .  The film also stars Carrie Fisher ,  Ted Levine ,  Franky G ,  MC Gainey ,  Dylan McDermott and a cameo from Paris Hilton . \""
      ]
     },
     "execution_count": 58,
     "metadata": {},
     "output_type": "execute_result"
    }
   ],
   "source": [
    "train_df[\"review\"].iloc[0]"
   ]
  },
  {
   "cell_type": "markdown",
   "metadata": {},
   "source": [
    "## Embeddings\n",
    "\n",
    "I use [Fast Text pre trained embeddings](https://fasttext.cc/docs/en/english-vectors.html)."
   ]
  },
  {
   "cell_type": "code",
   "execution_count": 69,
   "metadata": {},
   "outputs": [],
   "source": [
    "t = Tokenizer(lower=False, filters='\\t\\n')\n",
    "t.fit_on_texts(train_df['review'])"
   ]
  },
  {
   "cell_type": "code",
   "execution_count": 60,
   "metadata": {},
   "outputs": [],
   "source": [
    "def load_vectors(fname, word_index):\n",
    "    embedding_matrix = np.zeros((len(word_index) + 1, 300))\n",
    "    \n",
    "    fin = io.open(fname, 'r', encoding='utf-8', newline='\\n', errors='ignore')\n",
    "    n, d = map(int, fin.readline().split())\n",
    "\n",
    "    for line in fin:\n",
    "        tokens = line.rstrip().split(' ')\n",
    "        if tokens[0] in word_index:\n",
    "            w = word_index[tokens[0]]\n",
    "            embedding_matrix[w] = np.fromiter(map(float, tokens[1:]), 'float')\n",
    "    \n",
    "    return embedding_matrix"
   ]
  },
  {
   "cell_type": "code",
   "execution_count": 71,
   "metadata": {},
   "outputs": [
    {
     "name": "stdout",
     "output_type": "stream",
     "text": [
      "CPU times: user 37.7 s, sys: 2.22 s, total: 39.9 s\n",
      "Wall time: 40.4 s\n"
     ]
    }
   ],
   "source": [
    "%time vectors = load_vectors('/Users/eric/Code/wiki-news-300d-1M.vec', t.word_index)"
   ]
  },
  {
   "cell_type": "code",
   "execution_count": 72,
   "metadata": {},
   "outputs": [
    {
     "data": {
      "text/plain": [
       "(113252, 300)"
      ]
     },
     "execution_count": 72,
     "metadata": {},
     "output_type": "execute_result"
    }
   ],
   "source": [
    "vectors.shape"
   ]
  },
  {
   "cell_type": "markdown",
   "metadata": {},
   "source": [
    "## Machine Learning with Keras"
   ]
  },
  {
   "cell_type": "code",
   "execution_count": 14,
   "metadata": {},
   "outputs": [],
   "source": [
    "x_train = t.texts_to_matrix(train_df['review'])\n",
    "y_train = train_df['label']\n",
    "\n",
    "x_test = t.texts_to_matrix(test_df['review'])\n",
    "y_test = test_df['label']"
   ]
  },
  {
   "cell_type": "code",
   "execution_count": 15,
   "metadata": {},
   "outputs": [
    {
     "data": {
      "text/plain": [
       "((25000, 88566), (25000,), (25000, 88566), (25000,))"
      ]
     },
     "execution_count": 15,
     "metadata": {},
     "output_type": "execute_result"
    }
   ],
   "source": [
    "x_train.shape, y_train.shape, x_test.shape, y_test.shape"
   ]
  },
  {
   "cell_type": "markdown",
   "metadata": {},
   "source": [
    "### Logistic regression"
   ]
  },
  {
   "cell_type": "code",
   "execution_count": 18,
   "metadata": {},
   "outputs": [],
   "source": [
    "i = layers.Input(shape=(x_train.shape[1],))\n",
    "h = layers.Dense(units=1, activation='sigmoid')(i)\n",
    "model = models.Model(inputs=[i], outputs=[h])\n",
    "\n",
    "model.compile(loss='binary_crossentropy',\n",
    "              optimizer='sgd',\n",
    "              metrics=['binary_accuracy'])\n",
    "\n",
    "# SVG(model_to_dot(model, show_shapes=True).create(prog='dot', format='svg'))"
   ]
  },
  {
   "cell_type": "code",
   "execution_count": null,
   "metadata": {},
   "outputs": [],
   "source": [
    "model.fit(x=x_train,\n",
    "          y=y_train,\n",
    "          validation_data=(x_test, y_test),\n",
    "          epochs=5)"
   ]
  },
  {
   "cell_type": "markdown",
   "metadata": {},
   "source": [
    "### Averaging Embeddings"
   ]
  },
  {
   "cell_type": "code",
   "execution_count": 75,
   "metadata": {},
   "outputs": [],
   "source": [
    "x_train = pad_sequences(t.texts_to_sequences(train_df['review']), maxlen=1000)\n",
    "y_train = train_df['label']\n",
    "\n",
    "x_test = pad_sequences(t.texts_to_sequences(test_df['review']), maxlen=1000)\n",
    "y_test = test_df['label']"
   ]
  },
  {
   "cell_type": "code",
   "execution_count": 76,
   "metadata": {},
   "outputs": [
    {
     "data": {
      "text/plain": [
       "((25000, 1000), (25000,), (25000, 1000), (25000,))"
      ]
     },
     "execution_count": 76,
     "metadata": {},
     "output_type": "execute_result"
    }
   ],
   "source": [
    "x_train.shape, y_train.shape, x_test.shape, y_test.shape"
   ]
  },
  {
   "cell_type": "code",
   "execution_count": null,
   "metadata": {},
   "outputs": [],
   "source": [
    "i = layers.Input(shape=(x_train.shape[1],))\n",
    "\n",
    "embedding_layer = layers.Embedding(input_dim=vectors.shape[0],\n",
    "                                   output_dim=vectors.shape[1],\n",
    "                                   weights=[vectors],\n",
    "                                   trainable=False)\n",
    "\n",
    "h = embedding_layer(i)\n",
    "h = layers.Lambda(lambda r: K.mean(r, axis=1))(h)\n",
    "h = layers.Dense(128, activation='relu')(h)\n",
    "h = layers.Dense(1, activation='sigmoid')(h)\n",
    "\n",
    "model = models.Model(inputs=[i], outputs=[h])\n",
    "\n",
    "model.compile(loss='binary_crossentropy',\n",
    "              optimizer='adam',\n",
    "              metrics=['binary_accuracy'])\n",
    "\n",
    "SVG(model_to_dot(model, show_shapes=True).create(prog='dot', format='svg'))"
   ]
  },
  {
   "cell_type": "code",
   "execution_count": null,
   "metadata": {},
   "outputs": [],
   "source": [
    "model.fit(x=x_train,\n",
    "          y=y_train,\n",
    "          validation_data=(x_test, y_test),\n",
    "          epochs=2)"
   ]
  },
  {
   "cell_type": "markdown",
   "metadata": {},
   "source": [
    "### Embeddings and GRU"
   ]
  },
  {
   "cell_type": "code",
   "execution_count": null,
   "metadata": {},
   "outputs": [],
   "source": [
    "i = layers.Input(shape=(x_train.shape[1],))\n",
    "\n",
    "embedding_layer = layers.Embedding(input_dim=vectors.shape[0],\n",
    "                                   output_dim=vectors.shape[1],\n",
    "                                   weights=[vectors],\n",
    "                                   trainable=False)\n",
    "\n",
    "h = embedding_layer(i)\n",
    "h = layers.GRU(128)(h)\n",
    "h = layers.Dense(1, activation='sigmoid')(h)\n",
    "\n",
    "model = models.Model(inputs=[i], outputs=[h])\n",
    "\n",
    "model.compile(loss='binary_crossentropy',\n",
    "              optimizer='adam',\n",
    "              metrics=['binary_accuracy'])\n",
    "\n",
    "SVG(model_to_dot(model, show_shapes=True).create(prog='dot', format='svg'))"
   ]
  },
  {
   "cell_type": "code",
   "execution_count": null,
   "metadata": {},
   "outputs": [],
   "source": [
    "model.fit(x=x_train,\n",
    "          y=y_train,\n",
    "          validation_data=(x_test, y_test),\n",
    "          epochs=2)"
   ]
  },
  {
   "cell_type": "markdown",
   "metadata": {},
   "source": [
    "### Embeddings and CNN"
   ]
  },
  {
   "cell_type": "code",
   "execution_count": 77,
   "metadata": {},
   "outputs": [
    {
     "data": {
      "image/svg+xml": [
       "<svg height=\"539pt\" viewBox=\"0.00 0.00 769.93 539.00\" width=\"770pt\" xmlns=\"http://www.w3.org/2000/svg\" xmlns:xlink=\"http://www.w3.org/1999/xlink\">\n",
       "<g class=\"graph\" id=\"graph0\" transform=\"scale(1 1) rotate(0) translate(4 535)\">\n",
       "<title>G</title>\n",
       "<polygon fill=\"#ffffff\" points=\"-4,4 -4,-535 765.9277,-535 765.9277,4 -4,4\" stroke=\"transparent\"/>\n",
       "<!-- 5304348456 -->\n",
       "<g class=\"node\" id=\"node1\">\n",
       "<title>5304348456</title>\n",
       "<polygon fill=\"none\" points=\"242.624,-486.5 242.624,-530.5 517.3037,-530.5 517.3037,-486.5 242.624,-486.5\" stroke=\"#000000\"/>\n",
       "<text fill=\"#000000\" font-family=\"Times,serif\" font-size=\"14.00\" text-anchor=\"middle\" x=\"306.8052\" y=\"-504.3\">input_7: InputLayer</text>\n",
       "<polyline fill=\"none\" points=\"370.9863,-486.5 370.9863,-530.5 \" stroke=\"#000000\"/>\n",
       "<text fill=\"#000000\" font-family=\"Times,serif\" font-size=\"14.00\" text-anchor=\"middle\" x=\"398.8208\" y=\"-515.3\">input:</text>\n",
       "<polyline fill=\"none\" points=\"370.9863,-508.5 426.6553,-508.5 \" stroke=\"#000000\"/>\n",
       "<text fill=\"#000000\" font-family=\"Times,serif\" font-size=\"14.00\" text-anchor=\"middle\" x=\"398.8208\" y=\"-493.3\">output:</text>\n",
       "<polyline fill=\"none\" points=\"426.6553,-486.5 426.6553,-530.5 \" stroke=\"#000000\"/>\n",
       "<text fill=\"#000000\" font-family=\"Times,serif\" font-size=\"14.00\" text-anchor=\"middle\" x=\"471.9795\" y=\"-515.3\">(None, 1000)</text>\n",
       "<polyline fill=\"none\" points=\"426.6553,-508.5 517.3037,-508.5 \" stroke=\"#000000\"/>\n",
       "<text fill=\"#000000\" font-family=\"Times,serif\" font-size=\"14.00\" text-anchor=\"middle\" x=\"471.9795\" y=\"-493.3\">(None, 1000)</text>\n",
       "</g>\n",
       "<!-- 5304347224 -->\n",
       "<g class=\"node\" id=\"node2\">\n",
       "<title>5304347224</title>\n",
       "<polygon fill=\"none\" points=\"210.7344,-405.5 210.7344,-449.5 549.1934,-449.5 549.1934,-405.5 210.7344,-405.5\" stroke=\"#000000\"/>\n",
       "<text fill=\"#000000\" font-family=\"Times,serif\" font-size=\"14.00\" text-anchor=\"middle\" x=\"292.8052\" y=\"-423.3\">embedding_6: Embedding</text>\n",
       "<polyline fill=\"none\" points=\"374.876,-405.5 374.876,-449.5 \" stroke=\"#000000\"/>\n",
       "<text fill=\"#000000\" font-family=\"Times,serif\" font-size=\"14.00\" text-anchor=\"middle\" x=\"402.7104\" y=\"-434.3\">input:</text>\n",
       "<polyline fill=\"none\" points=\"374.876,-427.5 430.5449,-427.5 \" stroke=\"#000000\"/>\n",
       "<text fill=\"#000000\" font-family=\"Times,serif\" font-size=\"14.00\" text-anchor=\"middle\" x=\"402.7104\" y=\"-412.3\">output:</text>\n",
       "<polyline fill=\"none\" points=\"430.5449,-405.5 430.5449,-449.5 \" stroke=\"#000000\"/>\n",
       "<text fill=\"#000000\" font-family=\"Times,serif\" font-size=\"14.00\" text-anchor=\"middle\" x=\"489.8691\" y=\"-434.3\">(None, 1000)</text>\n",
       "<polyline fill=\"none\" points=\"430.5449,-427.5 549.1934,-427.5 \" stroke=\"#000000\"/>\n",
       "<text fill=\"#000000\" font-family=\"Times,serif\" font-size=\"14.00\" text-anchor=\"middle\" x=\"489.8691\" y=\"-412.3\">(None, 1000, 300)</text>\n",
       "</g>\n",
       "<!-- 5304348456&#45;&gt;5304347224 -->\n",
       "<g class=\"edge\" id=\"edge1\">\n",
       "<title>5304348456-&gt;5304347224</title>\n",
       "<path d=\"M379.9639,-486.3664C379.9639,-478.1516 379.9639,-468.6579 379.9639,-459.7252\" fill=\"none\" stroke=\"#000000\"/>\n",
       "<polygon fill=\"#000000\" points=\"383.464,-459.6068 379.9639,-449.6068 376.464,-459.6069 383.464,-459.6068\" stroke=\"#000000\"/>\n",
       "</g>\n",
       "<!-- 41772957880 -->\n",
       "<g class=\"node\" id=\"node3\">\n",
       "<title>41772957880</title>\n",
       "<polygon fill=\"none\" points=\"64.2793,-324.5 64.2793,-368.5 371.6484,-368.5 371.6484,-324.5 64.2793,-324.5\" stroke=\"#000000\"/>\n",
       "<text fill=\"#000000\" font-family=\"Times,serif\" font-size=\"14.00\" text-anchor=\"middle\" x=\"130.8052\" y=\"-342.3\">conv1d_13: Conv1D</text>\n",
       "<polyline fill=\"none\" points=\"197.3311,-324.5 197.3311,-368.5 \" stroke=\"#000000\"/>\n",
       "<text fill=\"#000000\" font-family=\"Times,serif\" font-size=\"14.00\" text-anchor=\"middle\" x=\"225.1655\" y=\"-353.3\">input:</text>\n",
       "<polyline fill=\"none\" points=\"197.3311,-346.5 253,-346.5 \" stroke=\"#000000\"/>\n",
       "<text fill=\"#000000\" font-family=\"Times,serif\" font-size=\"14.00\" text-anchor=\"middle\" x=\"225.1655\" y=\"-331.3\">output:</text>\n",
       "<polyline fill=\"none\" points=\"253,-324.5 253,-368.5 \" stroke=\"#000000\"/>\n",
       "<text fill=\"#000000\" font-family=\"Times,serif\" font-size=\"14.00\" text-anchor=\"middle\" x=\"312.3242\" y=\"-353.3\">(None, 1000, 300)</text>\n",
       "<polyline fill=\"none\" points=\"253,-346.5 371.6484,-346.5 \" stroke=\"#000000\"/>\n",
       "<text fill=\"#000000\" font-family=\"Times,serif\" font-size=\"14.00\" text-anchor=\"middle\" x=\"312.3242\" y=\"-331.3\">(None, 996, 3)</text>\n",
       "</g>\n",
       "<!-- 5304347224&#45;&gt;41772957880 -->\n",
       "<g class=\"edge\" id=\"edge2\">\n",
       "<title>5304347224-&gt;41772957880</title>\n",
       "<path d=\"M335.6967,-405.3664C315.7848,-395.4105 292.1157,-383.5759 271.2403,-373.1382\" fill=\"none\" stroke=\"#000000\"/>\n",
       "<polygon fill=\"#000000\" points=\"272.6871,-369.9485 262.1776,-368.6068 269.5566,-376.2095 272.6871,-369.9485\" stroke=\"#000000\"/>\n",
       "</g>\n",
       "<!-- 5304346664 -->\n",
       "<g class=\"node\" id=\"node4\">\n",
       "<title>5304346664</title>\n",
       "<polygon fill=\"none\" points=\"405.2793,-324.5 405.2793,-368.5 712.6484,-368.5 712.6484,-324.5 405.2793,-324.5\" stroke=\"#000000\"/>\n",
       "<text fill=\"#000000\" font-family=\"Times,serif\" font-size=\"14.00\" text-anchor=\"middle\" x=\"471.8052\" y=\"-342.3\">conv1d_14: Conv1D</text>\n",
       "<polyline fill=\"none\" points=\"538.3311,-324.5 538.3311,-368.5 \" stroke=\"#000000\"/>\n",
       "<text fill=\"#000000\" font-family=\"Times,serif\" font-size=\"14.00\" text-anchor=\"middle\" x=\"566.1655\" y=\"-353.3\">input:</text>\n",
       "<polyline fill=\"none\" points=\"538.3311,-346.5 594,-346.5 \" stroke=\"#000000\"/>\n",
       "<text fill=\"#000000\" font-family=\"Times,serif\" font-size=\"14.00\" text-anchor=\"middle\" x=\"566.1655\" y=\"-331.3\">output:</text>\n",
       "<polyline fill=\"none\" points=\"594,-324.5 594,-368.5 \" stroke=\"#000000\"/>\n",
       "<text fill=\"#000000\" font-family=\"Times,serif\" font-size=\"14.00\" text-anchor=\"middle\" x=\"653.3242\" y=\"-353.3\">(None, 1000, 300)</text>\n",
       "<polyline fill=\"none\" points=\"594,-346.5 712.6484,-346.5 \" stroke=\"#000000\"/>\n",
       "<text fill=\"#000000\" font-family=\"Times,serif\" font-size=\"14.00\" text-anchor=\"middle\" x=\"653.3242\" y=\"-331.3\">(None, 997, 3)</text>\n",
       "</g>\n",
       "<!-- 5304347224&#45;&gt;5304346664 -->\n",
       "<g class=\"edge\" id=\"edge3\">\n",
       "<title>5304347224-&gt;5304346664</title>\n",
       "<path d=\"M428.8764,-405.3664C451.0751,-395.3212 477.5001,-383.3635 500.7165,-372.8577\" fill=\"none\" stroke=\"#000000\"/>\n",
       "<polygon fill=\"#000000\" points=\"502.4428,-375.9183 510.1105,-368.6068 499.5569,-369.5409 502.4428,-375.9183\" stroke=\"#000000\"/>\n",
       "</g>\n",
       "<!-- 5304348568 -->\n",
       "<g class=\"node\" id=\"node5\">\n",
       "<title>5304348568</title>\n",
       "<polygon fill=\"none\" points=\"0,-243.5 0,-287.5 371.9277,-287.5 371.9277,-243.5 0,-243.5\" stroke=\"#000000\"/>\n",
       "<text fill=\"#000000\" font-family=\"Times,serif\" font-size=\"14.00\" text-anchor=\"middle\" x=\"109.3052\" y=\"-261.3\">max_pooling1d_13: MaxPooling1D</text>\n",
       "<polyline fill=\"none\" points=\"218.6104,-243.5 218.6104,-287.5 \" stroke=\"#000000\"/>\n",
       "<text fill=\"#000000\" font-family=\"Times,serif\" font-size=\"14.00\" text-anchor=\"middle\" x=\"246.4448\" y=\"-272.3\">input:</text>\n",
       "<polyline fill=\"none\" points=\"218.6104,-265.5 274.2793,-265.5 \" stroke=\"#000000\"/>\n",
       "<text fill=\"#000000\" font-family=\"Times,serif\" font-size=\"14.00\" text-anchor=\"middle\" x=\"246.4448\" y=\"-250.3\">output:</text>\n",
       "<polyline fill=\"none\" points=\"274.2793,-243.5 274.2793,-287.5 \" stroke=\"#000000\"/>\n",
       "<text fill=\"#000000\" font-family=\"Times,serif\" font-size=\"14.00\" text-anchor=\"middle\" x=\"323.1035\" y=\"-272.3\">(None, 996, 3)</text>\n",
       "<polyline fill=\"none\" points=\"274.2793,-265.5 371.9277,-265.5 \" stroke=\"#000000\"/>\n",
       "<text fill=\"#000000\" font-family=\"Times,serif\" font-size=\"14.00\" text-anchor=\"middle\" x=\"323.1035\" y=\"-250.3\">(None, 498, 3)</text>\n",
       "</g>\n",
       "<!-- 41772957880&#45;&gt;5304348568 -->\n",
       "<g class=\"edge\" id=\"edge4\">\n",
       "<title>41772957880-&gt;5304348568</title>\n",
       "<path d=\"M209.2197,-324.3664C205.9038,-315.9731 202.0605,-306.2445 198.465,-297.1434\" fill=\"none\" stroke=\"#000000\"/>\n",
       "<polygon fill=\"#000000\" points=\"201.627,-295.6214 194.6974,-287.6068 195.1166,-298.1934 201.627,-295.6214\" stroke=\"#000000\"/>\n",
       "</g>\n",
       "<!-- 4967134152 -->\n",
       "<g class=\"node\" id=\"node6\">\n",
       "<title>4967134152</title>\n",
       "<polygon fill=\"none\" points=\"390,-243.5 390,-287.5 761.9277,-287.5 761.9277,-243.5 390,-243.5\" stroke=\"#000000\"/>\n",
       "<text fill=\"#000000\" font-family=\"Times,serif\" font-size=\"14.00\" text-anchor=\"middle\" x=\"499.3052\" y=\"-261.3\">max_pooling1d_14: MaxPooling1D</text>\n",
       "<polyline fill=\"none\" points=\"608.6104,-243.5 608.6104,-287.5 \" stroke=\"#000000\"/>\n",
       "<text fill=\"#000000\" font-family=\"Times,serif\" font-size=\"14.00\" text-anchor=\"middle\" x=\"636.4448\" y=\"-272.3\">input:</text>\n",
       "<polyline fill=\"none\" points=\"608.6104,-265.5 664.2793,-265.5 \" stroke=\"#000000\"/>\n",
       "<text fill=\"#000000\" font-family=\"Times,serif\" font-size=\"14.00\" text-anchor=\"middle\" x=\"636.4448\" y=\"-250.3\">output:</text>\n",
       "<polyline fill=\"none\" points=\"664.2793,-243.5 664.2793,-287.5 \" stroke=\"#000000\"/>\n",
       "<text fill=\"#000000\" font-family=\"Times,serif\" font-size=\"14.00\" text-anchor=\"middle\" x=\"713.1035\" y=\"-272.3\">(None, 997, 3)</text>\n",
       "<polyline fill=\"none\" points=\"664.2793,-265.5 761.9277,-265.5 \" stroke=\"#000000\"/>\n",
       "<text fill=\"#000000\" font-family=\"Times,serif\" font-size=\"14.00\" text-anchor=\"middle\" x=\"713.1035\" y=\"-250.3\">(None, 498, 3)</text>\n",
       "</g>\n",
       "<!-- 5304346664&#45;&gt;4967134152 -->\n",
       "<g class=\"edge\" id=\"edge5\">\n",
       "<title>5304346664-&gt;4967134152</title>\n",
       "<path d=\"M563.6092,-324.3664C565.352,-316.0624 567.3691,-306.4514 569.2617,-297.4341\" fill=\"none\" stroke=\"#000000\"/>\n",
       "<polygon fill=\"#000000\" points=\"572.6954,-298.1126 571.3242,-287.6068 565.8447,-296.6747 572.6954,-298.1126\" stroke=\"#000000\"/>\n",
       "</g>\n",
       "<!-- 5304612736 -->\n",
       "<g class=\"node\" id=\"node7\">\n",
       "<title>5304612736</title>\n",
       "<polygon fill=\"none\" points=\"100.1724,-162.5 100.1724,-206.5 371.7554,-206.5 371.7554,-162.5 100.1724,-162.5\" stroke=\"#000000\"/>\n",
       "<text fill=\"#000000\" font-family=\"Times,serif\" font-size=\"14.00\" text-anchor=\"middle\" x=\"159.3052\" y=\"-180.3\">flatten_13: Flatten</text>\n",
       "<polyline fill=\"none\" points=\"218.438,-162.5 218.438,-206.5 \" stroke=\"#000000\"/>\n",
       "<text fill=\"#000000\" font-family=\"Times,serif\" font-size=\"14.00\" text-anchor=\"middle\" x=\"246.2725\" y=\"-191.3\">input:</text>\n",
       "<polyline fill=\"none\" points=\"218.438,-184.5 274.1069,-184.5 \" stroke=\"#000000\"/>\n",
       "<text fill=\"#000000\" font-family=\"Times,serif\" font-size=\"14.00\" text-anchor=\"middle\" x=\"246.2725\" y=\"-169.3\">output:</text>\n",
       "<polyline fill=\"none\" points=\"274.1069,-162.5 274.1069,-206.5 \" stroke=\"#000000\"/>\n",
       "<text fill=\"#000000\" font-family=\"Times,serif\" font-size=\"14.00\" text-anchor=\"middle\" x=\"322.9312\" y=\"-191.3\">(None, 498, 3)</text>\n",
       "<polyline fill=\"none\" points=\"274.1069,-184.5 371.7554,-184.5 \" stroke=\"#000000\"/>\n",
       "<text fill=\"#000000\" font-family=\"Times,serif\" font-size=\"14.00\" text-anchor=\"middle\" x=\"322.9312\" y=\"-169.3\">(None, 1494)</text>\n",
       "</g>\n",
       "<!-- 5304348568&#45;&gt;5304612736 -->\n",
       "<g class=\"edge\" id=\"edge6\">\n",
       "<title>5304348568-&gt;5304612736</title>\n",
       "<path d=\"M199.6266,-243.3664C204.973,-234.7052 211.1971,-224.6222 216.9676,-215.274\" fill=\"none\" stroke=\"#000000\"/>\n",
       "<polygon fill=\"#000000\" points=\"220.0432,-216.9547 222.3177,-206.6068 214.0866,-213.2778 220.0432,-216.9547\" stroke=\"#000000\"/>\n",
       "</g>\n",
       "<!-- 4967134544 -->\n",
       "<g class=\"node\" id=\"node8\">\n",
       "<title>4967134544</title>\n",
       "<polygon fill=\"none\" points=\"415.1724,-162.5 415.1724,-206.5 686.7554,-206.5 686.7554,-162.5 415.1724,-162.5\" stroke=\"#000000\"/>\n",
       "<text fill=\"#000000\" font-family=\"Times,serif\" font-size=\"14.00\" text-anchor=\"middle\" x=\"474.3052\" y=\"-180.3\">flatten_14: Flatten</text>\n",
       "<polyline fill=\"none\" points=\"533.438,-162.5 533.438,-206.5 \" stroke=\"#000000\"/>\n",
       "<text fill=\"#000000\" font-family=\"Times,serif\" font-size=\"14.00\" text-anchor=\"middle\" x=\"561.2725\" y=\"-191.3\">input:</text>\n",
       "<polyline fill=\"none\" points=\"533.438,-184.5 589.1069,-184.5 \" stroke=\"#000000\"/>\n",
       "<text fill=\"#000000\" font-family=\"Times,serif\" font-size=\"14.00\" text-anchor=\"middle\" x=\"561.2725\" y=\"-169.3\">output:</text>\n",
       "<polyline fill=\"none\" points=\"589.1069,-162.5 589.1069,-206.5 \" stroke=\"#000000\"/>\n",
       "<text fill=\"#000000\" font-family=\"Times,serif\" font-size=\"14.00\" text-anchor=\"middle\" x=\"637.9312\" y=\"-191.3\">(None, 498, 3)</text>\n",
       "<polyline fill=\"none\" points=\"589.1069,-184.5 686.7554,-184.5 \" stroke=\"#000000\"/>\n",
       "<text fill=\"#000000\" font-family=\"Times,serif\" font-size=\"14.00\" text-anchor=\"middle\" x=\"637.9312\" y=\"-169.3\">(None, 1494)</text>\n",
       "</g>\n",
       "<!-- 4967134152&#45;&gt;4967134544 -->\n",
       "<g class=\"edge\" id=\"edge7\">\n",
       "<title>4967134152-&gt;4967134544</title>\n",
       "<path d=\"M569.1325,-243.3664C566.5695,-235.0624 563.6032,-225.4514 560.8201,-216.4341\" fill=\"none\" stroke=\"#000000\"/>\n",
       "<polygon fill=\"#000000\" points=\"564.0805,-215.1299 557.787,-206.6068 557.3918,-217.1943 564.0805,-215.1299\" stroke=\"#000000\"/>\n",
       "</g>\n",
       "<!-- 4969322984 -->\n",
       "<g class=\"node\" id=\"node9\">\n",
       "<title>4969322984</title>\n",
       "<polygon fill=\"none\" points=\"175.9995,-81.5 175.9995,-125.5 585.9282,-125.5 585.9282,-81.5 175.9995,-81.5\" stroke=\"#000000\"/>\n",
       "<text fill=\"#000000\" font-family=\"Times,serif\" font-size=\"14.00\" text-anchor=\"middle\" x=\"262.3188\" y=\"-99.3\">concatenate_6: Concatenate</text>\n",
       "<polyline fill=\"none\" points=\"348.6382,-81.5 348.6382,-125.5 \" stroke=\"#000000\"/>\n",
       "<text fill=\"#000000\" font-family=\"Times,serif\" font-size=\"14.00\" text-anchor=\"middle\" x=\"376.4727\" y=\"-110.3\">input:</text>\n",
       "<polyline fill=\"none\" points=\"348.6382,-103.5 404.3071,-103.5 \" stroke=\"#000000\"/>\n",
       "<text fill=\"#000000\" font-family=\"Times,serif\" font-size=\"14.00\" text-anchor=\"middle\" x=\"376.4727\" y=\"-88.3\">output:</text>\n",
       "<polyline fill=\"none\" points=\"404.3071,-81.5 404.3071,-125.5 \" stroke=\"#000000\"/>\n",
       "<text fill=\"#000000\" font-family=\"Times,serif\" font-size=\"14.00\" text-anchor=\"middle\" x=\"495.1177\" y=\"-110.3\">[(None, 1494), (None, 1494)]</text>\n",
       "<polyline fill=\"none\" points=\"404.3071,-103.5 585.9282,-103.5 \" stroke=\"#000000\"/>\n",
       "<text fill=\"#000000\" font-family=\"Times,serif\" font-size=\"14.00\" text-anchor=\"middle\" x=\"494.6313\" y=\"-88.3\">(None, 2988)</text>\n",
       "</g>\n",
       "<!-- 5304612736&#45;&gt;4969322984 -->\n",
       "<g class=\"edge\" id=\"edge8\">\n",
       "<title>5304612736-&gt;4969322984</title>\n",
       "<path d=\"M275.5858,-162.3664C293.1683,-152.5444 314.024,-140.894 332.5227,-130.5602\" fill=\"none\" stroke=\"#000000\"/>\n",
       "<polygon fill=\"#000000\" points=\"334.3666,-133.5393 341.3899,-125.6068 330.9528,-127.4282 334.3666,-133.5393\" stroke=\"#000000\"/>\n",
       "</g>\n",
       "<!-- 4967134544&#45;&gt;4969322984 -->\n",
       "<g class=\"edge\" id=\"edge9\">\n",
       "<title>4967134544-&gt;4969322984</title>\n",
       "<path d=\"M504.5106,-162.3664C483.5218,-152.3658 458.5547,-140.4698 436.5767,-129.9979\" fill=\"none\" stroke=\"#000000\"/>\n",
       "<polygon fill=\"#000000\" points=\"437.8941,-126.7486 427.3609,-125.6068 434.8831,-133.068 437.8941,-126.7486\" stroke=\"#000000\"/>\n",
       "</g>\n",
       "<!-- 5304614696 -->\n",
       "<g class=\"node\" id=\"node10\">\n",
       "<title>5304614696</title>\n",
       "<polygon fill=\"none\" points=\"252.4355,-.5 252.4355,-44.5 509.4922,-44.5 509.4922,-.5 252.4355,-.5\" stroke=\"#000000\"/>\n",
       "<text fill=\"#000000\" font-family=\"Times,serif\" font-size=\"14.00\" text-anchor=\"middle\" x=\"307.8052\" y=\"-18.3\">dense_11: Dense</text>\n",
       "<polyline fill=\"none\" points=\"363.1748,-.5 363.1748,-44.5 \" stroke=\"#000000\"/>\n",
       "<text fill=\"#000000\" font-family=\"Times,serif\" font-size=\"14.00\" text-anchor=\"middle\" x=\"391.0093\" y=\"-29.3\">input:</text>\n",
       "<polyline fill=\"none\" points=\"363.1748,-22.5 418.8438,-22.5 \" stroke=\"#000000\"/>\n",
       "<text fill=\"#000000\" font-family=\"Times,serif\" font-size=\"14.00\" text-anchor=\"middle\" x=\"391.0093\" y=\"-7.3\">output:</text>\n",
       "<polyline fill=\"none\" points=\"418.8438,-.5 418.8438,-44.5 \" stroke=\"#000000\"/>\n",
       "<text fill=\"#000000\" font-family=\"Times,serif\" font-size=\"14.00\" text-anchor=\"middle\" x=\"464.168\" y=\"-29.3\">(None, 2988)</text>\n",
       "<polyline fill=\"none\" points=\"418.8438,-22.5 509.4922,-22.5 \" stroke=\"#000000\"/>\n",
       "<text fill=\"#000000\" font-family=\"Times,serif\" font-size=\"14.00\" text-anchor=\"middle\" x=\"464.168\" y=\"-7.3\">(None, 1)</text>\n",
       "</g>\n",
       "<!-- 4969322984&#45;&gt;5304614696 -->\n",
       "<g class=\"edge\" id=\"edge10\">\n",
       "<title>4969322984-&gt;5304614696</title>\n",
       "<path d=\"M380.9639,-81.3664C380.9639,-73.1516 380.9639,-63.6579 380.9639,-54.7252\" fill=\"none\" stroke=\"#000000\"/>\n",
       "<polygon fill=\"#000000\" points=\"384.464,-54.6068 380.9639,-44.6068 377.464,-54.6069 384.464,-54.6068\" stroke=\"#000000\"/>\n",
       "</g>\n",
       "</g>\n",
       "</svg>"
      ],
      "text/plain": [
       "<IPython.core.display.SVG object>"
      ]
     },
     "execution_count": 77,
     "metadata": {},
     "output_type": "execute_result"
    }
   ],
   "source": [
    "embedding_layer = layers.Embedding(input_dim=vectors.shape[0],\n",
    "                                   output_dim=vectors.shape[1],\n",
    "                                   weights=[vectors],\n",
    "                                   trainable=False)\n",
    "\n",
    "i = layers.Input(shape=(x_train.shape[1],))\n",
    "text_embedding = embedding_layer(i)\n",
    "convs = []\n",
    "\n",
    "for layer_params in [(3, 5), (3, 4)]:\n",
    "    conv = layers.Conv1D(filters=layer_params[0],\n",
    "                         kernel_size=layer_params[1],\n",
    "                         activation='relu')(text_embedding)\n",
    "    conv = layers.MaxPooling1D(pool_size=2)(conv)\n",
    "    conv = layers.Flatten()(conv)\n",
    "    convs.append(conv)\n",
    "\n",
    "concat = layers.concatenate(convs)\n",
    "output = layers.Dense(1, activation='sigmoid')(concat)\n",
    "\n",
    "model = models.Model(inputs=[i], outputs=[output])\n",
    "\n",
    "model.compile(loss='binary_crossentropy',\n",
    "              optimizer='adam',\n",
    "              metrics=['binary_accuracy'])\n",
    "\n",
    "SVG(model_to_dot(model, show_shapes=True).create(prog='dot', format='svg'))"
   ]
  },
  {
   "cell_type": "code",
   "execution_count": 32,
   "metadata": {},
   "outputs": [
    {
     "name": "stdout",
     "output_type": "stream",
     "text": [
      "Train on 25000 samples, validate on 25000 samples\n",
      "Epoch 1/2\n",
      "25000/25000 [==============================] - 212s 8ms/step - loss: 0.4829 - binary_accuracy: 0.7528 - val_loss: 0.3629 - val_binary_accuracy: 0.8452\n",
      "Epoch 2/2\n",
      "25000/25000 [==============================] - 212s 8ms/step - loss: 0.3286 - binary_accuracy: 0.8633 - val_loss: 0.3317 - val_binary_accuracy: 0.8531\n"
     ]
    },
    {
     "data": {
      "text/plain": [
       "<keras.callbacks.History at 0x9b9d6efd0>"
      ]
     },
     "execution_count": 32,
     "metadata": {},
     "output_type": "execute_result"
    }
   ],
   "source": [
    "model.fit(x=x_train,\n",
    "          y=y_train,\n",
    "          validation_data=(x_test, y_test),\n",
    "          epochs=2)"
   ]
  },
  {
   "cell_type": "code",
   "execution_count": null,
   "metadata": {},
   "outputs": [],
   "source": []
  }
 ],
 "metadata": {
  "kernelspec": {
   "display_name": "data3",
   "language": "python",
   "name": "data3"
  },
  "language_info": {
   "codemirror_mode": {
    "name": "ipython",
    "version": 3
   },
   "file_extension": ".py",
   "mimetype": "text/x-python",
   "name": "python",
   "nbconvert_exporter": "python",
   "pygments_lexer": "ipython3",
   "version": "3.6.4"
  }
 },
 "nbformat": 4,
 "nbformat_minor": 2
}
